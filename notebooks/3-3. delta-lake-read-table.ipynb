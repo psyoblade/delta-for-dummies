{
 "cells": [
  {
   "cell_type": "markdown",
   "id": "d657b2f3-464b-46c8-96af-76521af7c5ab",
   "metadata": {},
   "source": [
    "# Reading a Delta Table\n",
    "### Reading a Delta Table with SQL"
   ]
  },
  {
   "cell_type": "code",
   "execution_count": 1,
   "id": "de619a5e-2b8b-4294-81b0-8ca435db8657",
   "metadata": {},
   "outputs": [],
   "source": [
    "from pyspark.sql import *\n",
    "from pyspark.sql.functions import *\n",
    "from pyspark.sql.types import *\n",
    "from IPython.display import display, display_pretty, clear_output, JSON\n",
    "\n",
    "from delta import *\n",
    "\n",
    "# 공통 데이터 위치\n",
    "home_jovyan = \"/home/jovyan\"\n",
    "work_data = f\"{home_jovyan}/work/data\"\n",
    "work_dir=!pwd\n",
    "work_dir = work_dir[0]\n",
    "warehouse_dir = f\"{work_dir}/spark-warehouse\"\n",
    "\n",
    "# Create spark session with hive enabled\n",
    "builder = (\n",
    "    SparkSession\n",
    "    .builder\n",
    "    .appName(\"pyspark-notebook\")\n",
    "    .config(\"spark.sql.session.timeZone\", \"Asia/Seoul\")\n",
    "    .config(\"spark.sql.extensions\", \"io.delta.sql.DeltaSparkSessionExtension\")\n",
    "    .config(\"spark.sql.catalog.spark_catalog\", \"org.apache.spark.sql.delta.catalog.DeltaCatalog\")\n",
    "    .config(\"spark.sql.catalogImplementation\", \"hive\")\n",
    "    .config(\"spark.sql.warehouse.dir\", warehouse_dir)\n",
    "    .enableHiveSupport()\n",
    ")"
   ]
  },
  {
   "cell_type": "code",
   "execution_count": 2,
   "id": "d5046ad9-8423-49f0-93d6-b650da098fa1",
   "metadata": {},
   "outputs": [],
   "source": [
    "# 델타 레이크 생성시에 반드시 `configure_spark_with_delta_pip` 구성을 통해 실행되어야 정상적인 델타 의존성이 로딩됩니다\n",
    "spark = configure_spark_with_delta_pip(builder).getOrCreate()"
   ]
  },
  {
   "cell_type": "code",
   "execution_count": 3,
   "id": "7a25c297-9f0c-4b52-8560-c598f181cfe9",
   "metadata": {},
   "outputs": [
    {
     "data": {
      "text/html": [
       "\n",
       "            <div>\n",
       "                <p><b>SparkSession - hive</b></p>\n",
       "                \n",
       "        <div>\n",
       "            <p><b>SparkContext</b></p>\n",
       "\n",
       "            <p><a href=\"http://172.30.99.141:4040\">Spark UI</a></p>\n",
       "\n",
       "            <dl>\n",
       "              <dt>Version</dt>\n",
       "                <dd><code>v3.2.1</code></dd>\n",
       "              <dt>Master</dt>\n",
       "                <dd><code>local[*]</code></dd>\n",
       "              <dt>AppName</dt>\n",
       "                <dd><code>pyspark-notebook</code></dd>\n",
       "            </dl>\n",
       "        </div>\n",
       "        \n",
       "            </div>\n",
       "        "
      ],
      "text/plain": [
       "<pyspark.sql.session.SparkSession at 0x7fe878befe20>"
      ]
     },
     "execution_count": 3,
     "metadata": {},
     "output_type": "execute_result"
    }
   ],
   "source": [
    "\n",
    "# 노트북에서 테이블 형태로 데이터 프레임 출력을 위한 설정을 합니다\n",
    "spark.conf.set(\"spark.sql.repl.eagerEval.enabled\", True) # display enabled\n",
    "spark.conf.set(\"spark.sql.repl.eagerEval.truncate\", 100) # display output columns size\n",
    "\n",
    "# 로컬 환경 최적화\n",
    "spark.conf.set(\"spark.sql.shuffle.partitions\", 5) # the number of partitions to use when shuffling data for joins or aggregations.\n",
    "spark.conf.set(\"spark.sql.streaming.forceDeleteTempCheckpointLocation\", \"true\")\n",
    "spark"
   ]
  },
  {
   "cell_type": "code",
   "execution_count": 22,
   "id": "06a7aba2-cbd8-412b-ad2f-18c73531c565",
   "metadata": {},
   "outputs": [],
   "source": [
    "def sql(queries, num_rows = 20):\n",
    "    for query in queries.split(\";\"):\n",
    "        spark.sql(query).show(num_rows, truncate=False)\n",
    "\n",
    "def ls(command):\n",
    "    !ls -al {command}\n",
    "\n",
    "def cat(filename):\n",
    "    !cat {filename}\n",
    "\n",
    "def grep(keyword, filename):\n",
    "    !grep -i {keyword} {filename}\n",
    "\n",
    "def grep_and_json(keyword, filename):\n",
    "    !grep {keyword} {filename} | python -m json.tool"
   ]
  },
  {
   "cell_type": "code",
   "execution_count": 5,
   "id": "efe2bb48-85f7-4294-8a95-d8e2a4ecba4e",
   "metadata": {
    "tags": []
   },
   "outputs": [
    {
     "name": "stdout",
     "output_type": "stream",
     "text": [
      "+---------+\n",
      "|namespace|\n",
      "+---------+\n",
      "|default  |\n",
      "|taxidb   |\n",
      "+---------+\n",
      "\n",
      "++\n",
      "||\n",
      "++\n",
      "++\n",
      "\n",
      "+---------+-----------+-----------+\n",
      "|namespace|tableName  |isTemporary|\n",
      "+---------+-----------+-----------+\n",
      "|taxidb   |greentaxis |false      |\n",
      "|taxidb   |yellowtaxis|false      |\n",
      "+---------+-----------+-----------+\n",
      "\n"
     ]
    }
   ],
   "source": [
    "sql(\"show databases ; use taxidb ; show tables\")"
   ]
  },
  {
   "cell_type": "code",
   "execution_count": 13,
   "id": "946a9169-3c05-4af3-8ae1-bca8aee23ef7",
   "metadata": {},
   "outputs": [
    {
     "name": "stdout",
     "output_type": "stream",
     "text": [
      "root\n",
      " |-- VendorID: long (nullable = true)\n",
      " |-- tpep_pickup_datetime: timestamp (nullable = true)\n",
      " |-- tpep_dropoff_datetime: timestamp (nullable = true)\n",
      " |-- passenger_count: double (nullable = true)\n",
      " |-- trip_distance: double (nullable = true)\n",
      " |-- RatecodeID: double (nullable = true)\n",
      " |-- store_and_fwd_flag: string (nullable = true)\n",
      " |-- PULocationID: long (nullable = true)\n",
      " |-- DOLocationID: long (nullable = true)\n",
      " |-- payment_type: long (nullable = true)\n",
      " |-- fare_amount: double (nullable = true)\n",
      " |-- extra: double (nullable = true)\n",
      " |-- mta_tax: double (nullable = true)\n",
      " |-- tip_amount: double (nullable = true)\n",
      " |-- tolls_amount: double (nullable = true)\n",
      " |-- improvement_surcharge: double (nullable = true)\n",
      " |-- total_amount: double (nullable = true)\n",
      " |-- congestion_surcharge: double (nullable = true)\n",
      " |-- airport_fee: double (nullable = true)\n",
      "\n"
     ]
    }
   ],
   "source": [
    "spark.read.parquet(f\"{work_data}/yellowtaxis.parquet\").printSchema()"
   ]
  },
  {
   "cell_type": "code",
   "execution_count": 18,
   "id": "afaef3d6-2685-4af5-9671-cf9b5b120f51",
   "metadata": {
    "tags": []
   },
   "outputs": [
    {
     "name": "stdout",
     "output_type": "stream",
     "text": [
      "++\n",
      "||\n",
      "++\n",
      "++\n",
      "\n"
     ]
    }
   ],
   "source": [
    "# DeltaTable API 수준에서 Drop 하는 API 제공되지 않음 - default 는 대소문자를 가리지 않음 (greentaxis)\n",
    "sql(f\"\"\"\n",
    "CREATE TABLE IF NOT EXISTS taxidb.YellowTaxis\n",
    "USING DELTA\n",
    "LOCATION '{work_data}/yellowTaxis.delta'\n",
    "\"\"\")"
   ]
  },
  {
   "cell_type": "code",
   "execution_count": 23,
   "id": "accc6582-0d65-48a1-b2b9-3bd822fb62b2",
   "metadata": {},
   "outputs": [
    {
     "name": "stdout",
     "output_type": "stream",
     "text": [
      "+-------+--------+-------------------+-----------------------+----------------+--------------+---------+-------------------+--------------+------------+----------+-----------+-----------+----------+-----+------+---------+-----------+--------------------+\n",
      "|RideId |VendorId|PickupTime         |DropTime               |PickupLocationId|DropLocationId|CabNumber|DriverLicenseNumber|PassengerCount|TripDistance|RatecodeId|PaymentType|TotalAmount|FareAmount|Extra|MtaTax|TipAmount|TollsAmount|ImprovementSurcharge|\n",
      "+-------+--------+-------------------+-----------------------+----------------+--------------+---------+-------------------+--------------+------------+----------+-----------+-----------+----------+-----+------+---------+-----------+--------------------+\n",
      "|9999995|1       |2019-11-01 09:00:00|2019-11-01 09:02:23.573|65              |71            |TAC304   |453987             |2             |4.5         |1         |1          |20.34      |15.0      |0.5  |0.4   |2.0      |2.0        |1.1                 |\n",
      "+-------+--------+-------------------+-----------------------+----------------+--------------+---------+-------------------+--------------+------------+----------+-----------+-----------+----------+-----+------+---------+-----------+--------------------+\n",
      "\n",
      "+----------------------------+-------------------------------------------------------------------------------+-------+\n",
      "|col_name                    |data_type                                                                      |comment|\n",
      "+----------------------------+-------------------------------------------------------------------------------+-------+\n",
      "|RideId                      |int                                                                            |       |\n",
      "|VendorId                    |int                                                                            |       |\n",
      "|PickupTime                  |timestamp                                                                      |       |\n",
      "|DropTime                    |timestamp                                                                      |       |\n",
      "|PickupLocationId            |int                                                                            |       |\n",
      "|DropLocationId              |int                                                                            |       |\n",
      "|CabNumber                   |string                                                                         |       |\n",
      "|DriverLicenseNumber         |string                                                                         |       |\n",
      "|PassengerCount              |int                                                                            |       |\n",
      "|TripDistance                |double                                                                         |       |\n",
      "|RatecodeId                  |int                                                                            |       |\n",
      "|PaymentType                 |int                                                                            |       |\n",
      "|TotalAmount                 |double                                                                         |       |\n",
      "|FareAmount                  |double                                                                         |       |\n",
      "|Extra                       |double                                                                         |       |\n",
      "|MtaTax                      |double                                                                         |       |\n",
      "|TipAmount                   |double                                                                         |       |\n",
      "|TollsAmount                 |double                                                                         |       |\n",
      "|ImprovementSurcharge        |double                                                                         |       |\n",
      "|                            |                                                                               |       |\n",
      "|# Partitioning              |                                                                               |       |\n",
      "|Not partitioned             |                                                                               |       |\n",
      "|                            |                                                                               |       |\n",
      "|# Detailed Table Information|                                                                               |       |\n",
      "|Name                        |taxidb.yellowtaxis                                                             |       |\n",
      "|Location                    |file:/home/jovyan/work/data/yellowTaxis.delta                                  |       |\n",
      "|Provider                    |delta                                                                          |       |\n",
      "|Owner                       |root                                                                           |       |\n",
      "|Table Properties            |[Type=EXTERNAL,delta.minReaderVersion=1,delta.minWriterVersion=2,external=true]|       |\n",
      "+----------------------------+-------------------------------------------------------------------------------+-------+\n",
      "\n"
     ]
    }
   ],
   "source": [
    "sql(\"select * from taxidb.yellowtaxis ; describe table formatted taxidb.yellowtaxis\", 50)"
   ]
  },
  {
   "cell_type": "code",
   "execution_count": 9,
   "id": "c8c1f347-cd05-48f1-bccc-2324e8af5294",
   "metadata": {},
   "outputs": [
    {
     "data": {
      "text/plain": [
       "<delta.tables.DeltaTable at 0x7f0cd1795130>"
      ]
     },
     "execution_count": 9,
     "metadata": {},
     "output_type": "execute_result"
    }
   ],
   "source": [
    "deltaTable = (\n",
    "    DeltaTable.createIfNotExists(spark)\n",
    "    .tableName(\"taxidb.greenTaxis\")\n",
    "    .addColumn(\"VendorId\", \"INT\", comment = \"Ride Vendor\")\n",
    "    .addColumn(\"lpep_pickup_datetime\", \"STRING\")\n",
    "    .addColumn(\"lpep_dropoff_datetime\", \"STRING\")\n",
    "    .addColumn(\"store_and_fwd_flag\", \"STRING\")\n",
    "    .addColumn(\"RatecodeID\", \"INT\", comment = \"Ref to RateCard\")\n",
    "    .addColumn(\"PULocationID\", \"INT\")\n",
    "    .addColumn(\"DOLocationID\", \"INT\")\n",
    "    .addColumn(\"passenger_count\", \"INT\")\n",
    "    .addColumn(\"trip_distance\", \"DOUBLE\")\n",
    "    .addColumn(\"fare_amount\", \"DOUBLE\")\n",
    "    .addColumn(\"extra\", \"DOUBLE\")\n",
    "    .addColumn(\"mta_tax\", \"DOUBLE\")\n",
    "    .addColumn(\"tip_amount\", \"DOUBLE\")\n",
    "    .addColumn(\"tolls_amount\", \"DOUBLE\")\n",
    "    .addColumn(\"ehail_fee\", \"STRING\")\n",
    "    .addColumn(\"improvement_surcharge\", \"DOUBLE\")\n",
    "    .addColumn(\"total_amount\", \"DOUBLE\")\n",
    "    .addColumn(\"payment_type\", \"INT\")\n",
    "    .addColumn(\"trip_type\", \"INT\")\n",
    "    .addColumn(\"congestion_surcharge\", \"DOUBLE\")\n",
    ")\n",
    "deltaTable.execute()"
   ]
  },
  {
   "cell_type": "code",
   "execution_count": 12,
   "id": "bbfe0f19-3149-439b-acdb-577eb259ff7c",
   "metadata": {},
   "outputs": [
    {
     "name": "stdout",
     "output_type": "stream",
     "text": [
      "total 4\n",
      "drwxrwxrwx 1 jovyan 1000  512 Aug 28 05:07 .\n",
      "drwxrwxrwx 1 jovyan 1000  512 Aug 28 05:07 ..\n",
      "-rwxrwxrwx 1 jovyan 1000 2346 Aug 28 05:07 00000000000000000000.json\n",
      "-rwxrwxrwx 1 jovyan 1000   28 Aug 28 05:07 .00000000000000000000.json.crc\n"
     ]
    }
   ],
   "source": [
    "ls(f\"{work_dir}/spark-warehouse/taxidb.db/greentaxis/_delta_log\")"
   ]
  },
  {
   "cell_type": "code",
   "execution_count": 14,
   "id": "03535a83-39e2-477d-ab31-0f6111d6bd29",
   "metadata": {},
   "outputs": [
    {
     "name": "stdout",
     "output_type": "stream",
     "text": [
      "root\n",
      " |-- VendorID: integer (nullable = true)\n",
      " |-- lpep_pickup_datetime: string (nullable = true)\n",
      " |-- lpep_dropoff_datetime: string (nullable = true)\n",
      " |-- store_and_fwd_flag: string (nullable = true)\n",
      " |-- RatecodeID: integer (nullable = true)\n",
      " |-- PULocationID: integer (nullable = true)\n",
      " |-- DOLocationID: integer (nullable = true)\n",
      " |-- passenger_count: integer (nullable = true)\n",
      " |-- trip_distance: double (nullable = true)\n",
      " |-- fare_amount: double (nullable = true)\n",
      " |-- extra: double (nullable = true)\n",
      " |-- mta_tax: double (nullable = true)\n",
      " |-- tip_amount: double (nullable = true)\n",
      " |-- tolls_amount: double (nullable = true)\n",
      " |-- ehail_fee: string (nullable = true)\n",
      " |-- improvement_surcharge: double (nullable = true)\n",
      " |-- total_amount: double (nullable = true)\n",
      " |-- payment_type: integer (nullable = true)\n",
      " |-- trip_type: integer (nullable = true)\n",
      " |-- congestion_surcharge: double (nullable = true)\n",
      "\n",
      "+--------+--------------------+---------------------+------------------+----------+------------+------------+---------------+-------------+-----------+-----+-------+----------+------------+---------+---------------------+------------+------------+---------+--------------------+\n",
      "|VendorID|lpep_pickup_datetime|lpep_dropoff_datetime|store_and_fwd_flag|RatecodeID|PULocationID|DOLocationID|passenger_count|trip_distance|fare_amount|extra|mta_tax|tip_amount|tolls_amount|ehail_fee|improvement_surcharge|total_amount|payment_type|trip_type|congestion_surcharge|\n",
      "+--------+--------------------+---------------------+------------------+----------+------------+------------+---------------+-------------+-----------+-----+-------+----------+------------+---------+---------------------+------------+------------+---------+--------------------+\n",
      "|1       |2019-12-01 00:09:45 |2019-12-01 00:10:59  |N                 |1         |145         |145         |1              |0.0          |3.0        |0.5  |0.5    |0.0       |0.0         |null     |0.3                  |4.3         |2           |1        |0.0                 |\n",
      "+--------+--------------------+---------------------+------------------+----------+------------+------------+---------------+-------------+-----------+-----+-------+----------+------------+---------+---------------------+------------+------------+---------+--------------------+\n",
      "only showing top 1 row\n",
      "\n"
     ]
    }
   ],
   "source": [
    "csvGreenTaxi = spark.read.format(\"csv\").option(\"inferSchema\", True).option(\"header\", True).load(f\"{work_dir}/data/greenTaxis.csv\")\n",
    "csvGreenTaxi.printSchema()\n",
    "csvGreenTaxi.show(1, truncate=False)"
   ]
  },
  {
   "cell_type": "code",
   "execution_count": 25,
   "id": "ebfc98ed-804e-4aa5-9145-260d31c9fa9b",
   "metadata": {},
   "outputs": [
    {
     "name": "stdout",
     "output_type": "stream",
     "text": [
      "+---------+-----------+-----------+\n",
      "|namespace|tableName  |isTemporary|\n",
      "+---------+-----------+-----------+\n",
      "|taxidb   |greentaxis |false      |\n",
      "|taxidb   |yellowtaxis|false      |\n",
      "+---------+-----------+-----------+\n",
      "\n",
      "+--------------------+---------+-------+\n",
      "|col_name            |data_type|comment|\n",
      "+--------------------+---------+-------+\n",
      "|RideId              |int      |       |\n",
      "|VendorId            |int      |       |\n",
      "|PickupTime          |timestamp|       |\n",
      "|DropTime            |timestamp|       |\n",
      "|PickupLocationId    |int      |       |\n",
      "|DropLocationId      |int      |       |\n",
      "|CabNumber           |string   |       |\n",
      "|DriverLicenseNumber |string   |       |\n",
      "|PassengerCount      |int      |       |\n",
      "|TripDistance        |double   |       |\n",
      "|RatecodeId          |int      |       |\n",
      "|PaymentType         |int      |       |\n",
      "|TotalAmount         |double   |       |\n",
      "|FareAmount          |double   |       |\n",
      "|Extra               |double   |       |\n",
      "|MtaTax              |double   |       |\n",
      "|TipAmount           |double   |       |\n",
      "|TollsAmount         |double   |       |\n",
      "|ImprovementSurcharge|double   |       |\n",
      "|                    |         |       |\n",
      "+--------------------+---------+-------+\n",
      "only showing top 20 rows\n",
      "\n"
     ]
    }
   ],
   "source": [
    "sql(\"show tables ; desc yellowtaxis\")"
   ]
  },
  {
   "cell_type": "code",
   "execution_count": 30,
   "id": "4914497f-c674-4f21-9dce-8f7b759b56cb",
   "metadata": {},
   "outputs": [
    {
     "name": "stdout",
     "output_type": "stream",
     "text": [
      "+---------+-----------+\n",
      "|CabNumber|AverageFare|\n",
      "+---------+-----------+\n",
      "|TAC304   |15.0       |\n",
      "+---------+-----------+\n",
      "\n"
     ]
    }
   ],
   "source": [
    "sql(\"\"\"\n",
    "SELECT\n",
    "    CabNumber,\n",
    "    AVG(FareAmount) AS AverageFare\n",
    "FROM\n",
    "    taxidb.yellowtaxis\n",
    "GROUP BY\n",
    "    CabNumber\n",
    "HAVING\n",
    "    AVG(FareAmount) > 10\n",
    "ORDER BY\n",
    "    2 DESC\n",
    "LIMIT 5\n",
    "\"\"\")"
   ]
  },
  {
   "cell_type": "markdown",
   "id": "13e40701-203b-4626-a425-2078e9c6caf8",
   "metadata": {},
   "source": [
    "### Reading a Table with PySpark"
   ]
  },
  {
   "cell_type": "code",
   "execution_count": 14,
   "id": "8a888c8d-b5ea-42b3-9cc6-deefb332aeea",
   "metadata": {
    "tags": []
   },
   "outputs": [
    {
     "name": "stdout",
     "output_type": "stream",
     "text": [
      "+-------+--------+-------------------+-----------------------+----------------+--------------+---------+-------------------+--------------+------------+----------+-----------+-----------+----------+-----+------+---------+-----------+--------------------+\n",
      "|RideId |VendorId|PickupTime         |DropTime               |PickupLocationId|DropLocationId|CabNumber|DriverLicenseNumber|PassengerCount|TripDistance|RatecodeId|PaymentType|TotalAmount|FareAmount|Extra|MtaTax|TipAmount|TollsAmount|ImprovementSurcharge|\n",
      "+-------+--------+-------------------+-----------------------+----------------+--------------+---------+-------------------+--------------+------------+----------+-----------+-----------+----------+-----+------+---------+-----------+--------------------+\n",
      "|9999995|1       |2019-11-01 09:00:00|2019-11-01 09:02:23.573|65              |71            |TAC304   |453987             |2             |4.5         |1         |1          |20.34      |15.0      |0.5  |0.4   |2.0      |2.0        |1.1                 |\n",
      "+-------+--------+-------------------+-----------------------+----------------+--------------+---------+-------------------+--------------+------------+----------+-----------+-----------+----------+-----+------+---------+-----------+--------------------+\n",
      "\n"
     ]
    }
   ],
   "source": [
    "spark.read.format(\"delta\").load(f\"{work_data}/yellowtaxis.delta\").show(truncate=False)"
   ]
  },
  {
   "cell_type": "code",
   "execution_count": 31,
   "id": "4e920d4b-202a-4e29-af18-349fa9ff74f4",
   "metadata": {},
   "outputs": [
    {
     "name": "stdout",
     "output_type": "stream",
     "text": [
      "+-------+--------+-------------------+-----------------------+----------------+--------------+---------+-------------------+--------------+------------+----------+-----------+-----------+----------+-----+------+---------+-----------+--------------------+\n",
      "|RideId |VendorId|PickupTime         |DropTime               |PickupLocationId|DropLocationId|CabNumber|DriverLicenseNumber|PassengerCount|TripDistance|RatecodeId|PaymentType|TotalAmount|FareAmount|Extra|MtaTax|TipAmount|TollsAmount|ImprovementSurcharge|\n",
      "+-------+--------+-------------------+-----------------------+----------------+--------------+---------+-------------------+--------------+------------+----------+-----------+-----------+----------+-----+------+---------+-----------+--------------------+\n",
      "|9999995|1       |2019-11-01 09:00:00|2019-11-01 09:02:23.573|65              |71            |TAC304   |453987             |2             |4.5         |1         |1          |20.34      |15.0      |0.5  |0.4   |2.0      |2.0        |1.1                 |\n",
      "+-------+--------+-------------------+-----------------------+----------------+--------------+---------+-------------------+--------------+------------+----------+-----------+-----------+----------+-----+------+---------+-----------+--------------------+\n",
      "\n"
     ]
    }
   ],
   "source": [
    "yellow = spark.read.format(\"delta\").table(\"taxidb.yellowtaxis\")\n",
    "yellow.show(truncate=False)"
   ]
  },
  {
   "cell_type": "code",
   "execution_count": 39,
   "id": "036c5e59-dbfc-4e57-ae6b-54e2b7cf425e",
   "metadata": {},
   "outputs": [],
   "source": [
    "results = (\n",
    "    yellow.groupBy(\"CabNumber\")\n",
    "    .agg(avg(\"FareAmount\").alias(\"AverageFare\"))\n",
    "    .filter(col(\"AverageFare\") > 10)\n",
    "    .sort(col(\"AverageFare\").desc())\n",
    "    .take(5)\n",
    ")"
   ]
  },
  {
   "cell_type": "code",
   "execution_count": 42,
   "id": "cc751725-c852-401d-bc7e-c8de76b6f1f5",
   "metadata": {},
   "outputs": [
    {
     "data": {
      "text/plain": [
       "[Row(CabNumber='TAC304', AverageFare=15.0)]"
      ]
     },
     "execution_count": 42,
     "metadata": {},
     "output_type": "execute_result"
    }
   ],
   "source": [
    "[result for result in results]"
   ]
  },
  {
   "cell_type": "code",
   "execution_count": null,
   "id": "4da94d16-9027-4cce-b9fa-69de9c5958c4",
   "metadata": {},
   "outputs": [],
   "source": []
  }
 ],
 "metadata": {
  "kernelspec": {
   "display_name": "Python 3 (ipykernel)",
   "language": "python",
   "name": "python3"
  },
  "language_info": {
   "codemirror_mode": {
    "name": "ipython",
    "version": 3
   },
   "file_extension": ".py",
   "mimetype": "text/x-python",
   "name": "python",
   "nbconvert_exporter": "python",
   "pygments_lexer": "ipython3",
   "version": "3.9.12"
  }
 },
 "nbformat": 4,
 "nbformat_minor": 5
}
