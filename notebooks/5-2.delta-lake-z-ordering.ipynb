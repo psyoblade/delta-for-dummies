{
 "cells": [
  {
   "cell_type": "markdown",
   "id": "2aa727ab-1c39-48f7-b13c-582deb136463",
   "metadata": {
    "tags": []
   },
   "source": [
    "## 5-2. ZORDER BY\n"
   ]
  },
  {
   "cell_type": "code",
   "execution_count": 1,
   "id": "9879ddf1-1276-49d0-89b8-eec2b8df8025",
   "metadata": {},
   "outputs": [
    {
     "name": "stdout",
     "output_type": "stream",
     "text": [
      "/usr/lib/jvm/java-11-openjdk-amd64\n",
      "/usr/local/spark\n"
     ]
    }
   ],
   "source": [
    "import findspark\n",
    "findspark.init()\n",
    "\n",
    "import os\n",
    "print(os.environ['JAVA_HOME'])\n",
    "print(os.environ['SPARK_HOME'])"
   ]
  },
  {
   "cell_type": "code",
   "execution_count": 2,
   "id": "986ad10a-b2b6-4543-812e-b0f09f85b72c",
   "metadata": {
    "tags": []
   },
   "outputs": [],
   "source": [
    "from pyspark.sql import *\n",
    "from pyspark.sql.functions import *\n",
    "from pyspark.sql.types import *\n",
    "from IPython.display import display, display_pretty, clear_output, JSON\n",
    "\n",
    "from delta import *\n",
    "\n",
    "# 공통 데이터 위치\n",
    "home_jovyan = \"/home/jovyan\"\n",
    "work_data = f\"{home_jovyan}/work/data\"\n",
    "work_dir=!pwd\n",
    "work_dir = work_dir[0]\n",
    "warehouse_dir = f\"{work_dir}/spark-warehouse\"\n",
    "\n",
    "# Create spark session with hive enabled\n",
    "builder = (\n",
    "    SparkSession\n",
    "    .builder\n",
    "    .appName(\"pyspark-notebook\")\n",
    "    .config(\"spark.sql.session.timeZone\", \"Asia/Seoul\")\n",
    "    .config(\"spark.sql.extensions\", \"io.delta.sql.DeltaSparkSessionExtension\")\n",
    "    .config(\"spark.sql.catalog.spark_catalog\", \"org.apache.spark.sql.delta.catalog.DeltaCatalog\")\n",
    "    .config(\"spark.databricks.delta.retentionDurationCheck.enabled\", \"true\")\n",
    "    .config(\"spark.sql.catalogImplementation\", \"hive\")\n",
    "    .config(\"spark.sql.warehouse.dir\", warehouse_dir)\n",
    "    .enableHiveSupport()\n",
    ")"
   ]
  },
  {
   "cell_type": "code",
   "execution_count": 3,
   "id": "1b5b931d-1ee5-4394-960f-33f131d4d300",
   "metadata": {},
   "outputs": [],
   "source": [
    "# 델타 레이크 생성시에 반드시 `configure_spark_with_delta_pip` 구성을 통해 실행되어야 정상적인 델타 의존성이 로딩됩니다\n",
    "spark = configure_spark_with_delta_pip(builder).getOrCreate()"
   ]
  },
  {
   "cell_type": "code",
   "execution_count": 4,
   "id": "39abe029-89d4-473d-9f8c-e44146492879",
   "metadata": {},
   "outputs": [
    {
     "data": {
      "text/html": [
       "\n",
       "            <div>\n",
       "                <p><b>SparkSession - hive</b></p>\n",
       "                \n",
       "        <div>\n",
       "            <p><b>SparkContext</b></p>\n",
       "\n",
       "            <p><a href=\"http://172.31.95.65:4040\">Spark UI</a></p>\n",
       "\n",
       "            <dl>\n",
       "              <dt>Version</dt>\n",
       "                <dd><code>v3.2.1</code></dd>\n",
       "              <dt>Master</dt>\n",
       "                <dd><code>local[*]</code></dd>\n",
       "              <dt>AppName</dt>\n",
       "                <dd><code>pyspark-notebook</code></dd>\n",
       "            </dl>\n",
       "        </div>\n",
       "        \n",
       "            </div>\n",
       "        "
      ],
      "text/plain": [
       "<pyspark.sql.session.SparkSession at 0x7fba33e4b3d0>"
      ]
     },
     "execution_count": 4,
     "metadata": {},
     "output_type": "execute_result"
    }
   ],
   "source": [
    "# 노트북에서 테이블 형태로 데이터 프레임 출력을 위한 설정을 합니다\n",
    "spark.conf.set(\"spark.sql.repl.eagerEval.enabled\", True) # display enabled\n",
    "spark.conf.set(\"spark.sql.repl.eagerEval.truncate\", 100) # display output columns size\n",
    "\n",
    "# 로컬 환경 최적화\n",
    "spark.conf.set(\"spark.sql.shuffle.partitions\", 5) # the number of partitions to use when shuffling data for joins or aggregations.\n",
    "spark.conf.set(\"spark.sql.streaming.forceDeleteTempCheckpointLocation\", \"true\")\n",
    "spark.conf.set(\"spark.sql.decimalOperations.allowPrecisionLoss\", \"true\")\n",
    "spark"
   ]
  },
  {
   "cell_type": "code",
   "execution_count": 24,
   "id": "e57b61f7-1ee2-4a9a-bb31-3663bca1953d",
   "metadata": {},
   "outputs": [],
   "source": [
    "def show(queries, num_rows = 20):\n",
    "    for query in queries.split(\";\"):\n",
    "        spark.sql(query).show(num_rows, truncate=False)\n",
    "\n",
    "def sql(query):\n",
    "    return spark.sql(query)\n",
    "\n",
    "def history(dbName, tableName):\n",
    "    return spark.sql(\"describe history {}.{}\".format(dbName, tableName))\n",
    "\n",
    "def table(dbName, tableName):\n",
    "    return spark.read.format(\"delta\").table(\"{}.{}\".format(dbName, tableName))\n",
    "\n",
    "def describe(dbName, tableName, extended = True, num_rows = 20):\n",
    "    if extended:\n",
    "        show(\"describe extended {}.{}\".format(dbName, tableName), num_rows)\n",
    "    else:\n",
    "        show(\"describe {}.{}\".format(dbName, tableName), num_rows)\n",
    "\n",
    "def ls(target):\n",
    "    !ls -al {target}\n",
    "\n",
    "def ls_and_head(target, lineno):\n",
    "    !ls -al {target} | grep -v 'crc' | head -{lineno}\n",
    "\n",
    "def cat(filename):\n",
    "    !cat {filename}\n",
    "\n",
    "def grep(keyword, filename):\n",
    "    !grep -i {keyword} {filename}\n",
    "\n",
    "def grep_and_json(keyword, filename):\n",
    "    !grep {keyword} {filename} | python -m json.tool\n",
    "\n",
    "def grep_sed_json(keyword, lineno, filename):\n",
    "    !grep {keyword} {filename} | sed -n {lineno}p | python -m json.tool\n"
   ]
  },
  {
   "cell_type": "code",
   "execution_count": 13,
   "id": "faaf48d9-f6cc-4bb0-8b7c-17485ec65513",
   "metadata": {},
   "outputs": [],
   "source": [
    "from pyspark.sql import Row\n",
    "from pyspark.sql.types import StructField, StructType, StringType, IntegerType, DoubleType\n",
    "\n",
    "def dropAndRemoveTable(dbName, tableName):\n",
    "    location=\"/home/jovyan/work/spark-warehouse/{}\".format(tableName)\n",
    "    !rm -rf {location}\n",
    "    sql(\"DROP TABLE IF EXISTS {}.{}\".format(dbName, tableName))"
   ]
  },
  {
   "cell_type": "code",
   "execution_count": 15,
   "id": "55d8c1a5-dfe5-4312-9e40-0b17751be90f",
   "metadata": {},
   "outputs": [],
   "source": [
    "dbName=\"default\"\n",
    "tableName=\"pusan_popular_trip\"\n",
    "\n",
    "pusan_popular_trip = spark.read.format(\"parquet\").load(\"data/pusan_popular_trip\")\n",
    "pusan_popular_trip.write.option(\"overwrite\", True).format(\"delta\").saveAsTable(\"{}.{}\".format(dbName, tableName))"
   ]
  },
  {
   "cell_type": "code",
   "execution_count": 16,
   "id": "e28e9b69-edc2-4936-9131-2a6952722f7d",
   "metadata": {
    "tags": []
   },
   "outputs": [
    {
     "data": {
      "text/html": [
       "<table border='1'>\n",
       "<tr><th>namespace</th><th>tableName</th><th>isTemporary</th></tr>\n",
       "<tr><td>default</td><td>delta_v1</td><td>false</td></tr>\n",
       "<tr><td>default</td><td>delta_v2</td><td>false</td></tr>\n",
       "<tr><td>default</td><td>family</td><td>false</td></tr>\n",
       "<tr><td>default</td><td>pusan_popular_trip</td><td>false</td></tr>\n",
       "<tr><td>default</td><td>users</td><td>false</td></tr>\n",
       "</table>\n"
      ],
      "text/plain": [
       "+---------+------------------+-----------+\n",
       "|namespace|         tableName|isTemporary|\n",
       "+---------+------------------+-----------+\n",
       "|  default|          delta_v1|      false|\n",
       "|  default|          delta_v2|      false|\n",
       "|  default|            family|      false|\n",
       "|  default|pusan_popular_trip|      false|\n",
       "|  default|             users|      false|\n",
       "+---------+------------------+-----------+"
      ]
     },
     "execution_count": 16,
     "metadata": {},
     "output_type": "execute_result"
    }
   ],
   "source": [
    "sql(\"show tables\")"
   ]
  },
  {
   "cell_type": "code",
   "execution_count": 20,
   "id": "b68896b3-29d3-4ae2-bdb9-18a5668e2e5e",
   "metadata": {},
   "outputs": [
    {
     "data": {
      "text/html": [
       "<table border='1'>\n",
       "<tr><th>count(1)</th></tr>\n",
       "<tr><td>1956</td></tr>\n",
       "</table>\n"
      ],
      "text/plain": [
       "+--------+\n",
       "|count(1)|\n",
       "+--------+\n",
       "|    1956|\n",
       "+--------+"
      ]
     },
     "execution_count": 20,
     "metadata": {},
     "output_type": "execute_result"
    }
   ],
   "source": [
    "sql(\"select count(1) from {}.{}\".format(dbName, tableName))"
   ]
  },
  {
   "cell_type": "code",
   "execution_count": 46,
   "id": "a8cd7a1f-5fa0-48c8-be40-e505f8330daf",
   "metadata": {},
   "outputs": [
    {
     "name": "stdout",
     "output_type": "stream",
     "text": [
      "+--------------------------------------------------------------------------------------------------------------------------------------------------------------------------------------------------------------------------------------------------------------------------------------------------------------------------------------------------------------------------------------------------------------------------------------------------------------------------------------------------------------------------------------------------------------------------------------------------------------------------------+\n",
      "|plan                                                                                                                                                                                                                                                                                                                                                                                                                                                                                                                                                                                                                            |\n",
      "+--------------------------------------------------------------------------------------------------------------------------------------------------------------------------------------------------------------------------------------------------------------------------------------------------------------------------------------------------------------------------------------------------------------------------------------------------------------------------------------------------------------------------------------------------------------------------------------------------------------------------------+\n",
      "|== Physical Plan ==\\n*(1) Filter (isnotnull(id#5388) AND (id#5388 = 281))\\n+- *(1) ColumnarToRow\\n   +- FileScan parquet default.pusan_popular_trip[category#5387,id#5388,name#5389,address#5390,naddress#5391,tel#5392,tag#5393,exp#5394] Batched: true, DataFilters: [isnotnull(id#5388), (id#5388 = 281)], Format: Parquet, Location: PreparedDeltaFileIndex(1 paths)[file:/home/jovyan/work/spark-warehouse/pusan_popular_trip], PartitionFilters: [], PushedFilters: [IsNotNull(id), EqualTo(id,281)], ReadSchema: struct<category:int,id:int,name:string,address:string,naddress:string,tel:string,tag:string,exp:d...\\n\\n|\n",
      "+--------------------------------------------------------------------------------------------------------------------------------------------------------------------------------------------------------------------------------------------------------------------------------------------------------------------------------------------------------------------------------------------------------------------------------------------------------------------------------------------------------------------------------------------------------------------------------------------------------------------------------+\n",
      "\n"
     ]
    }
   ],
   "source": [
    "tableName=\"pusan_popular_trip\"\n",
    "show(\"explain select * from {}.{} where id = 281\".format(dbName, tableName), 100)"
   ]
  },
  {
   "cell_type": "code",
   "execution_count": 31,
   "id": "0a2ce803-6f52-4a1b-8772-5377e1892c6a",
   "metadata": {},
   "outputs": [
    {
     "name": "stdout",
     "output_type": "stream",
     "text": [
      "+----------------------------+----------------------------------------------------------------+-------+\n",
      "|col_name                    |data_type                                                       |comment|\n",
      "+----------------------------+----------------------------------------------------------------+-------+\n",
      "|category                    |int                                                             |       |\n",
      "|id                          |int                                                             |       |\n",
      "|name                        |string                                                          |       |\n",
      "|address                     |string                                                          |       |\n",
      "|naddress                    |string                                                          |       |\n",
      "|tel                         |string                                                          |       |\n",
      "|tag                         |string                                                          |       |\n",
      "|exp                         |decimal(38,0)                                                   |       |\n",
      "|                            |                                                                |       |\n",
      "|# Partitioning              |                                                                |       |\n",
      "|Not partitioned             |                                                                |       |\n",
      "|                            |                                                                |       |\n",
      "|# Detailed Table Information|                                                                |       |\n",
      "|Name                        |default.pusan_popular_zorder                                    |       |\n",
      "|Location                    |file:/home/jovyan/work/spark-warehouse/pusan_popular_zorder     |       |\n",
      "|Provider                    |delta                                                           |       |\n",
      "|Owner                       |root                                                            |       |\n",
      "|Table Properties            |[Type=MANAGED,delta.minReaderVersion=1,delta.minWriterVersion=2]|       |\n",
      "+----------------------------+----------------------------------------------------------------+-------+\n",
      "\n",
      "+---+-------------------------------+\n",
      "|id |name                           |\n",
      "+---+-------------------------------+\n",
      "|281|통인시장                       |\n",
      "|345|타르틴                         |\n",
      "|383|해랑                           |\n",
      "|413|인도로 가는 길                 |\n",
      "|420|올데이 브런치 카페 B Meal(비밀)|\n",
      "+---+-------------------------------+\n",
      "only showing top 5 rows\n",
      "\n"
     ]
    }
   ],
   "source": [
    "describe(dbName, tableName)\n",
    "show(\"select id, name from {}.{}\".format(dbName, tableName), 5)"
   ]
  },
  {
   "cell_type": "code",
   "execution_count": 47,
   "id": "4dafcc1c-8db7-499e-8c25-1944aee7502b",
   "metadata": {},
   "outputs": [],
   "source": [
    "dbName=\"default\"\n",
    "tableName=\"pusan_popular_zorder\""
   ]
  },
  {
   "cell_type": "code",
   "execution_count": 27,
   "id": "a050bf3a-149c-45e8-b768-e74fe9967704",
   "metadata": {},
   "outputs": [],
   "source": [
    "pusan_popular_trip = spark.read.format(\"parquet\").load(\"data/pusan_popular_trip\")\n",
    "pusan_popular_trip.write.option(\"overwrite\", True).format(\"delta\").saveAsTable(\"{}.{}\".format(dbName, tableName))"
   ]
  },
  {
   "cell_type": "code",
   "execution_count": 28,
   "id": "ba15a632-e334-475d-9602-377035cf69a2",
   "metadata": {},
   "outputs": [
    {
     "data": {
      "text/html": [
       "<table border='1'>\n",
       "<tr><th>namespace</th><th>tableName</th><th>isTemporary</th></tr>\n",
       "<tr><td>default</td><td>delta_v1</td><td>false</td></tr>\n",
       "<tr><td>default</td><td>delta_v2</td><td>false</td></tr>\n",
       "<tr><td>default</td><td>family</td><td>false</td></tr>\n",
       "<tr><td>default</td><td>pusan_popular_trip</td><td>false</td></tr>\n",
       "<tr><td>default</td><td>pusan_popular_zorder</td><td>false</td></tr>\n",
       "<tr><td>default</td><td>users</td><td>false</td></tr>\n",
       "</table>\n"
      ],
      "text/plain": [
       "+---------+--------------------+-----------+\n",
       "|namespace|           tableName|isTemporary|\n",
       "+---------+--------------------+-----------+\n",
       "|  default|            delta_v1|      false|\n",
       "|  default|            delta_v2|      false|\n",
       "|  default|              family|      false|\n",
       "|  default|  pusan_popular_trip|      false|\n",
       "|  default|pusan_popular_zorder|      false|\n",
       "|  default|               users|      false|\n",
       "+---------+--------------------+-----------+"
      ]
     },
     "execution_count": 28,
     "metadata": {},
     "output_type": "execute_result"
    }
   ],
   "source": [
    "sql(\"show tables\")"
   ]
  },
  {
   "cell_type": "code",
   "execution_count": 32,
   "id": "19d150b3-d17d-4728-98fa-9519cd3330ce",
   "metadata": {},
   "outputs": [
    {
     "name": "stdout",
     "output_type": "stream",
     "text": [
      "total 252\n",
      "drwxrwxrwx 1 jovyan 1000    512 Nov  5 06:58 .\n",
      "drwxrwxrwx 1 jovyan 1000    512 Nov  5 06:58 ..\n",
      "drwxrwxrwx 1 jovyan 1000    512 Nov  5 06:58 _delta_log\n",
      "-rwxrwxrwx 1 jovyan 1000 252567 Nov  5 06:58 part-00000-d635d5cc-6681-446b-a173-c39ab3285aef-c000.snappy.parquet\n",
      "-rwxrwxrwx 1 jovyan 1000   1984 Nov  5 06:58 .part-00000-d635d5cc-6681-446b-a173-c39ab3285aef-c000.snappy.parquet.crc\n"
     ]
    }
   ],
   "source": [
    "ls(\"./spark-warehouse/{}/\".format(tableName))"
   ]
  },
  {
   "cell_type": "code",
   "execution_count": 33,
   "id": "4df1901f-e9be-4ddb-a282-f188dacdf61c",
   "metadata": {},
   "outputs": [
    {
     "data": {
      "text/html": [
       "<table border='1'>\n",
       "<tr><th>path</th><th>metrics</th></tr>\n",
       "<tr><td>file:/home/jovyan/work/spark-warehouse/pusan_popular_zorder</td><td>{1, 1, {252567, 252567, 252567.0, 1, 252567}, {252567, 252567, 252567.0, 1, 252567}, 1, {all, {0,...</td></tr>\n",
       "</table>\n"
      ],
      "text/plain": [
       "+-----------------------------------------------------------+----------------------------------------------------------------------------------------------------+\n",
       "|                                                       path|                                                                                             metrics|\n",
       "+-----------------------------------------------------------+----------------------------------------------------------------------------------------------------+\n",
       "|file:/home/jovyan/work/spark-warehouse/pusan_popular_zorder|{1, 1, {252567, 252567, 252567.0, 1, 252567}, {252567, 252567, 252567.0, 1, 252567}, 1, {all, {0,...|\n",
       "+-----------------------------------------------------------+----------------------------------------------------------------------------------------------------+"
      ]
     },
     "execution_count": 33,
     "metadata": {},
     "output_type": "execute_result"
    }
   ],
   "source": [
    "sql(\"OPTIMIZE {}.{} ZORDER BY id, name\".format(dbName, tableName))"
   ]
  },
  {
   "cell_type": "code",
   "execution_count": 34,
   "id": "88599586-a0c3-4777-b882-e13447343626",
   "metadata": {},
   "outputs": [
    {
     "name": "stdout",
     "output_type": "stream",
     "text": [
      "total 504\n",
      "drwxrwxrwx 1 jovyan 1000    512 Nov  5 07:02 .\n",
      "drwxrwxrwx 1 jovyan 1000    512 Nov  5 06:58 ..\n",
      "drwxrwxrwx 1 jovyan 1000    512 Nov  5 07:02 _delta_log\n",
      "-rwxrwxrwx 1 jovyan 1000 252567 Nov  5 07:02 part-00000-90eddbb6-565e-4d34-a4c0-9ecd828e5637-c000.snappy.parquet\n",
      "-rwxrwxrwx 1 jovyan 1000   1984 Nov  5 07:02 .part-00000-90eddbb6-565e-4d34-a4c0-9ecd828e5637-c000.snappy.parquet.crc\n",
      "-rwxrwxrwx 1 jovyan 1000 252567 Nov  5 06:58 part-00000-d635d5cc-6681-446b-a173-c39ab3285aef-c000.snappy.parquet\n",
      "-rwxrwxrwx 1 jovyan 1000   1984 Nov  5 06:58 .part-00000-d635d5cc-6681-446b-a173-c39ab3285aef-c000.snappy.parquet.crc\n"
     ]
    }
   ],
   "source": [
    "ls(\"./spark-warehouse/{}/\".format(tableName))"
   ]
  },
  {
   "cell_type": "code",
   "execution_count": 44,
   "id": "7b6fa223-b229-46ee-ab41-37c3d89c5c2d",
   "metadata": {},
   "outputs": [
    {
     "name": "stdout",
     "output_type": "stream",
     "text": [
      "+------------------------------------------------------------------------------------------------------------------------------------------------------------------------------------------------------------------------------------------------------------------------------------------------------------------------------------------------------------------------------------------------------------------------------------------------------------------------------------------------------------------------------------------------------------------------------------------------------------------------------------+\n",
      "|plan                                                                                                                                                                                                                                                                                                                                                                                                                                                                                                                                                                                                                                |\n",
      "+------------------------------------------------------------------------------------------------------------------------------------------------------------------------------------------------------------------------------------------------------------------------------------------------------------------------------------------------------------------------------------------------------------------------------------------------------------------------------------------------------------------------------------------------------------------------------------------------------------------------------------+\n",
      "|== Physical Plan ==\\n*(1) Filter (isnotnull(id#5099) AND (id#5099 = 281))\\n+- *(1) ColumnarToRow\\n   +- FileScan parquet default.pusan_popular_zorder[category#5098,id#5099,name#5100,address#5101,naddress#5102,tel#5103,tag#5104,exp#5105] Batched: true, DataFilters: [isnotnull(id#5099), (id#5099 = 281)], Format: Parquet, Location: PreparedDeltaFileIndex(1 paths)[file:/home/jovyan/work/spark-warehouse/pusan_popular_zorder], PartitionFilters: [], PushedFilters: [IsNotNull(id), EqualTo(id,281)], ReadSchema: struct<category:int,id:int,name:string,address:string,naddress:string,tel:string,tag:string,exp:d...\\n\\n|\n",
      "+------------------------------------------------------------------------------------------------------------------------------------------------------------------------------------------------------------------------------------------------------------------------------------------------------------------------------------------------------------------------------------------------------------------------------------------------------------------------------------------------------------------------------------------------------------------------------------------------------------------------------------+\n",
      "\n"
     ]
    }
   ],
   "source": [
    "show(\"explain select * from {}.{} where id = 281\".format(dbName, tableName))"
   ]
  },
  {
   "cell_type": "code",
   "execution_count": 19,
   "id": "2cc29942-42b5-431e-bbf1-77105d040a46",
   "metadata": {},
   "outputs": [
    {
     "data": {
      "text/html": [
       "<table border='1'>\n",
       "<tr><th>path</th></tr>\n",
       "<tr><td>file:/home/jovyan/work/spark-warehouse/delta_v1</td></tr>\n",
       "</table>\n"
      ],
      "text/plain": [
       "+-----------------------------------------------+\n",
       "|                                           path|\n",
       "+-----------------------------------------------+\n",
       "|file:/home/jovyan/work/spark-warehouse/delta_v1|\n",
       "+-----------------------------------------------+"
      ]
     },
     "execution_count": 19,
     "metadata": {},
     "output_type": "execute_result"
    }
   ],
   "source": [
    "sql(\"VACUUM {}\".format(tableName))"
   ]
  },
  {
   "cell_type": "code",
   "execution_count": 20,
   "id": "b646e31f-7333-4800-9eba-b9f8c457d42b",
   "metadata": {},
   "outputs": [
    {
     "name": "stdout",
     "output_type": "stream",
     "text": [
      "total 4\n",
      "drwxrwxrwx 1 jovyan 1000 512 Oct 29  2024 .\n",
      "drwxrwxrwx 1 jovyan 1000 512 Oct 29 04:55 ..\n",
      "drwxrwxrwx 1 jovyan 1000 512 Oct 29 04:56 _delta_log\n",
      "-rwxrwxrwx 1 jovyan 1000 382 Oct 29 04:56 part-00000-0e13db32-fe48-4793-826e-df135f4e0762-c000.snappy.parquet\n",
      "-rwxrwxrwx 1 jovyan 1000  12 Oct 29 04:56 .part-00000-0e13db32-fe48-4793-826e-df135f4e0762-c000.snappy.parquet.crc\n",
      "-rwxrwxrwx 1 jovyan 1000 701 Oct 29 04:56 part-00001-e66155f1-5323-4090-ab29-c3c571193ed3-c000.snappy.parquet\n",
      "-rwxrwxrwx 1 jovyan 1000  16 Oct 29 04:56 .part-00001-e66155f1-5323-4090-ab29-c3c571193ed3-c000.snappy.parquet.crc\n"
     ]
    }
   ],
   "source": [
    "ls(\"./spark-warehouse/{}/\".format(tableName))"
   ]
  },
  {
   "cell_type": "code",
   "execution_count": 48,
   "id": "cc3ab874-ced1-4483-b987-11274065f753",
   "metadata": {},
   "outputs": [
    {
     "data": {
      "text/html": [
       "<table border='1'>\n",
       "<tr><th>version</th><th>timestamp</th><th>userId</th><th>userName</th><th>operation</th><th>operationParameters</th><th>job</th><th>notebook</th><th>clusterId</th><th>readVersion</th><th>isolationLevel</th><th>isBlindAppend</th><th>operationMetrics</th><th>userMetadata</th><th>engineInfo</th></tr>\n",
       "<tr><td>1</td><td>2024-11-05 16:02:05.926</td><td>null</td><td>null</td><td>OPTIMIZE</td><td>{predicate -&gt; [], zOrderBy -&gt; [&quot;id&quot;,&quot;name&quot;]}</td><td>null</td><td>null</td><td>null</td><td>0</td><td>SnapshotIsolation</td><td>false</td><td>{numRemovedFiles -&gt; 1, numRemovedBytes -&gt; 252567, p25FileSize -&gt; 252567, minFileSize -&gt; 252567, n...</td><td>null</td><td>Apache-Spark/3.2.1 Delta-Lake/2.0.0</td></tr>\n",
       "<tr><td>0</td><td>2024-11-05 15:58:39.034</td><td>null</td><td>null</td><td>CREATE TABLE AS SELECT</td><td>{isManaged -&gt; true, description -&gt; null, partitionBy -&gt; [], properties -&gt; {}}</td><td>null</td><td>null</td><td>null</td><td>null</td><td>Serializable</td><td>true</td><td>{numFiles -&gt; 1, numOutputRows -&gt; 1956, numOutputBytes -&gt; 252567}</td><td>null</td><td>Apache-Spark/3.2.1 Delta-Lake/2.0.0</td></tr>\n",
       "</table>\n"
      ],
      "text/plain": [
       "+-------+-----------------------+------+--------+----------------------+-----------------------------------------------------------------------------+----+--------+---------+-----------+-----------------+-------------+----------------------------------------------------------------------------------------------------+------------+-----------------------------------+\n",
       "|version|              timestamp|userId|userName|             operation|                                                          operationParameters| job|notebook|clusterId|readVersion|   isolationLevel|isBlindAppend|                                                                                    operationMetrics|userMetadata|                         engineInfo|\n",
       "+-------+-----------------------+------+--------+----------------------+-----------------------------------------------------------------------------+----+--------+---------+-----------+-----------------+-------------+----------------------------------------------------------------------------------------------------+------------+-----------------------------------+\n",
       "|      1|2024-11-05 16:02:05.926|  null|    null|              OPTIMIZE|                                 {predicate -> [], zOrderBy -> [\"id\",\"name\"]}|null|    null|     null|          0|SnapshotIsolation|        false|{numRemovedFiles -> 1, numRemovedBytes -> 252567, p25FileSize -> 252567, minFileSize -> 252567, n...|        null|Apache-Spark/3.2.1 Delta-Lake/2.0.0|\n",
       "|      0|2024-11-05 15:58:39.034|  null|    null|CREATE TABLE AS SELECT|{isManaged -> true, description -> null, partitionBy -> [], properties -> {}}|null|    null|     null|       null|     Serializable|         true|                                    {numFiles -> 1, numOutputRows -> 1956, numOutputBytes -> 252567}|        null|Apache-Spark/3.2.1 Delta-Lake/2.0.0|\n",
       "+-------+-----------------------+------+--------+----------------------+-----------------------------------------------------------------------------+----+--------+---------+-----------+-----------------+-------------+----------------------------------------------------------------------------------------------------+------------+-----------------------------------+"
      ]
     },
     "execution_count": 48,
     "metadata": {},
     "output_type": "execute_result"
    }
   ],
   "source": [
    "history(dbName, tableName)"
   ]
  }
 ],
 "metadata": {
  "kernelspec": {
   "display_name": "Python 3 (ipykernel)",
   "language": "python",
   "name": "python3"
  },
  "language_info": {
   "codemirror_mode": {
    "name": "ipython",
    "version": 3
   },
   "file_extension": ".py",
   "mimetype": "text/x-python",
   "name": "python",
   "nbconvert_exporter": "python",
   "pygments_lexer": "ipython3",
   "version": "3.9.12"
  }
 },
 "nbformat": 4,
 "nbformat_minor": 5
}
