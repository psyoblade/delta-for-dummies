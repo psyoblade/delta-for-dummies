{
 "cells": [
  {
   "cell_type": "markdown",
   "id": "d657b2f3-464b-46c8-96af-76521af7c5ab",
   "metadata": {},
   "source": [
    "# Upsert Data Using the MERGE Operation\n",
    "\n",
    "> 기 존재하는 레코드에 대해서는 업데이트를 수행하고, 존재하지 않는 경우 인서트를 수행"
   ]
  },
  {
   "cell_type": "code",
   "execution_count": 1,
   "id": "de619a5e-2b8b-4294-81b0-8ca435db8657",
   "metadata": {},
   "outputs": [],
   "source": [
    "from pyspark.sql import *\n",
    "from pyspark.sql.functions import *\n",
    "from pyspark.sql.types import *\n",
    "from IPython.display import display, display_pretty, clear_output, JSON\n",
    "\n",
    "from delta import *\n",
    "\n",
    "# 공통 데이터 위치\n",
    "home_jovyan = \"/home/jovyan\"\n",
    "work_data = f\"{home_jovyan}/work/data\"\n",
    "work_dir=!pwd\n",
    "work_dir = work_dir[0]\n",
    "warehouse_dir = f\"{work_dir}/spark-warehouse\"\n",
    "\n",
    "# Create spark session with hive enabled\n",
    "builder = (\n",
    "    SparkSession\n",
    "    .builder\n",
    "    .appName(\"pyspark-notebook\")\n",
    "    .config(\"spark.sql.session.timeZone\", \"Asia/Seoul\")\n",
    "    .config(\"spark.sql.extensions\", \"io.delta.sql.DeltaSparkSessionExtension\")\n",
    "    .config(\"spark.sql.catalog.spark_catalog\", \"org.apache.spark.sql.delta.catalog.DeltaCatalog\")\n",
    "    .config(\"spark.sql.catalogImplementation\", \"hive\")\n",
    "    .config(\"spark.sql.warehouse.dir\", warehouse_dir)\n",
    "    .enableHiveSupport()\n",
    ")"
   ]
  },
  {
   "cell_type": "code",
   "execution_count": 2,
   "id": "d5046ad9-8423-49f0-93d6-b650da098fa1",
   "metadata": {},
   "outputs": [],
   "source": [
    "# 델타 레이크 생성시에 반드시 `configure_spark_with_delta_pip` 구성을 통해 실행되어야 정상적인 델타 의존성이 로딩됩니다\n",
    "spark = configure_spark_with_delta_pip(builder).getOrCreate()"
   ]
  },
  {
   "cell_type": "code",
   "execution_count": 3,
   "id": "7a25c297-9f0c-4b52-8560-c598f181cfe9",
   "metadata": {},
   "outputs": [
    {
     "data": {
      "text/html": [
       "\n",
       "            <div>\n",
       "                <p><b>SparkSession - hive</b></p>\n",
       "                \n",
       "        <div>\n",
       "            <p><b>SparkContext</b></p>\n",
       "\n",
       "            <p><a href=\"http://172.20.180.121:4040\">Spark UI</a></p>\n",
       "\n",
       "            <dl>\n",
       "              <dt>Version</dt>\n",
       "                <dd><code>v3.2.1</code></dd>\n",
       "              <dt>Master</dt>\n",
       "                <dd><code>local[*]</code></dd>\n",
       "              <dt>AppName</dt>\n",
       "                <dd><code>pyspark-notebook</code></dd>\n",
       "            </dl>\n",
       "        </div>\n",
       "        \n",
       "            </div>\n",
       "        "
      ],
      "text/plain": [
       "<pyspark.sql.session.SparkSession at 0x7f42e7ea7e80>"
      ]
     },
     "execution_count": 3,
     "metadata": {},
     "output_type": "execute_result"
    }
   ],
   "source": [
    "\n",
    "# 노트북에서 테이블 형태로 데이터 프레임 출력을 위한 설정을 합니다\n",
    "spark.conf.set(\"spark.sql.repl.eagerEval.enabled\", True) # display enabled\n",
    "spark.conf.set(\"spark.sql.repl.eagerEval.truncate\", 100) # display output columns size\n",
    "\n",
    "# 로컬 환경 최적화\n",
    "spark.conf.set(\"spark.sql.shuffle.partitions\", 5) # the number of partitions to use when shuffling data for joins or aggregations.\n",
    "spark.conf.set(\"spark.sql.streaming.forceDeleteTempCheckpointLocation\", \"true\")\n",
    "spark"
   ]
  },
  {
   "cell_type": "code",
   "execution_count": 4,
   "id": "06a7aba2-cbd8-412b-ad2f-18c73531c565",
   "metadata": {},
   "outputs": [],
   "source": [
    "def sql(queries, num_rows = 20):\n",
    "    for query in queries.split(\";\"):\n",
    "        spark.sql(query).show(num_rows, truncate=False)\n",
    "\n",
    "def ls(command):\n",
    "    !ls -al {command}\n",
    "\n",
    "def cat(filename):\n",
    "    !cat {filename}\n",
    "\n",
    "def grep(keyword, filename):\n",
    "    !grep -i {keyword} {filename}\n",
    "\n",
    "def grep_and_json(keyword, filename):\n",
    "    !grep {keyword} {filename} | python -m json.tool\n",
    "\n",
    "def grep_sed_json(keyword, lineno, filename):\n",
    "    !grep {keyword} {filename} | sed -n {lineno}p | python -m json.tool"
   ]
  },
  {
   "cell_type": "code",
   "execution_count": 5,
   "id": "efe2bb48-85f7-4294-8a95-d8e2a4ecba4e",
   "metadata": {
    "tags": []
   },
   "outputs": [
    {
     "name": "stdout",
     "output_type": "stream",
     "text": [
      "+---------+\n",
      "|namespace|\n",
      "+---------+\n",
      "|default  |\n",
      "|taxidb   |\n",
      "+---------+\n",
      "\n",
      "++\n",
      "||\n",
      "++\n",
      "++\n",
      "\n",
      "+---------+------------------+-----------+\n",
      "|namespace|tableName         |isTemporary|\n",
      "+---------+------------------+-----------+\n",
      "|taxidb   |greentaxis        |false      |\n",
      "|taxidb   |yellowtaxis       |false      |\n",
      "|taxidb   |yellowtaxis_append|false      |\n",
      "+---------+------------------+-----------+\n",
      "\n"
     ]
    }
   ],
   "source": [
    "sql(\"show databases ; use taxidb ; show tables\")"
   ]
  },
  {
   "cell_type": "code",
   "execution_count": 11,
   "id": "946a9169-3c05-4af3-8ae1-bca8aee23ef7",
   "metadata": {},
   "outputs": [
    {
     "name": "stdout",
     "output_type": "stream",
     "text": [
      "+--------+\n",
      "|count(1)|\n",
      "+--------+\n",
      "|450625  |\n",
      "+--------+\n",
      "\n"
     ]
    }
   ],
   "source": [
    "sql(\"select count(1) from greentaxis\")"
   ]
  },
  {
   "cell_type": "code",
   "execution_count": 12,
   "id": "fce11512-ce4d-4d0e-9495-20cd87b0ce53",
   "metadata": {},
   "outputs": [
    {
     "name": "stdout",
     "output_type": "stream",
     "text": [
      "-rwxrwxrwx 1 jovyan 1000  2346 Aug 28 05:07 /home/jovyan/work/spark-warehouse/taxidb.db/greentaxis/_delta_log/00000000000000000000.json\n",
      "-rwxrwxrwx 1 jovyan 1000 15695 Aug 28 05:08 /home/jovyan/work/spark-warehouse/taxidb.db/greentaxis/_delta_log/00000000000000000001.json\n",
      "-rwxrwxrwx 1 jovyan 1000  4163 Aug 28 07:47 /home/jovyan/work/spark-warehouse/taxidb.db/greentaxis/_delta_log/00000000000000000002.json\n",
      "-rwxrwxrwx 1 jovyan 1000  2332 Aug 28 08:26 /home/jovyan/work/spark-warehouse/taxidb.db/greentaxis/_delta_log/00000000000000000003.json\n"
     ]
    }
   ],
   "source": [
    "ls(\"/home/jovyan/work/spark-warehouse/taxidb.db/greentaxis/_delta_log/*.json\")"
   ]
  },
  {
   "cell_type": "code",
   "execution_count": 13,
   "id": "afaef3d6-2685-4af5-9671-cf9b5b120f51",
   "metadata": {
    "tags": []
   },
   "outputs": [
    {
     "name": "stdout",
     "output_type": "stream",
     "text": [
      "+-------+-----------------------+------+--------+---------------------------------+------------------------------------------------------------------------------------------------------------------------+----+--------+---------+-----------+--------------+-------------+------------------------------------------------------------------------------------------------------------------------------------------------------------------------------------+------------+-----------------------------------+\n",
      "|version|timestamp              |userId|userName|operation                        |operationParameters                                                                                                     |job |notebook|clusterId|readVersion|isolationLevel|isBlindAppend|operationMetrics                                                                                                                                                                    |userMetadata|engineInfo                         |\n",
      "+-------+-----------------------+------+--------+---------------------------------+------------------------------------------------------------------------------------------------------------------------+----+--------+---------+-----------+--------------+-------------+------------------------------------------------------------------------------------------------------------------------------------------------------------------------------------+------------+-----------------------------------+\n",
      "|3      |2024-08-28 17:26:28.937|null  |null    |UPDATE                           |{predicate -> (((VendorId#2456 = 2) AND (RatecodeID#2460 = 6)) AND (DOLocationID#2462 = 193))}                          |null|null    |null     |2          |Serializable  |false        |{numRemovedFiles -> 1, numCopiedRows -> 46028, numAddedChangeFiles -> 0, executionTimeMs -> 1596, scanTimeMs -> 511, numAddedFiles -> 1, numUpdatedRows -> 1, rewriteTimeMs -> 1084}|null        |Apache-Spark/3.2.1 Delta-Lake/2.0.0|\n",
      "|2      |2024-08-28 16:47:08.534|null  |null    |DELETE                           |{predicate -> [\"((spark_catalog.taxidb.greentaxis.vendorid = 1) AND (spark_catalog.taxidb.greentaxis.ratecodeid = 6))\"]}|null|null    |null     |1          |Serializable  |false        |{numRemovedFiles -> 2, numCopiedRows -> 92531, numAddedChangeFiles -> 0, executionTimeMs -> 1604, numDeletedRows -> 2, scanTimeMs -> 433, numAddedFiles -> 2, rewriteTimeMs -> 1171}|null        |Apache-Spark/3.2.1 Delta-Lake/2.0.0|\n",
      "|1      |2024-08-28 14:08:52.189|null  |null    |CREATE OR REPLACE TABLE AS SELECT|{isManaged -> true, description -> null, partitionBy -> [], properties -> {}}                                           |null|null    |null     |0          |Serializable  |false        |{numFiles -> 10, numOutputRows -> 450627, numOutputBytes -> 9229678}                                                                                                                |null        |Apache-Spark/3.2.1 Delta-Lake/2.0.0|\n",
      "|0      |2024-08-28 14:07:33.917|null  |null    |CREATE TABLE                     |{isManaged -> true, description -> null, partitionBy -> [], properties -> {}}                                           |null|null    |null     |null       |Serializable  |true         |{}                                                                                                                                                                                  |null        |Apache-Spark/3.2.1 Delta-Lake/2.0.0|\n",
      "+-------+-----------------------+------+--------+---------------------------------+------------------------------------------------------------------------------------------------------------------------+----+--------+---------+-----------+--------------+-------------+------------------------------------------------------------------------------------------------------------------------------------------------------------------------------------+------------+-----------------------------------+\n",
      "\n",
      "+---------------------+---------+---------------+\n",
      "|col_name             |data_type|comment        |\n",
      "+---------------------+---------+---------------+\n",
      "|VendorId             |int      |Ride Vendor    |\n",
      "|lpep_pickup_datetime |string   |               |\n",
      "|lpep_dropoff_datetime|string   |               |\n",
      "|store_and_fwd_flag   |string   |               |\n",
      "|RatecodeID           |int      |Ref to RateCard|\n",
      "|PULocationID         |int      |               |\n",
      "|DOLocationID         |int      |               |\n",
      "|passenger_count      |int      |               |\n",
      "|trip_distance        |double   |               |\n",
      "|fare_amount          |double   |               |\n",
      "|extra                |double   |               |\n",
      "|mta_tax              |double   |               |\n",
      "|tip_amount           |double   |               |\n",
      "|tolls_amount         |double   |               |\n",
      "|ehail_fee            |string   |               |\n",
      "|improvement_surcharge|double   |               |\n",
      "|total_amount         |double   |               |\n",
      "|payment_type         |int      |               |\n",
      "|trip_type            |int      |               |\n",
      "|congestion_surcharge |double   |               |\n",
      "|                     |         |               |\n",
      "|# Partitioning       |         |               |\n",
      "|Not partitioned      |         |               |\n",
      "+---------------------+---------+---------------+\n",
      "\n"
     ]
    }
   ],
   "source": [
    "sql(\"describe history greentaxis ; describe greentaxis\", 30)"
   ]
  },
  {
   "cell_type": "code",
   "execution_count": 14,
   "id": "45b0c4d4-548d-4462-855f-c8dbe8e5df9f",
   "metadata": {},
   "outputs": [
    {
     "name": "stdout",
     "output_type": "stream",
     "text": [
      "+-------------------------------------------------------------------------------------------------------------------------------+--------+----------+------------+---------------+\n",
      "|filename_record_is_located                                                                                                     |VendorId|RatecodeID|DOLocationID|passenger_count|\n",
      "+-------------------------------------------------------------------------------------------------------------------------------+--------+----------+------------+---------------+\n",
      "|file:/home/jovyan/work/spark-warehouse/taxidb.db/greentaxis/part-00000-b43f38af-57c8-415c-ada4-c17fb8195df6-c000.snappy.parquet|2       |6         |193         |10             |\n",
      "|file:/home/jovyan/work/spark-warehouse/taxidb.db/greentaxis/part-00006-cb453028-6940-422f-8622-596782a99a75-c000.snappy.parquet|2       |6         |55          |1              |\n",
      "+-------------------------------------------------------------------------------------------------------------------------------+--------+----------+------------+---------------+\n",
      "\n"
     ]
    }
   ],
   "source": [
    "sql(\"\"\"\n",
    "SELECT\n",
    "    INPUT_FILE_NAME() as filename_record_is_located,\n",
    "    VendorId,\n",
    "    RatecodeID,\n",
    "    DOLocationID,\n",
    "    passenger_count\n",
    "FROM\n",
    "    taxidb.greentaxis\n",
    "WHERE\n",
    "    VendorId = 2 and RatecodeID = 6\n",
    "\"\"\")"
   ]
  },
  {
   "cell_type": "markdown",
   "id": "21733ce9-d513-43ef-aa28-752203521c53",
   "metadata": {},
   "source": [
    "* 삭제했던 2건의 레코드는 time travel 통해서 읽어와서 하나의 데이터 프레임을 만들어서 인서트\n",
    "* 업데이트 했던 1건의 레코드는 원래 값으로 돌리는 방식으로 업데이트"
   ]
  },
  {
   "cell_type": "code",
   "execution_count": 18,
   "id": "4b697357-4443-4147-8494-9f2386403b53",
   "metadata": {},
   "outputs": [],
   "source": [
    "# 현재 버전의 델타/스파크에서는 SQL 수준에서 Time Travel 이 되지 않아 API 통해서 실행\n",
    "version5 = spark.read.format(\"delta\").table(\"taxidb.greentaxis\")\n",
    "version1 = spark.read.format(\"delta\").option(\"versionAsOf\", \"1\").table(\"taxidb.greentaxis\")"
   ]
  },
  {
   "cell_type": "code",
   "execution_count": 21,
   "id": "69015d9c-3734-4d1b-bf42-65e232df265e",
   "metadata": {},
   "outputs": [
    {
     "name": "stdout",
     "output_type": "stream",
     "text": [
      "450625 450627\n"
     ]
    }
   ],
   "source": [
    "c5 = version5.count()\n",
    "c1 = version1.count()\n",
    "print(c5, c1)"
   ]
  },
  {
   "cell_type": "code",
   "execution_count": 28,
   "id": "f433394d-f4df-480b-aefd-4451a8bcb918",
   "metadata": {},
   "outputs": [
    {
     "name": "stdout",
     "output_type": "stream",
     "text": [
      "root\n",
      " |-- VendorId: integer (nullable = true)\n",
      " |-- lpep_pickup_datetime: string (nullable = true)\n",
      " |-- lpep_dropoff_datetime: string (nullable = true)\n",
      " |-- store_and_fwd_flag: string (nullable = true)\n",
      " |-- RatecodeID: integer (nullable = true)\n",
      " |-- PULocationID: integer (nullable = true)\n",
      " |-- DOLocationID: integer (nullable = true)\n",
      " |-- trip_distance: double (nullable = true)\n",
      " |-- fare_amount: double (nullable = true)\n",
      " |-- extra: double (nullable = true)\n",
      " |-- mta_tax: double (nullable = true)\n",
      " |-- tip_amount: double (nullable = true)\n",
      " |-- tolls_amount: double (nullable = true)\n",
      " |-- ehail_fee: string (nullable = true)\n",
      " |-- improvement_surcharge: string (nullable = true)\n",
      " |-- total_amount: double (nullable = true)\n",
      " |-- payment_type: double (nullable = true)\n",
      " |-- trip_type: integer (nullable = true)\n",
      " |-- congestion_surcharge: double (nullable = true)\n",
      " |-- passenger_count: double (nullable = true)\n",
      "\n",
      "+--------+--------------------+---------------------+------------------+----------+------------+------------+-------------+-----------+-----+-------+----------+------------+---------+---------------------+------------+------------+---------+--------------------+---------------+\n",
      "|VendorId|lpep_pickup_datetime|lpep_dropoff_datetime|store_and_fwd_flag|RatecodeID|PULocationID|DOLocationID|trip_distance|fare_amount|extra|mta_tax|tip_amount|tolls_amount|ehail_fee|improvement_surcharge|total_amount|payment_type|trip_type|congestion_surcharge|passenger_count|\n",
      "+--------+--------------------+---------------------+------------------+----------+------------+------------+-------------+-----------+-----+-------+----------+------------+---------+---------------------+------------+------------+---------+--------------------+---------------+\n",
      "|       2| 2019-12-20 14:38:21|  2019-12-20 14:38:28|                 N|         6|         193|         193|          0.0|        2.5|  0.0|    0.5|       0.0|         0.0|     null|                  0.3|         3.3|         2.0|        1|                 0.0|            1.0|\n",
      "|       1| 2019-12-12 14:01:31|  2019-12-12 14:14:25|                 N|         6|         243|         244|          1.0|        1.4|  3.5|    0.0|       0.5|         0.0|      0.0|                 null|         0.3|         4.3|        2|                 1.0|            0.0|\n",
      "|       1| 2019-12-31 12:48:57|  2019-12-31 12:49:03|                 N|         6|          31|          31|          1.0|        2.4|  2.5|    0.0|       0.5|         0.0|      0.0|                 null|         0.3|         3.3|        2|                 1.0|            0.0|\n",
      "+--------+--------------------+---------------------+------------------+----------+------------+------------+-------------+-----------+-----+-------+----------+------------+---------+---------------------+------------+------------+---------+--------------------+---------------+\n",
      "\n"
     ]
    }
   ],
   "source": [
    "update5 = spark.read.format(\"delta\").table(\"taxidb.greentaxis\").where(expr(\"vendorid = 2 and ratecodeid = 6 and passenger_count = 10\")).withColumn(\"passenger_count_mod\", expr(\"passenger_count / 10\").cast(\"int\")).drop(\"passenger_count\").withColumnRenamed(\"passenger_count_mod\", \"passenger_count\")\n",
    "update1 = spark.read.format(\"delta\").option(\"versionAsOf\", \"1\").table(\"taxidb.greentaxis\").where(expr(\"vendorid = 1 and ratecodeid = 6\"))\n",
    "update = update5.union(update1)\n",
    "update.printSchema()\n",
    "update.show()"
   ]
  },
  {
   "cell_type": "code",
   "execution_count": 54,
   "id": "709c72e6-198a-481c-9c73-022d59038ec4",
   "metadata": {
    "tags": []
   },
   "outputs": [
    {
     "name": "stdout",
     "output_type": "stream",
     "text": [
      "+--------+--------------------+---------------------+------------------+----------+------------+------------+---------------+-------------+-----------+-----+-------+----------+------------+---------+---------------------+------------+------------+---------+--------------------+\n",
      "|VendorId|lpep_pickup_datetime|lpep_dropoff_datetime|store_and_fwd_flag|RatecodeID|PULocationID|DOLocationID|passenger_count|trip_distance|fare_amount|extra|mta_tax|tip_amount|tolls_amount|ehail_fee|improvement_surcharge|total_amount|payment_type|trip_type|congestion_surcharge|\n",
      "+--------+--------------------+---------------------+------------------+----------+------------+------------+---------------+-------------+-----------+-----+-------+----------+------------+---------+---------------------+------------+------------+---------+--------------------+\n",
      "|2       |2019-12-19 17:12:23 |2019-12-19 17:19:32  |N                 |1         |181         |25          |1              |1.28         |7.0        |1.0  |0.5    |0.0       |0.0         |null     |0.3                  |8.8         |2           |1        |0.0                 |\n",
      "|2       |2019-12-19 17:49:24 |2019-12-19 17:53:10  |N                 |1         |196         |82          |1              |0.38         |4.0        |1.0  |0.5    |0.0       |0.0         |null     |0.3                  |5.8         |2           |1        |0.0                 |\n",
      "|2       |2019-12-19 17:04:35 |2019-12-19 17:21:09  |N                 |1         |66          |25          |2              |2.54         |13.0       |1.0  |0.5    |2.96      |0.0         |null     |0.3                  |17.76       |1           |1        |0.0                 |\n",
      "|2       |2019-12-19 17:37:17 |2019-12-19 18:02:00  |N                 |1         |33          |107         |2              |5.67         |22.0       |1.0  |0.5    |5.31      |0.0         |null     |0.3                  |31.86       |1           |1        |2.75                |\n",
      "|1       |2019-12-19 17:42:16 |2019-12-19 18:11:45  |N                 |1         |82          |95          |2              |2.8          |18.5       |1.0  |0.5    |0.0       |0.0         |null     |0.3                  |20.3        |1           |1        |0.0                 |\n",
      "|2       |2019-12-19 17:09:18 |2019-12-19 17:18:58  |N                 |1         |41          |151         |1              |0.89         |7.5        |1.0  |0.5    |2.32      |0.0         |null     |0.3                  |11.62       |1           |1        |0.0                 |\n",
      "|2       |2019-12-19 17:32:34 |2019-12-19 17:35:26  |N                 |1         |166         |166         |1              |0.48         |4.0        |1.0  |0.5    |0.0       |0.0         |null     |0.3                  |5.8         |2           |1        |0.0                 |\n",
      "|2       |2019-12-19 18:00:19 |2019-12-19 18:24:00  |N                 |1         |152         |142         |1              |3.24         |16.5       |1.0  |0.5    |3.16      |0.0         |null     |0.3                  |24.21       |1           |1        |2.75                |\n",
      "|2       |2019-12-19 16:27:13 |2019-12-19 16:31:54  |N                 |1         |82          |82          |1              |0.69         |5.0        |1.0  |0.5    |0.0       |0.0         |null     |0.3                  |6.8         |2           |1        |0.0                 |\n",
      "|2       |2019-12-19 17:37:11 |2019-12-19 17:41:54  |N                 |1         |129         |129         |5              |0.34         |5.0        |1.0  |0.5    |0.0       |0.0         |null     |0.3                  |6.8         |2           |1        |0.0                 |\n",
      "|2       |2019-12-19 17:22:42 |2019-12-19 17:38:53  |N                 |1         |223         |138         |1              |2.8          |13.0       |1.0  |0.5    |2.96      |0.0         |null     |0.3                  |17.76       |1           |1        |0.0                 |\n",
      "|2       |2019-12-19 17:25:10 |2019-12-19 17:41:34  |N                 |1         |244         |238         |1              |4.53         |15.5       |1.0  |0.5    |0.0       |0.0         |null     |0.3                  |20.05       |2           |1        |2.75                |\n",
      "|2       |2019-12-19 17:51:42 |2019-12-19 17:57:42  |N                 |1         |166         |166         |1              |0.86         |6.0        |1.0  |0.5    |2.34      |0.0         |null     |0.3                  |10.14       |1           |1        |0.0                 |\n",
      "|2       |2019-12-19 17:17:09 |2019-12-19 17:25:22  |N                 |1         |166         |152         |1              |0.98         |7.0        |1.0  |0.5    |0.0       |0.0         |null     |0.3                  |8.8         |2           |1        |0.0                 |\n",
      "|2       |2019-12-19 17:35:42 |2019-12-19 17:42:29  |N                 |1         |244         |243         |1              |1.06         |6.5        |1.0  |0.5    |0.0       |0.0         |null     |0.3                  |8.3         |2           |1        |0.0                 |\n",
      "|2       |2019-12-19 17:43:15 |2019-12-19 17:55:31  |N                 |1         |243         |247         |1              |1.57         |9.5        |1.0  |0.5    |0.0       |0.0         |null     |0.3                  |11.3        |2           |1        |0.0                 |\n",
      "|2       |2019-12-19 17:37:43 |2019-12-19 17:47:22  |N                 |1         |260         |157         |5              |1.11         |7.5        |1.0  |0.5    |1.86      |0.0         |null     |0.3                  |11.16       |1           |1        |0.0                 |\n",
      "|2       |2019-12-19 17:23:08 |2019-12-19 17:41:01  |N                 |1         |82          |138         |1              |4.1          |15.5       |1.0  |0.5    |3.46      |0.0         |null     |0.3                  |20.76       |1           |1        |0.0                 |\n",
      "|1       |2019-12-19 17:20:49 |2019-12-19 17:25:12  |N                 |1         |210         |210         |1              |0.6          |4.5        |1.0  |0.5    |1.55      |0.0         |null     |0.3                  |7.85        |1           |1        |0.0                 |\n",
      "|1       |2019-12-19 17:39:18 |2019-12-19 17:44:43  |N                 |1         |210         |210         |1              |0.6          |5.5        |1.0  |0.5    |1.45      |0.0         |null     |0.3                  |8.75        |1           |1        |0.0                 |\n",
      "+--------+--------------------+---------------------+------------------+----------+------------+------------+---------------+-------------+-----------+-----+-------+----------+------------+---------+---------------------+------------+------------+---------+--------------------+\n",
      "only showing top 20 rows\n",
      "\n"
     ]
    }
   ],
   "source": [
    "sql(\"select VendorId, lpep_pickup_datetime, lpep_dropoff_datetime, store_and_fwd_flag, RatecodeID, PULocationID, DOLocationID, passenger_count, trip_distance, fare_amount, extra, mta_tax, tip_amount, tolls_amount, ehail_fee, improvement_surcharge, total_amount, payment_type, trip_type, congestion_surcharge  from greentaxis\")"
   ]
  },
  {
   "cell_type": "code",
   "execution_count": 49,
   "id": "18309149-2aee-4777-b8bb-c0ea0787f2a7",
   "metadata": {},
   "outputs": [
    {
     "name": "stdout",
     "output_type": "stream",
     "text": [
      "+--------+\n",
      "|count(1)|\n",
      "+--------+\n",
      "|450625  |\n",
      "+--------+\n",
      "\n"
     ]
    }
   ],
   "source": [
    "sql(\"select count(1) from greentaxis\")"
   ]
  },
  {
   "cell_type": "code",
   "execution_count": 53,
   "id": "1db10d69-edb6-4ab7-8427-d00e4e4e3a13",
   "metadata": {},
   "outputs": [
    {
     "name": "stdout",
     "output_type": "stream",
     "text": [
      "+--------+----------+------------+------------+\n",
      "|vendorid|ratecodeid|PULocationID|DOLocationID|\n",
      "+--------+----------+------------+------------+\n",
      "|2       |6         |193         |193         |\n",
      "|2       |6         |108         |55          |\n",
      "+--------+----------+------------+------------+\n",
      "\n"
     ]
    }
   ],
   "source": [
    "sql(\"select vendorid, ratecodeid, PULocationID, DOLocationID from greentaxis where ratecodeid = 6\")"
   ]
  },
  {
   "cell_type": "markdown",
   "id": "182867dc-685e-48f1-8ee2-b26c9bfaa51c",
   "metadata": {},
   "source": [
    "> union 시에 컬럼의 순서가 다르면 타입이 다 꼬이는 문제가 생기므로 모든 컬럼의 순서와 타입을 맞추고 union 해야만 한다"
   ]
  },
  {
   "cell_type": "code",
   "execution_count": 62,
   "id": "c2054eb6-d09d-48d8-920b-208af945fbfb",
   "metadata": {},
   "outputs": [
    {
     "name": "stdout",
     "output_type": "stream",
     "text": [
      "root\n",
      " |-- VendorId: integer (nullable = true)\n",
      " |-- lpep_pickup_datetime: string (nullable = true)\n",
      " |-- lpep_dropoff_datetime: string (nullable = true)\n",
      " |-- store_and_fwd_flag: string (nullable = true)\n",
      " |-- RatecodeID: integer (nullable = true)\n",
      " |-- PULocationID: integer (nullable = true)\n",
      " |-- DOLocationID: integer (nullable = true)\n",
      " |-- trip_distance: double (nullable = true)\n",
      " |-- fare_amount: double (nullable = true)\n",
      " |-- extra: double (nullable = true)\n",
      " |-- mta_tax: double (nullable = true)\n",
      " |-- tip_amount: double (nullable = true)\n",
      " |-- tolls_amount: double (nullable = true)\n",
      " |-- ehail_fee: string (nullable = true)\n",
      " |-- improvement_surcharge: double (nullable = true)\n",
      " |-- total_amount: double (nullable = true)\n",
      " |-- payment_type: integer (nullable = true)\n",
      " |-- trip_type: integer (nullable = true)\n",
      " |-- congestion_surcharge: double (nullable = true)\n",
      " |-- passenger_count_mod: double (nullable = true)\n",
      "\n",
      "root\n",
      " |-- VendorId: integer (nullable = true)\n",
      " |-- lpep_pickup_datetime: string (nullable = true)\n",
      " |-- lpep_dropoff_datetime: string (nullable = true)\n",
      " |-- store_and_fwd_flag: string (nullable = true)\n",
      " |-- RatecodeID: integer (nullable = true)\n",
      " |-- PULocationID: integer (nullable = true)\n",
      " |-- DOLocationID: integer (nullable = true)\n",
      " |-- trip_distance: double (nullable = true)\n",
      " |-- fare_amount: double (nullable = true)\n",
      " |-- extra: double (nullable = true)\n",
      " |-- mta_tax: double (nullable = true)\n",
      " |-- tip_amount: double (nullable = true)\n",
      " |-- tolls_amount: double (nullable = true)\n",
      " |-- ehail_fee: string (nullable = true)\n",
      " |-- improvement_surcharge: double (nullable = true)\n",
      " |-- total_amount: double (nullable = true)\n",
      " |-- payment_type: integer (nullable = true)\n",
      " |-- trip_type: integer (nullable = true)\n",
      " |-- congestion_surcharge: double (nullable = true)\n",
      " |-- passenger_count_mod: integer (nullable = true)\n",
      "\n",
      "root\n",
      " |-- VendorId: integer (nullable = true)\n",
      " |-- lpep_pickup_datetime: string (nullable = true)\n",
      " |-- lpep_dropoff_datetime: string (nullable = true)\n",
      " |-- store_and_fwd_flag: string (nullable = true)\n",
      " |-- RatecodeID: integer (nullable = true)\n",
      " |-- PULocationID: integer (nullable = true)\n",
      " |-- DOLocationID: integer (nullable = true)\n",
      " |-- passenger_count: integer (nullable = true)\n",
      " |-- trip_distance: double (nullable = true)\n",
      " |-- fare_amount: double (nullable = true)\n",
      " |-- extra: double (nullable = true)\n",
      " |-- mta_tax: double (nullable = true)\n",
      " |-- tip_amount: double (nullable = true)\n",
      " |-- tolls_amount: double (nullable = true)\n",
      " |-- ehail_fee: string (nullable = true)\n",
      " |-- improvement_surcharge: double (nullable = true)\n",
      " |-- total_amount: double (nullable = true)\n",
      " |-- payment_type: integer (nullable = true)\n",
      " |-- trip_type: integer (nullable = true)\n",
      " |-- congestion_surcharge: double (nullable = true)\n",
      "\n",
      "+--------+--------------------+---------------------+------------------+----------+------------+------------+---------------+-------------+-----------+-----+-------+----------+------------+---------+---------------------+------------+------------+---------+--------------------+\n",
      "|VendorId|lpep_pickup_datetime|lpep_dropoff_datetime|store_and_fwd_flag|RatecodeID|PULocationID|DOLocationID|passenger_count|trip_distance|fare_amount|extra|mta_tax|tip_amount|tolls_amount|ehail_fee|improvement_surcharge|total_amount|payment_type|trip_type|congestion_surcharge|\n",
      "+--------+--------------------+---------------------+------------------+----------+------------+------------+---------------+-------------+-----------+-----+-------+----------+------------+---------+---------------------+------------+------------+---------+--------------------+\n",
      "|       2| 2019-12-20 14:38:21|  2019-12-20 14:38:28|                 N|         6|         193|         193|              1|          0.0|        2.5|  0.0|    0.5|       0.0|         0.0|     null|                  0.3|         3.3|           2|        1|                 0.0|\n",
      "|       1| 2019-12-12 14:01:31|  2019-12-12 14:14:25|                 N|         6|         243|         244|              1|          1.4|        3.5|  0.0|    0.5|       0.0|         0.0|     null|                  0.3|         4.3|           2|        1|                 0.0|\n",
      "|       1| 2019-12-31 12:48:57|  2019-12-31 12:49:03|                 N|         6|          31|          31|              1|          2.4|        2.5|  0.0|    0.5|       0.0|         0.0|     null|                  0.3|         3.3|           2|        1|                 0.0|\n",
      "+--------+--------------------+---------------------+------------------+----------+------------+------------+---------------+-------------+-----------+-----+-------+----------+------------+---------+---------------------+------------+------------+---------+--------------------+\n",
      "\n"
     ]
    }
   ],
   "source": [
    "df1 = spark.read.format(\"delta\").table(\"taxidb.greentaxis\").where(expr(\"vendorid = 2 and ratecodeid = 6 and passenger_count = 10\")).withColumn(\"passenger_count_mod\", expr(\"passenger_count / 10\")).drop(\"passenger_count\")\n",
    "df1.printSchema()\n",
    "\n",
    "df2 = spark.read.format(\"delta\").option(\"versionAsOf\", \"1\").table(\"taxidb.greentaxis\").where(expr(\"vendorid = 1 and ratecodeid = 6\")).withColumn(\"passenger_count_mod\", col(\"passenger_count\")).drop(\"passenger_count\")\n",
    "df2.printSchema()\n",
    "\n",
    "df2 = df1.union(df2).withColumn(\"passenger_count\", col(\"passenger_count_mod\").cast(\"int\")).drop(\"passenger_count_mod\")\n",
    "update = df2.selectExpr(\"VendorId\", \"lpep_pickup_datetime\", \"lpep_dropoff_datetime\", \"store_and_fwd_flag\", \"RatecodeID\", \"PULocationID\", \"DOLocationID\", \"passenger_count\", \"trip_distance\", \"fare_amount\", \"extra\", \"mta_tax\", \"tip_amount\", \"tolls_amount\", \"ehail_fee\", \"improvement_surcharge\", \"total_amount\", \"payment_type\", \"trip_type\", \"congestion_surcharge\")\n",
    "update.printSchema()\n",
    "update.show()"
   ]
  },
  {
   "cell_type": "markdown",
   "id": "024dadc5-140e-4113-9c29-fb01172d29a3",
   "metadata": {},
   "source": [
    "### The MERGE Statement\n",
    "> 기존 데이터로부터 가져온 데이터를 활용하여 MERGE 작업을 수행합니다"
   ]
  },
  {
   "cell_type": "code",
   "execution_count": 63,
   "id": "1f31e86f-d675-4f61-86e5-65cc35aff9bc",
   "metadata": {},
   "outputs": [
    {
     "name": "stdout",
     "output_type": "stream",
     "text": [
      "+--------+--------------------+---------------------+------------------+----------+------------+------------+---------------+-------------+-----------+-----+-------+----------+------------+---------+---------------------+------------+------------+---------+--------------------+\n",
      "|VendorId|lpep_pickup_datetime|lpep_dropoff_datetime|store_and_fwd_flag|RatecodeID|PULocationID|DOLocationID|passenger_count|trip_distance|fare_amount|extra|mta_tax|tip_amount|tolls_amount|ehail_fee|improvement_surcharge|total_amount|payment_type|trip_type|congestion_surcharge|\n",
      "+--------+--------------------+---------------------+------------------+----------+------------+------------+---------------+-------------+-----------+-----+-------+----------+------------+---------+---------------------+------------+------------+---------+--------------------+\n",
      "|2       |2019-12-20 14:38:21 |2019-12-20 14:38:28  |N                 |6         |193         |193         |1              |0.0          |2.5        |0.0  |0.5    |0.0       |0.0         |null     |0.3                  |3.3         |2           |1        |0.0                 |\n",
      "|1       |2019-12-12 14:01:31 |2019-12-12 14:14:25  |N                 |6         |243         |244         |1              |1.4          |3.5        |0.0  |0.5    |0.0       |0.0         |null     |0.3                  |4.3         |2           |1        |0.0                 |\n",
      "|1       |2019-12-31 12:48:57 |2019-12-31 12:49:03  |N                 |6         |31          |31          |1              |2.4          |2.5        |0.0  |0.5    |0.0       |0.0         |null     |0.3                  |3.3         |2           |1        |0.0                 |\n",
      "+--------+--------------------+---------------------+------------------+----------+------------+------------+---------------+-------------+-----------+-----+-------+----------+------------+---------+---------------------+------------+------------+---------+--------------------+\n",
      "\n",
      "+---------------------+---------+---------------+\n",
      "|col_name             |data_type|comment        |\n",
      "+---------------------+---------+---------------+\n",
      "|VendorId             |int      |Ride Vendor    |\n",
      "|lpep_pickup_datetime |string   |null           |\n",
      "|lpep_dropoff_datetime|string   |null           |\n",
      "|store_and_fwd_flag   |string   |null           |\n",
      "|RatecodeID           |int      |Ref to RateCard|\n",
      "|PULocationID         |int      |null           |\n",
      "|DOLocationID         |int      |null           |\n",
      "|passenger_count      |int      |null           |\n",
      "|trip_distance        |double   |null           |\n",
      "|fare_amount          |double   |null           |\n",
      "|extra                |double   |null           |\n",
      "|mta_tax              |double   |null           |\n",
      "|tip_amount           |double   |null           |\n",
      "|tolls_amount         |double   |null           |\n",
      "|ehail_fee            |string   |null           |\n",
      "|improvement_surcharge|double   |null           |\n",
      "|total_amount         |double   |null           |\n",
      "|payment_type         |int      |null           |\n",
      "|trip_type            |int      |null           |\n",
      "|congestion_surcharge |double   |null           |\n",
      "+---------------------+---------+---------------+\n",
      "\n"
     ]
    }
   ],
   "source": [
    "target = \"taxidb.greentaxis\"\n",
    "source = \"green_update\"\n",
    "update.createOrReplaceTempView(source)\n",
    "sql(f\"select * from {source}\")\n",
    "sql(f\"describe formatted {source}\")"
   ]
  },
  {
   "cell_type": "code",
   "execution_count": 64,
   "id": "3b1a6ffd-84e6-41ba-9480-ba68febe020d",
   "metadata": {},
   "outputs": [
    {
     "name": "stdout",
     "output_type": "stream",
     "text": [
      "++\n",
      "||\n",
      "++\n",
      "++\n",
      "\n"
     ]
    }
   ],
   "source": [
    "# merge 반환 데이터프레임에 실행 결과가 포함되므로, 결과 dataframe 을 출력하는 습관을 가지자\n",
    "sql(f\"\"\"\n",
    "MERGE INTO {target} AS target USING {source} AS source\n",
    "    ON target.VendorId = source.VendorId AND target.RatecodeID = source.RatecodeID AND target.PULocationID = source.PULocationID\n",
    "WHEN MATCHED\n",
    "    THEN UPDATE SET target.passenger_count = source.passenger_count\n",
    "WHEN NOT MATCHED\n",
    "    THEN INSERT (VendorId, lpep_pickup_datetime, lpep_dropoff_datetime, store_and_fwd_flag, RatecodeID, PULocationID, DOLocationID, passenger_count, trip_distance, fare_amount, extra, mta_tax, tip_amount, tolls_amount, ehail_fee, improvement_surcharge, total_amount, payment_type, trip_type, congestion_surcharge)\n",
    "    VALUES (VendorId, lpep_pickup_datetime, lpep_dropoff_datetime, store_and_fwd_flag, RatecodeID, PULocationID, DOLocationID, passenger_count, trip_distance, fare_amount, extra, mta_tax, tip_amount, tolls_amount, ehail_fee, improvement_surcharge, total_amount, payment_type, trip_type, congestion_surcharge)\n",
    "\"\"\")"
   ]
  },
  {
   "cell_type": "code",
   "execution_count": 68,
   "id": "0e39f153-ce1d-4087-89e0-642ef9d792d5",
   "metadata": {},
   "outputs": [
    {
     "name": "stdout",
     "output_type": "stream",
     "text": [
      "-rwxrwxrwx 1 jovyan 1000  2346 Aug 28 05:07 /home/jovyan/work/spark-warehouse/taxidb.db/greentaxis/_delta_log/00000000000000000000.json\n",
      "-rwxrwxrwx 1 jovyan 1000 15695 Aug 28 05:08 /home/jovyan/work/spark-warehouse/taxidb.db/greentaxis/_delta_log/00000000000000000001.json\n",
      "-rwxrwxrwx 1 jovyan 1000  4163 Aug 28 07:47 /home/jovyan/work/spark-warehouse/taxidb.db/greentaxis/_delta_log/00000000000000000002.json\n",
      "-rwxrwxrwx 1 jovyan 1000  2332 Aug 28 08:26 /home/jovyan/work/spark-warehouse/taxidb.db/greentaxis/_delta_log/00000000000000000003.json\n",
      "-rwxrwxrwx 1 jovyan 1000  4191 Aug 28 12:17 /home/jovyan/work/spark-warehouse/taxidb.db/greentaxis/_delta_log/00000000000000000004.json\n",
      "{\n",
      "    \"add\": {\n",
      "        \"path\": \"part-00000-af0a6542-7fa8-4be2-ab1d-f21c324d9669-c000.snappy.parquet\",\n",
      "        \"partitionValues\": {},\n",
      "        \"size\": 429144,\n",
      "        \"modificationTime\": 1724847433868,\n",
      "        \"dataChange\": true,\n",
      "        \"stats\": \"{\\\"numRecords\\\":19720,\\\"minValues\\\":{\\\"VendorId\\\":1,\\\"lpep_pickup_datetime\\\":\\\"2019-12-12 14:01:31\\\",\\\"lpep_dropoff_datetime\\\":\\\"2019-12-12 14:14:25\\\",\\\"store_and_fwd_flag\\\":\\\"N\\\",\\\"RatecodeID\\\":1,\\\"PULocationID\\\":3,\\\"DOLocationID\\\":1,\\\"passenger_count\\\":0,\\\"trip_distance\\\":0.0,\\\"fare_amount\\\":-57.12,\\\"extra\\\":-3.25,\\\"mta_tax\\\":-0.5,\\\"tip_amount\\\":0.0,\\\"tolls_amount\\\":0.0,\\\"improvement_surcharge\\\":-0.3,\\\"total_amount\\\":-57.92,\\\"payment_type\\\":1,\\\"trip_type\\\":1,\\\"congestion_surcharge\\\":0.0},\\\"maxValues\\\":{\\\"VendorId\\\":2,\\\"lpep_pickup_datetime\\\":\\\"2019-12-31 12:48:57\\\",\\\"lpep_dropoff_datetime\\\":\\\"2019-12-31 12:49:03\\\",\\\"store_and_fwd_flag\\\":\\\"Y\\\",\\\"RatecodeID\\\":6,\\\"PULocationID\\\":265,\\\"DOLocationID\\\":265,\\\"passenger_count\\\":6,\\\"trip_distance\\\":101.2,\\\"fare_amount\\\":265.5,\\\"extra\\\":4.5,\\\"mta_tax\\\":0.5,\\\"tip_amount\\\":111.0,\\\"tolls_amount\\\":30.0,\\\"improvement_surcharge\\\":0.3,\\\"total_amount\\\":298.04,\\\"payment_type\\\":4,\\\"trip_type\\\":2,\\\"congestion_surcharge\\\":2.75},\\\"nullCount\\\":{\\\"VendorId\\\":0,\\\"lpep_pickup_datetime\\\":0,\\\"lpep_dropoff_datetime\\\":0,\\\"store_and_fwd_flag\\\":0,\\\"RatecodeID\\\":0,\\\"PULocationID\\\":0,\\\"DOLocationID\\\":0,\\\"passenger_count\\\":0,\\\"trip_distance\\\":0,\\\"fare_amount\\\":0,\\\"extra\\\":0,\\\"mta_tax\\\":0,\\\"tip_amount\\\":0,\\\"tolls_amount\\\":0,\\\"ehail_fee\\\":19720,\\\"improvement_surcharge\\\":0,\\\"total_amount\\\":0,\\\"payment_type\\\":0,\\\"trip_type\\\":0,\\\"congestion_surcharge\\\":0}}\"\n",
      "    }\n",
      "}\n",
      "{\n",
      "    \"add\": {\n",
      "        \"path\": \"part-00001-99480997-2b89-45c6-affc-ec61f9efa360-c000.snappy.parquet\",\n",
      "        \"partitionValues\": {},\n",
      "        \"size\": 568745,\n",
      "        \"modificationTime\": 1724847433941,\n",
      "        \"dataChange\": true,\n",
      "        \"stats\": \"{\\\"numRecords\\\":26311,\\\"minValues\\\":{\\\"VendorId\\\":1,\\\"lpep_pickup_datetime\\\":\\\"2019-12-19 04:58:00\\\",\\\"lpep_dropoff_datetime\\\":\\\"2019-12-19 05:03:06\\\",\\\"store_and_fwd_flag\\\":\\\"N\\\",\\\"RatecodeID\\\":1,\\\"PULocationID\\\":1,\\\"DOLocationID\\\":1,\\\"passenger_count\\\":0,\\\"trip_distance\\\":0.0,\\\"fare_amount\\\":-125.0,\\\"extra\\\":-1.0,\\\"mta_tax\\\":-0.5,\\\"tip_amount\\\":0.0,\\\"tolls_amount\\\":0.0,\\\"improvement_surcharge\\\":-0.3,\\\"total_amount\\\":-125.0,\\\"payment_type\\\":1,\\\"trip_type\\\":1,\\\"congestion_surcharge\\\":0.0},\\\"maxValues\\\":{\\\"VendorId\\\":2,\\\"lpep_pickup_datetime\\\":\\\"2019-12-23 18:51:12\\\",\\\"lpep_dropoff_datetime\\\":\\\"2019-12-24 13:21:53\\\",\\\"store_and_fwd_flag\\\":\\\"Y\\\",\\\"RatecodeID\\\":6,\\\"PULocationID\\\":265,\\\"DOLocationID\\\":265,\\\"passenger_count\\\":8,\\\"trip_distance\\\":333.3,\\\"fare_amount\\\":350.0,\\\"extra\\\":4.5,\\\"mta_tax\\\":0.5,\\\"tip_amount\\\":96.0,\\\"tolls_amount\\\":24.74,\\\"improvement_surcharge\\\":0.3,\\\"total_amount\\\":350.3,\\\"payment_type\\\":4,\\\"trip_type\\\":2,\\\"congestion_surcharge\\\":2.75},\\\"nullCount\\\":{\\\"VendorId\\\":0,\\\"lpep_pickup_datetime\\\":0,\\\"lpep_dropoff_datetime\\\":0,\\\"store_and_fwd_flag\\\":0,\\\"RatecodeID\\\":0,\\\"PULocationID\\\":0,\\\"DOLocationID\\\":0,\\\"passenger_count\\\":0,\\\"trip_distance\\\":0,\\\"fare_amount\\\":0,\\\"extra\\\":0,\\\"mta_tax\\\":0,\\\"tip_amount\\\":0,\\\"tolls_amount\\\":0,\\\"ehail_fee\\\":26311,\\\"improvement_surcharge\\\":0,\\\"total_amount\\\":0,\\\"payment_type\\\":0,\\\"trip_type\\\":0,\\\"congestion_surcharge\\\":0}}\"\n",
      "    }\n",
      "}\n"
     ]
    }
   ],
   "source": [
    "ls(\"/home/jovyan/work/spark-warehouse/taxidb.db/greentaxis/_delta_log/*.json\")\n",
    "# cat(\"/home/jovyan/work/spark-warehouse/taxidb.db/greentaxis/_delta_log/00000000000000000004.json\")\n",
    "grep_sed_json(\"add\", 1, \"/home/jovyan/work/spark-warehouse/taxidb.db/greentaxis/_delta_log/00000000000000000004.json\")\n",
    "grep_sed_json(\"add\", 2, \"/home/jovyan/work/spark-warehouse/taxidb.db/greentaxis/_delta_log/00000000000000000004.json\")"
   ]
  },
  {
   "cell_type": "code",
   "execution_count": 69,
   "id": "d29a7020-5e85-4e22-8a67-a4d66909bdde",
   "metadata": {},
   "outputs": [
    {
     "name": "stdout",
     "output_type": "stream",
     "text": [
      "+--------+\n",
      "|count(1)|\n",
      "+--------+\n",
      "|450627  |\n",
      "+--------+\n",
      "\n"
     ]
    }
   ],
   "source": [
    "sql(\"select count(1) from greentaxis\")"
   ]
  },
  {
   "cell_type": "code",
   "execution_count": 71,
   "id": "accc6582-0d65-48a1-b2b9-3bd822fb62b2",
   "metadata": {},
   "outputs": [
    {
     "name": "stdout",
     "output_type": "stream",
     "text": [
      "+--------+----------+------------+------------+---------------+\n",
      "|vendorid|ratecodeid|PULocationID|DOLocationID|passenger_count|\n",
      "+--------+----------+------------+------------+---------------+\n",
      "|2       |6         |108         |55          |1              |\n",
      "|2       |6         |193         |193         |1              |\n",
      "|1       |6         |31          |31          |1              |\n",
      "|1       |6         |243         |244         |1              |\n",
      "+--------+----------+------------+------------+---------------+\n",
      "\n"
     ]
    }
   ],
   "source": [
    "# 삭제된 2개가 insert, 변경된 1개가 update\n",
    "sql(\"select vendorid, ratecodeid, PULocationID, DOLocationID, passenger_count from greentaxis where ratecodeid = 6\")"
   ]
  },
  {
   "cell_type": "markdown",
   "id": "1207db9d-7bff-4257-948c-fac1b886a70d",
   "metadata": {},
   "source": [
    "> 만약에 join 에 맞지 않는 상황이 발생하면 어떻게 되는가? 예를 들어 N개 이상 JOIN 되는 경우는?\n",
    "\n",
    "* yellowtaxis 테이블을 활용해서 merge 현상을 테스트 해보자"
   ]
  },
  {
   "cell_type": "code",
   "execution_count": 78,
   "id": "1c7c7ca0-7465-4058-b884-9bab3e58a2a3",
   "metadata": {},
   "outputs": [
    {
     "name": "stdout",
     "output_type": "stream",
     "text": [
      "+-----------------------------------------------------------------------------------------------------------------+-------+--------+-------------------+-----------------------+----------------+--------------+---------+-------------------+--------------+------------+----------+-----------+-----------+----------+-----+------+---------+-----------+--------------------+\n",
      "|input_file_name()                                                                                                |RideId |VendorId|PickupTime         |DropTime               |PickupLocationId|DropLocationId|CabNumber|DriverLicenseNumber|PassengerCount|TripDistance|RatecodeId|PaymentType|TotalAmount|FareAmount|Extra|MtaTax|TipAmount|TollsAmount|ImprovementSurcharge|\n",
      "+-----------------------------------------------------------------------------------------------------------------+-------+--------+-------------------+-----------------------+----------------+--------------+---------+-------------------+--------------+------------+----------+-----------+-----------+----------+-----+------+---------+-----------+--------------------+\n",
      "|file:/home/jovyan/work/data/yellowTaxis.delta/part-00000-1524066a-0eab-4861-b51a-09f3f9a89bc1-c000.snappy.parquet|9999995|1       |2019-11-01 09:00:00|2019-11-01 09:02:23.573|65              |71            |TAC304   |453987             |2             |4.5         |1         |1          |20.34      |15.0      |0.5  |0.4   |2.0      |2.0        |1.1                 |\n",
      "|file:/home/jovyan/work/data/yellowTaxis.delta/part-00000-8b1fab7b-6233-4f04-9101-8ef88c2ca848-c000.snappy.parquet|9999995|1       |2019-11-01 09:00:00|2019-11-01 09:02:23.573|65              |71            |TAC304   |453987             |2             |4.5         |1         |1          |20.34      |15.0      |0.5  |0.4   |2.0      |2.0        |1.1                 |\n",
      "|file:/home/jovyan/work/data/yellowTaxis.delta/part-00000-5bf4ae77-2c44-4231-856b-6ff5e1a5721c-c000.snappy.parquet|9999995|2       |2019-11-01 09:00:00|2019-11-01 09:02:23.573|65              |71            |TAC304   |453987             |2             |4.5         |1         |1          |20.34      |15.0      |0.5  |0.4   |2.0      |2.0        |1.1                 |\n",
      "|file:/home/jovyan/work/data/yellowTaxis.delta/part-00001-c0877dc7-d541-4470-970a-87f8440071ac-c000.snappy.parquet|9999995|2       |2019-11-01 09:00:00|2019-11-01 09:02:23.573|65              |71            |TAC304   |453987             |2             |4.5         |1         |1          |20.34      |15.0      |0.5  |0.4   |2.0      |2.0        |1.1                 |\n",
      "+-----------------------------------------------------------------------------------------------------------------+-------+--------+-------------------+-----------------------+----------------+--------------+---------+-------------------+--------------+------------+----------+-----------+-----------+----------+-----+------+---------+-----------+--------------------+\n",
      "\n"
     ]
    }
   ],
   "source": [
    "sql(\"select input_file_name(), * from yellowtaxis\")"
   ]
  },
  {
   "cell_type": "code",
   "execution_count": 80,
   "id": "1a7dce38-5138-461b-8e8c-4465a9ee8531",
   "metadata": {},
   "outputs": [
    {
     "name": "stdout",
     "output_type": "stream",
     "text": [
      "root\n",
      " |-- RideId: integer (nullable = false)\n",
      " |-- VendorId: integer (nullable = false)\n",
      " |-- PassengerCount: decimal(2,1) (nullable = false)\n",
      "\n",
      "+-------+--------+--------------+\n",
      "|RideId |VendorId|PassengerCount|\n",
      "+-------+--------+--------------+\n",
      "|9999995|1       |5.5           |\n",
      "+-------+--------+--------------+\n",
      "\n"
     ]
    }
   ],
   "source": [
    "df = spark.sql(\"select 9999995 as RideId, 1 as VendorId, 5.5 PassengerCount\")\n",
    "df.printSchema()\n",
    "df.createOrReplaceTempView(\"yellow_update\")\n",
    "sql(\"select * from yellow_update\")"
   ]
  },
  {
   "cell_type": "code",
   "execution_count": 82,
   "id": "36a08ff8-8e1a-4ef2-9153-73b7a62b7730",
   "metadata": {},
   "outputs": [
    {
     "data": {
      "text/html": [
       "<table border='1'>\n",
       "<tr><th></th></tr>\n",
       "</table>\n"
      ],
      "text/plain": [
       "++\n",
       "||\n",
       "++\n",
       "++"
      ]
     },
     "execution_count": 82,
     "metadata": {},
     "output_type": "execute_result"
    }
   ],
   "source": [
    "# source 테이블은 1개의 레코드이므로 insert 발생하지 않으므로 구현하지 않고, matching 되는 레코드는 2개이므로 결과의 PassengerCount 는?\n",
    "target = \"yellowtaxis\"\n",
    "source = \"yellow_update\"\n",
    "\n",
    "spark.sql(f\"\"\"\n",
    "MERGE INTO {target} AS target USING {source} AS source\n",
    "    ON target.RideId = source.RideId AND target.VendorId = source.VendorId\n",
    "WHEN MATCHED\n",
    "    THEN UPDATE SET target.PassengerCount = source.PassengerCount\n",
    "\"\"\")"
   ]
  },
  {
   "cell_type": "code",
   "execution_count": 86,
   "id": "1262b2f4-4d52-4fd1-97ae-f6351a4c357a",
   "metadata": {},
   "outputs": [
    {
     "name": "stdout",
     "output_type": "stream",
     "text": [
      "+-------+--------+-------------------+-----------------------+----------------+--------------+---------+-------------------+--------------+------------+----------+-----------+-----------+----------+-----+------+---------+-----------+--------------------+\n",
      "|RideId |VendorId|PickupTime         |DropTime               |PickupLocationId|DropLocationId|CabNumber|DriverLicenseNumber|PassengerCount|TripDistance|RatecodeId|PaymentType|TotalAmount|FareAmount|Extra|MtaTax|TipAmount|TollsAmount|ImprovementSurcharge|\n",
      "+-------+--------+-------------------+-----------------------+----------------+--------------+---------+-------------------+--------------+------------+----------+-----------+-----------+----------+-----+------+---------+-----------+--------------------+\n",
      "|9999995|1       |2019-11-01 09:00:00|2019-11-01 09:02:23.573|65              |71            |TAC304   |453987             |5             |4.5         |1         |1          |20.34      |15.0      |0.5  |0.4   |2.0      |2.0        |1.1                 |\n",
      "|9999995|2       |2019-11-01 09:00:00|2019-11-01 09:02:23.573|65              |71            |TAC304   |453987             |2             |4.5         |1         |1          |20.34      |15.0      |0.5  |0.4   |2.0      |2.0        |1.1                 |\n",
      "|9999995|2       |2019-11-01 09:00:00|2019-11-01 09:02:23.573|65              |71            |TAC304   |453987             |2             |4.5         |1         |1          |20.34      |15.0      |0.5  |0.4   |2.0      |2.0        |1.1                 |\n",
      "|9999995|1       |2019-11-01 09:00:00|2019-11-01 09:02:23.573|65              |71            |TAC304   |453987             |5             |4.5         |1         |1          |20.34      |15.0      |0.5  |0.4   |2.0      |2.0        |1.1                 |\n",
      "+-------+--------+-------------------+-----------------------+----------------+--------------+---------+-------------------+--------------+------------+----------+-----------+-----------+----------+-----+------+---------+-----------+--------------------+\n",
      "\n"
     ]
    }
   ],
   "source": [
    "# 결과는 2개가 매칭 되어서 2개가 업데이트 되었고, 더불어 5.5라는 double 값을 integer 에 업데이트 시에는 정수로 변경되어 저장된다\n",
    "sql(\"select * from yellowtaxis\")"
   ]
  },
  {
   "cell_type": "code",
   "execution_count": 92,
   "id": "bd71c1be-a044-4618-8770-76dc29844dc4",
   "metadata": {},
   "outputs": [
    {
     "name": "stdout",
     "output_type": "stream",
     "text": [
      "+-------+-----------------------+------+--------+------------+--------------------------------------------------------------------------------------------------------------------------------------------------------------------+----+--------+---------+-----------+--------------+-------------+-----------------------------------------------------------------------------------------------------------------------------------------------------------------------------------------------------------------------------------------------------------------------------------------------------------+------------+-----------------------------------+\n",
      "|version|timestamp              |userId|userName|operation   |operationParameters                                                                                                                                                 |job |notebook|clusterId|readVersion|isolationLevel|isBlindAppend|operationMetrics                                                                                                                                                                                                                                                                                           |userMetadata|engineInfo                         |\n",
      "+-------+-----------------------+------+--------+------------+--------------------------------------------------------------------------------------------------------------------------------------------------------------------+----+--------+---------+-----------+--------------+-------------+-----------------------------------------------------------------------------------------------------------------------------------------------------------------------------------------------------------------------------------------------------------------------------------------------------------+------------+-----------------------------------+\n",
      "|4      |2024-08-28 21:37:49.498|null  |null    |MERGE       |{predicate -> ((target.RideId = source.RideId) AND (target.VendorId = source.VendorId)), matchedPredicates -> [{\"actionType\":\"update\"}], notMatchedPredicates -> []}|null|null    |null     |3          |Serializable  |false        |{numTargetRowsCopied -> 0, numTargetRowsDeleted -> 0, numTargetFilesAdded -> 2, executionTimeMs -> 973, numTargetRowsInserted -> 0, scanTimeMs -> 434, numTargetRowsUpdated -> 2, numOutputRows -> 2, numTargetChangeFilesAdded -> 0, numSourceRows -> 1, numTargetFilesRemoved -> 2, rewriteTimeMs -> 466}|null        |Apache-Spark/3.2.1 Delta-Lake/2.0.0|\n",
      "|3      |2024-08-28 15:08:26.069|null  |null    |WRITE       |{mode -> Append, partitionBy -> []}                                                                                                                                 |null|null    |null     |2          |Serializable  |true         |{numFiles -> 2, numOutputRows -> 2, numOutputBytes -> 10504}                                                                                                                                                                                                                                               |null        |Apache-Spark/3.2.1 Delta-Lake/2.0.0|\n",
      "|2      |2024-08-28 15:03:16.028|null  |null    |WRITE       |{mode -> Append, partitionBy -> []}                                                                                                                                 |null|null    |null     |1          |Serializable  |true         |{numFiles -> 1, numOutputRows -> 1, numOutputBytes -> 5252}                                                                                                                                                                                                                                                |null        |Apache-Spark/3.2.1 Delta-Lake/2.0.0|\n",
      "|1      |2024-08-14 19:52:34.476|null  |null    |WRITE       |{mode -> Append, partitionBy -> []}                                                                                                                                 |null|null    |null     |0          |Serializable  |true         |{numFiles -> 1, numOutputRows -> 1, numOutputBytes -> 5252}                                                                                                                                                                                                                                                |null        |Apache-Spark/3.2.1 Delta-Lake/2.0.0|\n",
      "|0      |2024-08-14 19:52:14.912|null  |null    |CREATE TABLE|{isManaged -> false, description -> null, partitionBy -> [], properties -> {}}                                                                                      |null|null    |null     |null       |Serializable  |true         |{}                                                                                                                                                                                                                                                                                                         |null        |Apache-Spark/3.2.1 Delta-Lake/2.0.0|\n",
      "+-------+-----------------------+------+--------+------------+--------------------------------------------------------------------------------------------------------------------------------------------------------------------+----+--------+---------+-----------+--------------+-------------+-----------------------------------------------------------------------------------------------------------------------------------------------------------------------------------------------------------------------------------------------------------------------------------------------------------+------------+-----------------------------------+\n",
      "\n"
     ]
    },
    {
     "data": {
      "text/html": [
       "<table border='1'>\n",
       "<tr><th>passengercount</th><th>count</th></tr>\n",
       "<tr><td>2</td><td>4</td></tr>\n",
       "</table>\n"
      ],
      "text/plain": [
       "+--------------+-----+\n",
       "|passengercount|count|\n",
       "+--------------+-----+\n",
       "|             2|    4|\n",
       "+--------------+-----+"
      ]
     },
     "execution_count": 92,
     "metadata": {},
     "output_type": "execute_result"
    }
   ],
   "source": [
    "sql(\"describe history yellowtaxis\")\n",
    "spark.read.format(\"delta\").option(\"versionAsOf\", 3).table(\"yellowtaxis\").groupBy(\"passengercount\").count()"
   ]
  },
  {
   "cell_type": "code",
   "execution_count": 93,
   "id": "56ff5989-b659-4c8b-9a55-3ca3d6759121",
   "metadata": {},
   "outputs": [
    {
     "data": {
      "text/html": [
       "<table border='1'>\n",
       "<tr><th>passengercount</th><th>count</th></tr>\n",
       "<tr><td>5</td><td>2</td></tr>\n",
       "<tr><td>2</td><td>2</td></tr>\n",
       "</table>\n"
      ],
      "text/plain": [
       "+--------------+-----+\n",
       "|passengercount|count|\n",
       "+--------------+-----+\n",
       "|             5|    2|\n",
       "|             2|    2|\n",
       "+--------------+-----+"
      ]
     },
     "execution_count": 93,
     "metadata": {},
     "output_type": "execute_result"
    }
   ],
   "source": [
    "spark.read.format(\"delta\").option(\"versionAsOf\", 4).table(\"yellowtaxis\").groupBy(\"passengercount\").count()"
   ]
  },
  {
   "cell_type": "code",
   "execution_count": 9,
   "id": "74e9ed6e-dcbc-429f-8310-819b7d3d4cb2",
   "metadata": {},
   "outputs": [
    {
     "name": "stdout",
     "output_type": "stream",
     "text": [
      "+-------+------------+--------------------------------------------------------------------------------------------------------------------------------------------------------------------+-----------------------------------------------------------------------------------------------------------------------------------------------------------------------------------------------------------------------------------------------------------------------------------------------------------+\n",
      "|version|operation   |operationParameters                                                                                                                                                 |operationMetrics                                                                                                                                                                                                                                                                                           |\n",
      "+-------+------------+--------------------------------------------------------------------------------------------------------------------------------------------------------------------+-----------------------------------------------------------------------------------------------------------------------------------------------------------------------------------------------------------------------------------------------------------------------------------------------------------+\n",
      "|4      |MERGE       |{predicate -> ((target.RideId = source.RideId) AND (target.VendorId = source.VendorId)), matchedPredicates -> [{\"actionType\":\"update\"}], notMatchedPredicates -> []}|{numTargetRowsCopied -> 0, numTargetRowsDeleted -> 0, numTargetFilesAdded -> 2, executionTimeMs -> 973, numTargetRowsInserted -> 0, scanTimeMs -> 434, numTargetRowsUpdated -> 2, numOutputRows -> 2, numTargetChangeFilesAdded -> 0, numSourceRows -> 1, numTargetFilesRemoved -> 2, rewriteTimeMs -> 466}|\n",
      "|3      |WRITE       |{mode -> Append, partitionBy -> []}                                                                                                                                 |{numFiles -> 2, numOutputRows -> 2, numOutputBytes -> 10504}                                                                                                                                                                                                                                               |\n",
      "|2      |WRITE       |{mode -> Append, partitionBy -> []}                                                                                                                                 |{numFiles -> 1, numOutputRows -> 1, numOutputBytes -> 5252}                                                                                                                                                                                                                                                |\n",
      "|1      |WRITE       |{mode -> Append, partitionBy -> []}                                                                                                                                 |{numFiles -> 1, numOutputRows -> 1, numOutputBytes -> 5252}                                                                                                                                                                                                                                                |\n",
      "|0      |CREATE TABLE|{isManaged -> false, description -> null, partitionBy -> [], properties -> {}}                                                                                      |{}                                                                                                                                                                                                                                                                                                         |\n",
      "+-------+------------+--------------------------------------------------------------------------------------------------------------------------------------------------------------------+-----------------------------------------------------------------------------------------------------------------------------------------------------------------------------------------------------------------------------------------------------------------------------------------------------------+\n",
      "\n"
     ]
    }
   ],
   "source": [
    "spark.sql(\"describe history taxidb.yellowtaxis\").select(\"version\", \"operation\", \"operationParameters\", \"operationMetrics\").show(truncate=False)"
   ]
  },
  {
   "cell_type": "markdown",
   "id": "d3fc3e31-202a-4d41-b92b-85c002dc1523",
   "metadata": {},
   "source": [
    "```json\n",
    "// operationParameters\n",
    "{\n",
    "    predicate -> ((target.RideId = source.RideId) AND (target.VendorId = source.VendorId))\n",
    "    , matchedPredicates -> [{\"actionType\":\"update\"}]\n",
    "    , notMatchedPredicates -> []\n",
    "}\n",
    "\n",
    "// operationMetrics\n",
    "{\n",
    "    numTargetRowsCopied -> 0\n",
    "    , numTargetRowsDeleted -> 0\n",
    "    , numTargetFilesAdded -> 2\n",
    "    , executionTimeMs -> 973\n",
    "    , numTargetRowsInserted -> 0\n",
    "    , scanTimeMs -> 434\n",
    "    , numTargetRowsUpdated -> 2\n",
    "    , numOutputRows -> 2\n",
    "    , numTargetChangeFilesAdded -> 0\n",
    "    , numSourceRows -> 1\n",
    "    , numTargetFilesRemoved -> 2\n",
    "    , rewriteTimeMs -> 466\n",
    "}\n",
    "```"
   ]
  },
  {
   "cell_type": "code",
   "execution_count": 12,
   "id": "3423acee-149c-4c83-9b04-deebf5c58b86",
   "metadata": {},
   "outputs": [],
   "source": [
    "# MERGE 연산에서 발생하는 outer join 이해\n",
    "\n",
    "# a 테이블에 해당하는 데이터 생성\n",
    "data_a = [\n",
    "    (1, \"Alice\"),\n",
    "    (2, \"Bob\"),\n",
    "    (3, \"Charlie\")\n",
    "]\n",
    "\n",
    "# b 테이블에 해당하는 데이터 생성\n",
    "data_b = [\n",
    "    (2, \"Bob\"),\n",
    "    (3, \"Charlie\"),\n",
    "    (4, \"David\")\n",
    "]\n",
    "\n",
    "# a와 b DataFrame 생성\n",
    "df_a = spark.createDataFrame(data_a, [\"aid\", \"aname\"])\n",
    "df_b = spark.createDataFrame(data_b, [\"bid\", \"bname\"])\n",
    "\n",
    "# Temporary View로 등록하여 SQL 사용 가능하게 설정\n",
    "df_a.createOrReplaceTempView(\"a\")\n",
    "df_b.createOrReplaceTempView(\"b\")"
   ]
  },
  {
   "cell_type": "code",
   "execution_count": 18,
   "id": "aa948ab2-de50-479e-801b-4660666ce451",
   "metadata": {},
   "outputs": [
    {
     "name": "stdout",
     "output_type": "stream",
     "text": [
      "+---+-------+---+-------+\n",
      "|aid|  aname|bid|  bname|\n",
      "+---+-------+---+-------+\n",
      "|  2|    Bob|  2|    Bob|\n",
      "|  3|Charlie|  3|Charlie|\n",
      "+---+-------+---+-------+\n",
      "\n",
      "+----+-----+----+-----+\n",
      "| aid|aname| bid|bname|\n",
      "+----+-----+----+-----+\n",
      "|   1|Alice|null| null|\n",
      "|null| null|   4|David|\n",
      "+----+-----+----+-----+\n",
      "\n"
     ]
    }
   ],
   "source": [
    "# FULL OUTER JOIN을 사용한 SQL 쿼리\n",
    "inner_join = spark.sql(\"\"\"\n",
    "    SELECT *\n",
    "    FROM a\n",
    "     JOIN b\n",
    "    ON a.aid = b.bid\n",
    "\"\"\")\n",
    "\n",
    "# 결과 출력\n",
    "inner_join.show()\n",
    "\n",
    "# FULL OUTER JOIN을 사용한 SQL 쿼리\n",
    "outer_join = spark.sql(\"\"\"\n",
    "    SELECT *\n",
    "    FROM a\n",
    "    FULL OUTER JOIN b\n",
    "    ON a.aid = b.bid\n",
    "    WHERE a.aid IS NULL OR b.bid IS NULL\n",
    "\"\"\")\n",
    "\n",
    "# 결과 출력\n",
    "outer_join.show()"
   ]
  },
  {
   "cell_type": "code",
   "execution_count": 19,
   "id": "ae0254cd-46b0-4c7e-8f04-a447a09546bb",
   "metadata": {},
   "outputs": [
    {
     "name": "stdout",
     "output_type": "stream",
     "text": [
      "+---+-------+---+-------+\n",
      "|aid|  aname|bid|  bname|\n",
      "+---+-------+---+-------+\n",
      "|  2|    Bob|  2|    Bob|\n",
      "|  3|Charlie|  3|Charlie|\n",
      "+---+-------+---+-------+\n",
      "\n",
      "+---+-----+----+-----+\n",
      "|aid|aname| bid|bname|\n",
      "+---+-----+----+-----+\n",
      "|  1|Alice|null| null|\n",
      "+---+-----+----+-----+\n",
      "\n",
      "+----+-----+---+-----+\n",
      "| aid|aname|bid|bname|\n",
      "+----+-----+---+-----+\n",
      "|null| null|  4|David|\n",
      "+----+-----+---+-----+\n",
      "\n"
     ]
    }
   ],
   "source": [
    "# a, b 모두 있는 데이터 - UPDATe\n",
    "inner_join.show()\n",
    "\n",
    "# a 에만 있는 데이터 - INSERT\n",
    "outer_join.where(\"bid is null\").show()\n",
    "\n",
    "# b 에만 있는 데이터 - DELETE\n",
    "outer_join.where(\"aid is null\").show()"
   ]
  },
  {
   "cell_type": "code",
   "execution_count": null,
   "id": "c127a51a-f596-45c3-9a21-483df134f707",
   "metadata": {},
   "outputs": [],
   "source": []
  }
 ],
 "metadata": {
  "kernelspec": {
   "display_name": "Python 3 (ipykernel)",
   "language": "python",
   "name": "python3"
  },
  "language_info": {
   "codemirror_mode": {
    "name": "ipython",
    "version": 3
   },
   "file_extension": ".py",
   "mimetype": "text/x-python",
   "name": "python",
   "nbconvert_exporter": "python",
   "pygments_lexer": "ipython3",
   "version": "3.9.12"
  }
 },
 "nbformat": 4,
 "nbformat_minor": 5
}
