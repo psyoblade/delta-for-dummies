{
 "cells": [
  {
   "cell_type": "markdown",
   "id": "d657b2f3-464b-46c8-96af-76521af7c5ab",
   "metadata": {},
   "source": [
    "# Creating Delta Tables with the DataFrameWriter API"
   ]
  },
  {
   "cell_type": "code",
   "execution_count": 1,
   "id": "de619a5e-2b8b-4294-81b0-8ca435db8657",
   "metadata": {},
   "outputs": [],
   "source": [
    "from pyspark.sql import *\n",
    "from pyspark.sql.functions import *\n",
    "from pyspark.sql.types import *\n",
    "from IPython.display import display, display_pretty, clear_output, JSON\n",
    "\n",
    "from delta import *\n",
    "\n",
    "# 공통 데이터 위치\n",
    "home_jovyan = \"/home/jovyan\"\n",
    "work_data = f\"{home_jovyan}/work/data\"\n",
    "work_dir=!pwd\n",
    "work_dir = work_dir[0]\n",
    "warehouse_dir = f\"{work_dir}/spark-warehouse\"\n",
    "\n",
    "# Create spark session with hive enabled\n",
    "builder = (\n",
    "    SparkSession\n",
    "    .builder\n",
    "    .appName(\"pyspark-notebook\")\n",
    "    .config(\"spark.sql.session.timeZone\", \"Asia/Seoul\")\n",
    "    .config(\"spark.sql.extensions\", \"io.delta.sql.DeltaSparkSessionExtension\")\n",
    "    .config(\"spark.sql.catalog.spark_catalog\", \"org.apache.spark.sql.delta.catalog.DeltaCatalog\")\n",
    "    .config(\"spark.sql.catalogImplementation\", \"hive\")\n",
    "    .config(\"spark.sql.warehouse.dir\", warehouse_dir)\n",
    "    .enableHiveSupport()\n",
    ")"
   ]
  },
  {
   "cell_type": "code",
   "execution_count": 2,
   "id": "d5046ad9-8423-49f0-93d6-b650da098fa1",
   "metadata": {},
   "outputs": [],
   "source": [
    "# 델타 레이크 생성시에 반드시 `configure_spark_with_delta_pip` 구성을 통해 실행되어야 정상적인 델타 의존성이 로딩됩니다\n",
    "spark = configure_spark_with_delta_pip(builder).getOrCreate()"
   ]
  },
  {
   "cell_type": "code",
   "execution_count": 3,
   "id": "7a25c297-9f0c-4b52-8560-c598f181cfe9",
   "metadata": {},
   "outputs": [
    {
     "data": {
      "text/html": [
       "\n",
       "            <div>\n",
       "                <p><b>SparkSession - hive</b></p>\n",
       "                \n",
       "        <div>\n",
       "            <p><b>SparkContext</b></p>\n",
       "\n",
       "            <p><a href=\"http://172.30.99.141:4040\">Spark UI</a></p>\n",
       "\n",
       "            <dl>\n",
       "              <dt>Version</dt>\n",
       "                <dd><code>v3.2.1</code></dd>\n",
       "              <dt>Master</dt>\n",
       "                <dd><code>local[*]</code></dd>\n",
       "              <dt>AppName</dt>\n",
       "                <dd><code>pyspark-notebook</code></dd>\n",
       "            </dl>\n",
       "        </div>\n",
       "        \n",
       "            </div>\n",
       "        "
      ],
      "text/plain": [
       "<pyspark.sql.session.SparkSession at 0x7f0cd1847e20>"
      ]
     },
     "execution_count": 3,
     "metadata": {},
     "output_type": "execute_result"
    }
   ],
   "source": [
    "\n",
    "# 노트북에서 테이블 형태로 데이터 프레임 출력을 위한 설정을 합니다\n",
    "spark.conf.set(\"spark.sql.repl.eagerEval.enabled\", True) # display enabled\n",
    "spark.conf.set(\"spark.sql.repl.eagerEval.truncate\", 100) # display output columns size\n",
    "\n",
    "# 로컬 환경 최적화\n",
    "spark.conf.set(\"spark.sql.shuffle.partitions\", 5) # the number of partitions to use when shuffling data for joins or aggregations.\n",
    "spark.conf.set(\"spark.sql.streaming.forceDeleteTempCheckpointLocation\", \"true\")\n",
    "spark"
   ]
  },
  {
   "cell_type": "code",
   "execution_count": 4,
   "id": "06a7aba2-cbd8-412b-ad2f-18c73531c565",
   "metadata": {},
   "outputs": [],
   "source": [
    "def sql(queries):\n",
    "    for query in queries.split(\";\"):\n",
    "        spark.sql(query).show(truncate=False)\n",
    "\n",
    "def ls(command):\n",
    "    !ls -al {command}\n",
    "\n",
    "def cat(filename):\n",
    "    !cat {filename}\n",
    "\n",
    "def grep(keyword, filename):\n",
    "    !grep -i {keyword} {filename}\n",
    "\n",
    "def grep_and_json(keyword, filename):\n",
    "    !grep {keyword} {filename} | python -m json.tool"
   ]
  },
  {
   "cell_type": "code",
   "execution_count": 7,
   "id": "efe2bb48-85f7-4294-8a95-d8e2a4ecba4e",
   "metadata": {
    "tags": []
   },
   "outputs": [
    {
     "name": "stdout",
     "output_type": "stream",
     "text": [
      "+---------+\n",
      "|namespace|\n",
      "+---------+\n",
      "|default  |\n",
      "|taxidb   |\n",
      "+---------+\n",
      "\n",
      "++\n",
      "||\n",
      "++\n",
      "++\n",
      "\n",
      "+---------+-----------+-----------+\n",
      "|namespace|tableName  |isTemporary|\n",
      "+---------+-----------+-----------+\n",
      "|taxidb   |greentaxis |false      |\n",
      "|taxidb   |ratecard   |false      |\n",
      "|taxidb   |yellowtaxis|false      |\n",
      "+---------+-----------+-----------+\n",
      "\n"
     ]
    }
   ],
   "source": [
    "sql(\"show databases ; use taxidb ; show tables\")"
   ]
  },
  {
   "cell_type": "code",
   "execution_count": 8,
   "id": "afaef3d6-2685-4af5-9671-cf9b5b120f51",
   "metadata": {
    "tags": []
   },
   "outputs": [
    {
     "name": "stdout",
     "output_type": "stream",
     "text": [
      "++\n",
      "||\n",
      "++\n",
      "++\n",
      "\n"
     ]
    }
   ],
   "source": [
    "# DeltaTable API 수준에서 Drop 하는 API 제공되지 않음 - default 는 대소문자를 가리지 않음 (greentaxis)\n",
    "sql(\"\"\"\n",
    "DROP TABLE IF EXISTS taxidb.greenTaxis\n",
    "\"\"\")"
   ]
  },
  {
   "cell_type": "code",
   "execution_count": 9,
   "id": "c8c1f347-cd05-48f1-bccc-2324e8af5294",
   "metadata": {},
   "outputs": [
    {
     "data": {
      "text/plain": [
       "<delta.tables.DeltaTable at 0x7f0cd1795130>"
      ]
     },
     "execution_count": 9,
     "metadata": {},
     "output_type": "execute_result"
    }
   ],
   "source": [
    "deltaTable = (\n",
    "    DeltaTable.createIfNotExists(spark)\n",
    "    .tableName(\"taxidb.greenTaxis\")\n",
    "    .addColumn(\"VendorId\", \"INT\", comment = \"Ride Vendor\")\n",
    "    .addColumn(\"lpep_pickup_datetime\", \"STRING\")\n",
    "    .addColumn(\"lpep_dropoff_datetime\", \"STRING\")\n",
    "    .addColumn(\"store_and_fwd_flag\", \"STRING\")\n",
    "    .addColumn(\"RatecodeID\", \"INT\", comment = \"Ref to RateCard\")\n",
    "    .addColumn(\"PULocationID\", \"INT\")\n",
    "    .addColumn(\"DOLocationID\", \"INT\")\n",
    "    .addColumn(\"passenger_count\", \"INT\")\n",
    "    .addColumn(\"trip_distance\", \"DOUBLE\")\n",
    "    .addColumn(\"fare_amount\", \"DOUBLE\")\n",
    "    .addColumn(\"extra\", \"DOUBLE\")\n",
    "    .addColumn(\"mta_tax\", \"DOUBLE\")\n",
    "    .addColumn(\"tip_amount\", \"DOUBLE\")\n",
    "    .addColumn(\"tolls_amount\", \"DOUBLE\")\n",
    "    .addColumn(\"ehail_fee\", \"STRING\")\n",
    "    .addColumn(\"improvement_surcharge\", \"DOUBLE\")\n",
    "    .addColumn(\"total_amount\", \"DOUBLE\")\n",
    "    .addColumn(\"payment_type\", \"INT\")\n",
    "    .addColumn(\"trip_type\", \"INT\")\n",
    "    .addColumn(\"congestion_surcharge\", \"DOUBLE\")\n",
    ")\n",
    "deltaTable.execute()"
   ]
  },
  {
   "cell_type": "code",
   "execution_count": 12,
   "id": "bbfe0f19-3149-439b-acdb-577eb259ff7c",
   "metadata": {},
   "outputs": [
    {
     "name": "stdout",
     "output_type": "stream",
     "text": [
      "total 4\n",
      "drwxrwxrwx 1 jovyan 1000  512 Aug 28 05:07 .\n",
      "drwxrwxrwx 1 jovyan 1000  512 Aug 28 05:07 ..\n",
      "-rwxrwxrwx 1 jovyan 1000 2346 Aug 28 05:07 00000000000000000000.json\n",
      "-rwxrwxrwx 1 jovyan 1000   28 Aug 28 05:07 .00000000000000000000.json.crc\n"
     ]
    }
   ],
   "source": [
    "ls(f\"{work_dir}/spark-warehouse/taxidb.db/greentaxis/_delta_log\")"
   ]
  },
  {
   "cell_type": "code",
   "execution_count": 14,
   "id": "03535a83-39e2-477d-ab31-0f6111d6bd29",
   "metadata": {},
   "outputs": [
    {
     "name": "stdout",
     "output_type": "stream",
     "text": [
      "root\n",
      " |-- VendorID: integer (nullable = true)\n",
      " |-- lpep_pickup_datetime: string (nullable = true)\n",
      " |-- lpep_dropoff_datetime: string (nullable = true)\n",
      " |-- store_and_fwd_flag: string (nullable = true)\n",
      " |-- RatecodeID: integer (nullable = true)\n",
      " |-- PULocationID: integer (nullable = true)\n",
      " |-- DOLocationID: integer (nullable = true)\n",
      " |-- passenger_count: integer (nullable = true)\n",
      " |-- trip_distance: double (nullable = true)\n",
      " |-- fare_amount: double (nullable = true)\n",
      " |-- extra: double (nullable = true)\n",
      " |-- mta_tax: double (nullable = true)\n",
      " |-- tip_amount: double (nullable = true)\n",
      " |-- tolls_amount: double (nullable = true)\n",
      " |-- ehail_fee: string (nullable = true)\n",
      " |-- improvement_surcharge: double (nullable = true)\n",
      " |-- total_amount: double (nullable = true)\n",
      " |-- payment_type: integer (nullable = true)\n",
      " |-- trip_type: integer (nullable = true)\n",
      " |-- congestion_surcharge: double (nullable = true)\n",
      "\n",
      "+--------+--------------------+---------------------+------------------+----------+------------+------------+---------------+-------------+-----------+-----+-------+----------+------------+---------+---------------------+------------+------------+---------+--------------------+\n",
      "|VendorID|lpep_pickup_datetime|lpep_dropoff_datetime|store_and_fwd_flag|RatecodeID|PULocationID|DOLocationID|passenger_count|trip_distance|fare_amount|extra|mta_tax|tip_amount|tolls_amount|ehail_fee|improvement_surcharge|total_amount|payment_type|trip_type|congestion_surcharge|\n",
      "+--------+--------------------+---------------------+------------------+----------+------------+------------+---------------+-------------+-----------+-----+-------+----------+------------+---------+---------------------+------------+------------+---------+--------------------+\n",
      "|1       |2019-12-01 00:09:45 |2019-12-01 00:10:59  |N                 |1         |145         |145         |1              |0.0          |3.0        |0.5  |0.5    |0.0       |0.0         |null     |0.3                  |4.3         |2           |1        |0.0                 |\n",
      "+--------+--------------------+---------------------+------------------+----------+------------+------------+---------------+-------------+-----------+-----+-------+----------+------------+---------+---------------------+------------+------------+---------+--------------------+\n",
      "only showing top 1 row\n",
      "\n"
     ]
    }
   ],
   "source": [
    "csvGreenTaxi = spark.read.format(\"csv\").option(\"inferSchema\", True).option(\"header\", True).load(f\"{work_dir}/data/greenTaxis.csv\")\n",
    "csvGreenTaxi.printSchema()\n",
    "csvGreenTaxi.show(1, truncate=False)"
   ]
  },
  {
   "cell_type": "code",
   "execution_count": 15,
   "id": "daa5f410-c2ec-4226-ab4c-b20b076895ca",
   "metadata": {},
   "outputs": [],
   "source": [
    "# 실제 저장 시에는 greentaxis 와 같이 소문자로 저장됨\n",
    "csvGreenTaxi.write.format(\"delta\").mode(\"overwrite\").saveAsTable(\"taxidb.greenTaxis\")"
   ]
  },
  {
   "cell_type": "code",
   "execution_count": 20,
   "id": "ba4c2dbb-7722-448d-b63e-5e037013ea59",
   "metadata": {
    "tags": []
   },
   "outputs": [
    {
     "name": "stdout",
     "output_type": "stream",
     "text": [
      "total 20\n",
      "drwxrwxrwx 1 jovyan 1000   512 Aug 28 05:08 .\n",
      "drwxrwxrwx 1 jovyan 1000   512 Aug 28 05:08 ..\n",
      "-rwxrwxrwx 1 jovyan 1000  2346 Aug 28 05:07 00000000000000000000.json\n",
      "-rwxrwxrwx 1 jovyan 1000    28 Aug 28 05:07 .00000000000000000000.json.crc\n",
      "-rwxrwxrwx 1 jovyan 1000 15695 Aug 28 05:08 00000000000000000001.json\n",
      "-rwxrwxrwx 1 jovyan 1000   132 Aug 28 05:08 .00000000000000000001.json.crc\n",
      "{\n",
      "    \"add\": {\n",
      "        \"path\": \"part-00000-f7d57c66-f63d-4b6f-b173-431f4b70c855-c000.snappy.parquet\",\n",
      "        \"partitionValues\": {},\n",
      "        \"size\": 930701,\n",
      "        \"modificationTime\": 1724821731766,\n",
      "        \"dataChange\": true,\n",
      "        \"stats\": \"{\\\"numRecords\\\":46087,\\\"minValues\\\":{\\\"VendorId\\\":1,\\\"lpep_pickup_datetime\\\":\\\"2009-01-01 00:10:36\\\",\\\"lpep_dropoff_datetime\\\":\\\"2009-01-01 00:20:29\\\",\\\"store_and_fwd_flag\\\":\\\"N\\\",\\\"RatecodeID\\\":1,\\\"PULocationID\\\":2,\\\"DOLocationID\\\":1,\\\"passenger_count\\\":0,\\\"trip_distance\\\":0.0,\\\"fare_amount\\\":-52.0,\\\"extra\\\":-1.0,\\\"mta_tax\\\":-0.5,\\\"tip_amount\\\":-0.76,\\\"tolls_amount\\\":0.0,\\\"improvement_surcharge\\\":-0.3,\\\"total_amount\\\":-52.8,\\\"payment_type\\\":1,\\\"trip_type\\\":1,\\\"congestion_surcharge\\\":0.0},\\\"maxValues\\\":{\\\"VendorId\\\":2,\\\"lpep_pickup_datetime\\\":\\\"2019-12-05 17:46:27\\\",\\\"lpep_dropoff_datetime\\\":\\\"2019-12-06 06:12:54\\\",\\\"store_and_fwd_flag\\\":\\\"Y\\\",\\\"RatecodeID\\\":5,\\\"PULocationID\\\":265,\\\"DOLocationID\\\":265,\\\"passenger_count\\\":8,\\\"trip_distance\\\":74.6,\\\"fare_amount\\\":375.0,\\\"extra\\\":4.5,\\\"mta_tax\\\":0.5,\\\"tip_amount\\\":42.91,\\\"tolls_amount\\\":48.0,\\\"improvement_surcharge\\\":0.3,\\\"total_amount\\\":376.3,\\\"payment_type\\\":4,\\\"trip_type\\\":2,\\\"congestion_surcharge\\\":2.75},\\\"nullCount\\\":{\\\"VendorId\\\":0,\\\"lpep_pickup_datetime\\\":0,\\\"lpep_dropoff_datetime\\\":0,\\\"store_and_fwd_flag\\\":0,\\\"RatecodeID\\\":0,\\\"PULocationID\\\":0,\\\"DOLocationID\\\":0,\\\"passenger_count\\\":0,\\\"trip_distance\\\":0,\\\"fare_amount\\\":0,\\\"extra\\\":0,\\\"mta_tax\\\":0,\\\"tip_amount\\\":0,\\\"tolls_amount\\\":0,\\\"ehail_fee\\\":46087,\\\"improvement_surcharge\\\":0,\\\"total_amount\\\":0,\\\"payment_type\\\":0,\\\"trip_type\\\":0,\\\"congestion_surcharge\\\":0}}\"\n",
      "    }\n",
      "}\n"
     ]
    }
   ],
   "source": [
    "ls(f\"{work_dir}/spark-warehouse/taxidb.db/greentaxis/_delta_log\")\n",
    "grep_and_json(\"46087\", f\"{work_dir}/spark-warehouse/taxidb.db/greentaxis/_delta_log/00000000000000000001.json\")"
   ]
  },
  {
   "cell_type": "code",
   "execution_count": 21,
   "id": "12581b53-a165-455f-815d-75717c4a19c4",
   "metadata": {},
   "outputs": [
    {
     "name": "stdout",
     "output_type": "stream",
     "text": [
      "++\n",
      "||\n",
      "++\n",
      "++\n",
      "\n"
     ]
    }
   ],
   "source": [
    "# External Table 의 경우 Drop 시에 모든 메타 정보와 데이터 파일은 유지되며, 데이터베이스에 테이블 정보만 삭제됨\n",
    "sql(\"DROP TABLE IF EXISTS taxidb.rateCard\")"
   ]
  },
  {
   "cell_type": "code",
   "execution_count": 23,
   "id": "afd8a102-32a9-4cd0-96a3-54c16a5e1a7e",
   "metadata": {},
   "outputs": [
    {
     "name": "stdout",
     "output_type": "stream",
     "text": [
      "++\n",
      "||\n",
      "++\n",
      "++\n",
      "\n",
      "+---------+-----------+-----------+\n",
      "|namespace|tableName  |isTemporary|\n",
      "+---------+-----------+-----------+\n",
      "|taxidb   |greentaxis |false      |\n",
      "|taxidb   |yellowtaxis|false      |\n",
      "+---------+-----------+-----------+\n",
      "\n",
      "total 4\n",
      "drwxrwxrwx 1 jovyan 1000 512 Aug 14 10:18 .\n",
      "drwxrwxrwx 1 jovyan 1000 512 Aug 14 11:38 ..\n",
      "drwxrwxrwx 1 jovyan 1000 512 Aug 14 10:18 _delta_log\n",
      "-rwxrwxrwx 1 jovyan 1000 858 Aug 14 10:18 part-00000-6c22f7b9-a139-40a7-b5dd-086d9064e657-c000.snappy.parquet\n",
      "-rwxrwxrwx 1 jovyan 1000  16 Aug 14 10:18 .part-00000-6c22f7b9-a139-40a7-b5dd-086d9064e657-c000.snappy.parquet.crc\n"
     ]
    }
   ],
   "source": [
    "sql(\"use taxidb ; show tables\")\n",
    "ls(\"./data/ratecard.delta\")"
   ]
  },
  {
   "cell_type": "code",
   "execution_count": 31,
   "id": "d6e4e985-e320-483a-88fc-4ba7c21de3de",
   "metadata": {},
   "outputs": [
    {
     "name": "stdout",
     "output_type": "stream",
     "text": [
      "00000000000000000000.json  00000000000000000001.json\n",
      "{\"add\":{\"path\":\"part-00000-879dbb89-ee5a-47d4-ab0d-0e6445663607-c000.snappy.parquet\",\"partitionValues\":{},\"size\":858,\"modificationTime\":1723625669220,\"dataChange\":true,\"stats\":\"{\\\"numRecords\\\":6,\\\"minValues\\\":{\\\"rateCodeId\\\":1,\\\"rateCodeDesc\\\":\\\"Group ride\\\"},\\\"maxValues\\\":{\\\"rateCodeId\\\":6,\\\"rateCodeDesc\\\":\\\"Standard Rate\\\"},\\\"nullCount\\\":{\\\"rateCodeId\\\":0,\\\"rateCodeDesc\\\":0}}\"}}\n",
      "{\"commitInfo\":{\"timestamp\":1723625668130,\"operation\":\"CREATE OR REPLACE TABLE AS SELECT\",\"operationParameters\":{\"isManaged\":\"false\",\"description\":null,\"partitionBy\":\"[]\",\"properties\":\"{}\"},\"readVersion\":0,\"isolationLevel\":\"Serializable\",\"isBlindAppend\":false,\"operationMetrics\":{\"numFiles\":\"1\",\"numOutputRows\":\"6\",\"numOutputBytes\":\"858\"},\"engineInfo\":\"Apache-Spark/3.2.1 Delta-Lake/2.0.0\",\"txnId\":\"5e49e955-4dca-4948-89a1-32cf38bb834f\"}}\n"
     ]
    }
   ],
   "source": [
    "!ls {work_dir}/data/rateCard.delta/_delta_log\n",
    "!cat {work_dir}/data/rateCard.delta/_delta_log/00000000000000000001.json"
   ]
  },
  {
   "cell_type": "code",
   "execution_count": 16,
   "id": "a42922ae-d6e3-42ac-a2db-c9429d88004b",
   "metadata": {},
   "outputs": [
    {
     "data": {
      "text/html": [
       "<table border='1'>\n",
       "<tr><th>namespace</th><th>tableName</th><th>isTemporary</th></tr>\n",
       "<tr><td>taxidb</td><td>greentaxis</td><td>false</td></tr>\n",
       "<tr><td>taxidb</td><td>ratecard</td><td>false</td></tr>\n",
       "</table>\n"
      ],
      "text/plain": [
       "+---------+----------+-----------+\n",
       "|namespace| tableName|isTemporary|\n",
       "+---------+----------+-----------+\n",
       "|   taxidb|greentaxis|      false|\n",
       "|   taxidb|  ratecard|      false|\n",
       "+---------+----------+-----------+"
      ]
     },
     "execution_count": 16,
     "metadata": {},
     "output_type": "execute_result"
    }
   ],
   "source": [
    "spark.sql(\"use taxidb\")\n",
    "spark.sql(\"show tables\")"
   ]
  },
  {
   "cell_type": "code",
   "execution_count": 18,
   "id": "2e7d6d10-4aff-4a43-974b-4aa04e3b3323",
   "metadata": {},
   "outputs": [
    {
     "name": "stdout",
     "output_type": "stream",
     "text": [
      "+--------+--------------------+---------------------+------------------+----------+------------+------------+---------------+-------------+-----------+-----+-------+----------+------------+---------+---------------------+------------+------------+---------+--------------------+\n",
      "|VendorId|lpep_pickup_datetime|lpep_dropoff_datetime|store_and_fwd_flag|RatecodeID|PULocationID|DOLocationID|passenger_count|trip_distance|fare_amount|extra|mta_tax|tip_amount|tolls_amount|ehail_fee|improvement_surcharge|total_amount|payment_type|trip_type|congestion_surcharge|\n",
      "+--------+--------------------+---------------------+------------------+----------+------------+------------+---------------+-------------+-----------+-----+-------+----------+------------+---------+---------------------+------------+------------+---------+--------------------+\n",
      "|2       |2019-12-19 17:12:23 |2019-12-19 17:19:32  |N                 |1         |181         |25          |1              |1.28         |7.0        |1.0  |0.5    |0.0       |0.0         |null     |0.3                  |8.8         |2           |1        |0.0                 |\n",
      "|2       |2019-12-19 17:49:24 |2019-12-19 17:53:10  |N                 |1         |196         |82          |1              |0.38         |4.0        |1.0  |0.5    |0.0       |0.0         |null     |0.3                  |5.8         |2           |1        |0.0                 |\n",
      "|2       |2019-12-19 17:04:35 |2019-12-19 17:21:09  |N                 |1         |66          |25          |2              |2.54         |13.0       |1.0  |0.5    |2.96      |0.0         |null     |0.3                  |17.76       |1           |1        |0.0                 |\n",
      "|2       |2019-12-19 17:37:17 |2019-12-19 18:02:00  |N                 |1         |33          |107         |2              |5.67         |22.0       |1.0  |0.5    |5.31      |0.0         |null     |0.3                  |31.86       |1           |1        |2.75                |\n",
      "|1       |2019-12-19 17:42:16 |2019-12-19 18:11:45  |N                 |1         |82          |95          |2              |2.8          |18.5       |1.0  |0.5    |0.0       |0.0         |null     |0.3                  |20.3        |1           |1        |0.0                 |\n",
      "+--------+--------------------+---------------------+------------------+----------+------------+------------+---------------+-------------+-----------+-----+-------+----------+------------+---------+---------------------+------------+------------+---------+--------------------+\n",
      "only showing top 5 rows\n",
      "\n"
     ]
    }
   ],
   "source": [
    "spark.sql(\"\"\"\n",
    "select * from taxidb.greentaxis\n",
    "\"\"\").show(5, truncate=False)"
   ]
  },
  {
   "cell_type": "code",
   "execution_count": 19,
   "id": "c460dda8-7ec0-462d-8d9e-7a4875d5eaeb",
   "metadata": {},
   "outputs": [
    {
     "data": {
      "text/html": [
       "<table border='1'>\n",
       "<tr><th>count(1)</th></tr>\n",
       "<tr><td>450627</td></tr>\n",
       "</table>\n"
      ],
      "text/plain": [
       "+--------+\n",
       "|count(1)|\n",
       "+--------+\n",
       "|  450627|\n",
       "+--------+"
      ]
     },
     "execution_count": 19,
     "metadata": {},
     "output_type": "execute_result"
    }
   ],
   "source": [
    "spark.sql(\"select count(1) from taxidb.greentaxis\")"
   ]
  },
  {
   "cell_type": "code",
   "execution_count": 23,
   "id": "1e42c515-eff7-4cfb-a24a-5a1c9b582c43",
   "metadata": {},
   "outputs": [
    {
     "data": {
      "text/html": [
       "<table border='1'>\n",
       "<tr><th>VendorID</th><th>AverageFare</th></tr>\n",
       "<tr><td>null</td><td>28.830541636814186</td></tr>\n",
       "<tr><td>1</td><td>13.217967034800125</td></tr>\n",
       "<tr><td>2</td><td>12.054380250700097</td></tr>\n",
       "</table>\n"
      ],
      "text/plain": [
       "+--------+------------------+\n",
       "|VendorID|       AverageFare|\n",
       "+--------+------------------+\n",
       "|    null|28.830541636814186|\n",
       "|       1|13.217967034800125|\n",
       "|       2|12.054380250700097|\n",
       "+--------+------------------+"
      ]
     },
     "execution_count": 23,
     "metadata": {},
     "output_type": "execute_result"
    }
   ],
   "source": [
    "spark.sql(\"\"\"\n",
    "SELECT VendorID, AVG(fare_amount) AS AverageFare\n",
    "FROM taxidb.greentaxis\n",
    "GROUP BY VendorID\n",
    "HAVING AVG(fare_amount) > 10\n",
    "ORDER BY 2 DESC\n",
    "LIMIT 5\n",
    "\"\"\")"
   ]
  },
  {
   "cell_type": "code",
   "execution_count": 24,
   "id": "0a9939a9-d726-4a9a-9191-f3a744b3bd35",
   "metadata": {},
   "outputs": [
    {
     "name": "stdout",
     "output_type": "stream",
     "text": [
      "Number of records: 450,627\n"
     ]
    }
   ],
   "source": [
    "# Reading a Table with PySpark\n",
    "df = spark.read.format(\"delta\").table(\"taxidb.greentaxis\")\n",
    "print(f\"Number of records: {df.count():,}\")"
   ]
  },
  {
   "cell_type": "code",
   "execution_count": 25,
   "id": "cb0e6f53-dbd6-47d2-914e-10453a1d184c",
   "metadata": {},
   "outputs": [
    {
     "data": {
      "text/plain": [
       "[Row(VendorID=None, AverageFare=28.830541636814186),\n",
       " Row(VendorID=1, AverageFare=13.217967034800125),\n",
       " Row(VendorID=2, AverageFare=12.054380250700097)]"
      ]
     },
     "execution_count": 25,
     "metadata": {},
     "output_type": "execute_result"
    }
   ],
   "source": [
    "res = (\n",
    "    df.groupBy(\"VendorID\")\n",
    "    .agg(avg(\"fare_amount\").alias(\"AverageFare\"))\n",
    "    .filter(col(\"AverageFare\") > 10)\n",
    "    .sort(col(\"AverageFare\").desc())\n",
    ")\n",
    "res.take(5)"
   ]
  },
  {
   "cell_type": "code",
   "execution_count": 27,
   "id": "31c5b804-c413-4b51-bef7-3b817ad7d47f",
   "metadata": {},
   "outputs": [
    {
     "data": {
      "text/html": [
       "<table border='1'>\n",
       "<tr><th></th></tr>\n",
       "</table>\n"
      ],
      "text/plain": [
       "++\n",
       "||\n",
       "++\n",
       "++"
      ]
     },
     "execution_count": 27,
     "metadata": {},
     "output_type": "execute_result"
    }
   ],
   "source": [
    "spark.sql(f\"\"\"\n",
    "CREATE TABLE taxidb.YellowTaxis (\n",
    "    RideId INT,\n",
    "    VendorId INT,\n",
    "    PickupTime TIMESTAMP,\n",
    "    DropTime TIMESTAMP,\n",
    "    PickupLocationId INT,\n",
    "    DropLocationId INT,\n",
    "    CabNumber STRING,\n",
    "    DriverLicenseNumber STRING,\n",
    "    PassengerCount INT,\n",
    "    TripDistance DOUBLE,\n",
    "    RatecodeId INT,\n",
    "    PaymentType INT,\n",
    "    TotalAmount DOUBLE,\n",
    "    FareAmount DOUBLE,\n",
    "    Extra DOUBLE,\n",
    "    MtaTax DOUBLE,\n",
    "    TipAmount DOUBLE,\n",
    "    TollsAmount DOUBLE,\n",
    "    ImprovementSurcharge DOUBLE\n",
    ") USING DELTA\n",
    "LOCATION \"{work_dir}/data/yellowTaxis.delta\"\n",
    "\"\"\")"
   ]
  },
  {
   "cell_type": "code",
   "execution_count": 28,
   "id": "39a6aa88-9fc1-487c-82c8-85dfc7283f20",
   "metadata": {},
   "outputs": [
    {
     "data": {
      "text/html": [
       "<table border='1'>\n",
       "<tr><th>count</th></tr>\n",
       "<tr><td>1</td></tr>\n",
       "</table>\n"
      ],
      "text/plain": [
       "+-----+\n",
       "|count|\n",
       "+-----+\n",
       "|    1|\n",
       "+-----+"
      ]
     },
     "execution_count": 28,
     "metadata": {},
     "output_type": "execute_result"
    }
   ],
   "source": [
    "spark.sql(\"\"\"\n",
    "INSERT INTO taxidb.yellowtaxis (RideId, VendorId, PickupTime, DropTime, PickupLocationId,\n",
    "    DropLocationId, CabNumber, DriverLicenseNumber, PassengerCount, TripDistance,\n",
    "    RatecodeId, PaymentType, TotalAmount, FareAmount, Extra, \n",
    "    MtaTax, TipAmount, TollsAmount, ImprovementSurcharge)\n",
    "VALUES (9999995, 1, '2019-11-01T00:00:00.000Z', '2019-11-01T00:02:23.573Z', 65, \n",
    "    71, 'TAC304', '453987', 2, 4.5, \n",
    "    1, 1, 20.34, 15.0, 0.5, \n",
    "    0.4, 2.0, 2.0, 1.1)\n",
    "\"\"\")\n",
    "spark.sql(\"SELECT count(RideId) AS count FROM taxidb.YellowTaxis WHERE RideId = 9999995\")"
   ]
  },
  {
   "cell_type": "markdown",
   "id": "479fd0cd-beec-4c44-961b-cc9ddbfbaf1e",
   "metadata": {},
   "source": [
    "### Generated Columns\n",
    "> which are a special type of column, the values of which are automatically generated based on a user-specified function over other\n",
    "> columns in the Delta table. When you write to a Delta table with generated columns\n",
    "> and don’t explicitly provide values for them, Delta Lake automatically computes the values.\n",
    "\n",
    "* 델타 테이블이 자동 생성해서 넣어주는 컬럼 값을 말하며, delta 최신 버전 (spark 3.5)이 필요하며, 현재 컨테이너에서는 사용할 수 없음\n",
    "\n",
    "```sql\n",
    "-- GENERATED 키워드로 기본값 함수를 제공\n",
    "CREATE TABLE taxidb.YellowTaxis (\n",
    "    RideId INT COMMENT 'This is our primary Key column',\n",
    "    VendorId INT,\n",
    "    PickupTime TIMESTAMP,\n",
    "    PickupYear INT GENERATED ALWAYS AS(YEAR (PickupTime)),\n",
    "    PickupMonth INT GENERATED ALWAYS AS(MONTH (PickupTime)),\n",
    "    PickupDay INT GENERATED ALWAYS AS(DAY (PickupTime)),\n",
    "    DropTime TIMESTAMP,\n",
    "    CabNumber STRING COMMENT 'Official Yellow Cab Number'\n",
    ") USING DELTA\n",
    "LOCATION \"/mnt/datalake/book/chapter03/YellowTaxis.delta\"\n",
    "COMMENT 'Table to store Yellow Taxi data'\n",
    "\n",
    "-- 아래와 같이 필요한 값만 넣어주면 된다\n",
    "INSERT INTO taxidb.YellowTaxis (RideId, VendorId, PickupTime, DropTime, CabNumber)\n",
    "VALUES (5, 101, '2021-7-1T8:43:28UTC+3', '2021-7-1T8:43:28UTC+3', '51-986')\n",
    "```\n",
    "\n",
    "* 단, 아래와 같이 비결정적인 함수는 사용할 수 없다\n",
    "\n",
    "```sql\n",
    "CREATE OR REPLACE TABLE default.dummy (\n",
    "    ID STRING GENERATED ALWAYS AS (UUID()),\n",
    "    Name STRING\n",
    ") USING DELTA\n",
    "\n",
    "-- Found uuid(). A generated column cannot use a non deterministic expression.\n",
    "-- User-defined functions\n",
    "-- Aggregate functions\n",
    "-- Window functions\n",
    "-- Functions returning multiple rows\n",
    "```"
   ]
  },
  {
   "cell_type": "code",
   "execution_count": null,
   "id": "e20bee1b-664e-4e0f-9ec0-65c156e32517",
   "metadata": {},
   "outputs": [],
   "source": []
  },
  {
   "cell_type": "code",
   "execution_count": null,
   "id": "ebfc98ed-804e-4aa5-9145-260d31c9fa9b",
   "metadata": {},
   "outputs": [],
   "source": []
  }
 ],
 "metadata": {
  "kernelspec": {
   "display_name": "Python 3 (ipykernel)",
   "language": "python",
   "name": "python3"
  },
  "language_info": {
   "codemirror_mode": {
    "name": "ipython",
    "version": 3
   },
   "file_extension": ".py",
   "mimetype": "text/x-python",
   "name": "python",
   "nbconvert_exporter": "python",
   "pygments_lexer": "ipython3",
   "version": "3.9.12"
  }
 },
 "nbformat": 4,
 "nbformat_minor": 5
}
