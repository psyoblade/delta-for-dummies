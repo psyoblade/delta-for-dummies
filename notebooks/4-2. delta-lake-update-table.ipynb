{
 "cells": [
  {
   "cell_type": "markdown",
   "id": "d657b2f3-464b-46c8-96af-76521af7c5ab",
   "metadata": {},
   "source": [
    "# Deleting Data from a Delta Table"
   ]
  },
  {
   "cell_type": "code",
   "execution_count": 1,
   "id": "de619a5e-2b8b-4294-81b0-8ca435db8657",
   "metadata": {},
   "outputs": [],
   "source": [
    "from pyspark.sql import *\n",
    "from pyspark.sql.functions import *\n",
    "from pyspark.sql.types import *\n",
    "from IPython.display import display, display_pretty, clear_output, JSON\n",
    "\n",
    "from delta import *\n",
    "\n",
    "# 공통 데이터 위치\n",
    "home_jovyan = \"/home/jovyan\"\n",
    "work_data = f\"{home_jovyan}/work/data\"\n",
    "work_dir=!pwd\n",
    "work_dir = work_dir[0]\n",
    "warehouse_dir = f\"{work_dir}/spark-warehouse\"\n",
    "\n",
    "# Create spark session with hive enabled\n",
    "builder = (\n",
    "    SparkSession\n",
    "    .builder\n",
    "    .appName(\"pyspark-notebook\")\n",
    "    .config(\"spark.sql.session.timeZone\", \"Asia/Seoul\")\n",
    "    .config(\"spark.sql.extensions\", \"io.delta.sql.DeltaSparkSessionExtension\")\n",
    "    .config(\"spark.sql.catalog.spark_catalog\", \"org.apache.spark.sql.delta.catalog.DeltaCatalog\")\n",
    "    .config(\"spark.sql.catalogImplementation\", \"hive\")\n",
    "    .config(\"spark.sql.warehouse.dir\", warehouse_dir)\n",
    "    .enableHiveSupport()\n",
    ")"
   ]
  },
  {
   "cell_type": "code",
   "execution_count": 2,
   "id": "d5046ad9-8423-49f0-93d6-b650da098fa1",
   "metadata": {},
   "outputs": [],
   "source": [
    "# 델타 레이크 생성시에 반드시 `configure_spark_with_delta_pip` 구성을 통해 실행되어야 정상적인 델타 의존성이 로딩됩니다\n",
    "spark = configure_spark_with_delta_pip(builder).getOrCreate()"
   ]
  },
  {
   "cell_type": "code",
   "execution_count": 3,
   "id": "7a25c297-9f0c-4b52-8560-c598f181cfe9",
   "metadata": {},
   "outputs": [
    {
     "data": {
      "text/html": [
       "\n",
       "            <div>\n",
       "                <p><b>SparkSession - hive</b></p>\n",
       "                \n",
       "        <div>\n",
       "            <p><b>SparkContext</b></p>\n",
       "\n",
       "            <p><a href=\"http://172.30.99.141:4040\">Spark UI</a></p>\n",
       "\n",
       "            <dl>\n",
       "              <dt>Version</dt>\n",
       "                <dd><code>v3.2.1</code></dd>\n",
       "              <dt>Master</dt>\n",
       "                <dd><code>local[*]</code></dd>\n",
       "              <dt>AppName</dt>\n",
       "                <dd><code>pyspark-notebook</code></dd>\n",
       "            </dl>\n",
       "        </div>\n",
       "        \n",
       "            </div>\n",
       "        "
      ],
      "text/plain": [
       "<pyspark.sql.session.SparkSession at 0x7f1f4dabf8e0>"
      ]
     },
     "execution_count": 3,
     "metadata": {},
     "output_type": "execute_result"
    }
   ],
   "source": [
    "\n",
    "# 노트북에서 테이블 형태로 데이터 프레임 출력을 위한 설정을 합니다\n",
    "spark.conf.set(\"spark.sql.repl.eagerEval.enabled\", True) # display enabled\n",
    "spark.conf.set(\"spark.sql.repl.eagerEval.truncate\", 100) # display output columns size\n",
    "\n",
    "# 로컬 환경 최적화\n",
    "spark.conf.set(\"spark.sql.shuffle.partitions\", 5) # the number of partitions to use when shuffling data for joins or aggregations.\n",
    "spark.conf.set(\"spark.sql.streaming.forceDeleteTempCheckpointLocation\", \"true\")\n",
    "spark"
   ]
  },
  {
   "cell_type": "code",
   "execution_count": 4,
   "id": "06a7aba2-cbd8-412b-ad2f-18c73531c565",
   "metadata": {},
   "outputs": [],
   "source": [
    "def sql(queries, num_rows = 20):\n",
    "    for query in queries.split(\";\"):\n",
    "        spark.sql(query).show(num_rows, truncate=False)\n",
    "\n",
    "def ls(command):\n",
    "    !ls -al {command}\n",
    "\n",
    "def cat(filename):\n",
    "    !cat {filename}\n",
    "\n",
    "def grep(keyword, filename):\n",
    "    !grep -i {keyword} {filename}\n",
    "\n",
    "def grep_and_json(keyword, filename):\n",
    "    !grep {keyword} {filename} | python -m json.tool\n",
    "\n",
    "def grep_sed_json(keyword, lineno, filename):\n",
    "    !grep {keyword} {filename} | sed -n {lineno}p | python -m json.tool"
   ]
  },
  {
   "cell_type": "code",
   "execution_count": 5,
   "id": "efe2bb48-85f7-4294-8a95-d8e2a4ecba4e",
   "metadata": {
    "tags": []
   },
   "outputs": [
    {
     "name": "stdout",
     "output_type": "stream",
     "text": [
      "+---------+\n",
      "|namespace|\n",
      "+---------+\n",
      "|default  |\n",
      "|taxidb   |\n",
      "+---------+\n",
      "\n",
      "++\n",
      "||\n",
      "++\n",
      "++\n",
      "\n",
      "+---------+------------------+-----------+\n",
      "|namespace|tableName         |isTemporary|\n",
      "+---------+------------------+-----------+\n",
      "|taxidb   |greentaxis        |false      |\n",
      "|taxidb   |yellowtaxis       |false      |\n",
      "|taxidb   |yellowtaxis_append|false      |\n",
      "+---------+------------------+-----------+\n",
      "\n"
     ]
    }
   ],
   "source": [
    "sql(\"show databases ; use taxidb ; show tables\")"
   ]
  },
  {
   "cell_type": "code",
   "execution_count": 6,
   "id": "946a9169-3c05-4af3-8ae1-bca8aee23ef7",
   "metadata": {},
   "outputs": [
    {
     "name": "stdout",
     "output_type": "stream",
     "text": [
      "+--------+\n",
      "|count(1)|\n",
      "+--------+\n",
      "|450625  |\n",
      "+--------+\n",
      "\n"
     ]
    }
   ],
   "source": [
    "sql(\"select count(1) from greentaxis\")"
   ]
  },
  {
   "cell_type": "code",
   "execution_count": 9,
   "id": "fce11512-ce4d-4d0e-9495-20cd87b0ce53",
   "metadata": {},
   "outputs": [
    {
     "name": "stdout",
     "output_type": "stream",
     "text": [
      "-rwxrwxrwx 1 jovyan 1000  2346 Aug 28 05:07 /home/jovyan/work/spark-warehouse/taxidb.db/greentaxis/_delta_log/00000000000000000000.json\n",
      "-rwxrwxrwx 1 jovyan 1000 15695 Aug 28 05:08 /home/jovyan/work/spark-warehouse/taxidb.db/greentaxis/_delta_log/00000000000000000001.json\n",
      "-rwxrwxrwx 1 jovyan 1000  4163 Aug 28 07:47 /home/jovyan/work/spark-warehouse/taxidb.db/greentaxis/_delta_log/00000000000000000002.json\n"
     ]
    }
   ],
   "source": [
    "ls(\"/home/jovyan/work/spark-warehouse/taxidb.db/greentaxis/_delta_log/*.json\")"
   ]
  },
  {
   "cell_type": "code",
   "execution_count": 12,
   "id": "afaef3d6-2685-4af5-9671-cf9b5b120f51",
   "metadata": {
    "tags": []
   },
   "outputs": [
    {
     "name": "stdout",
     "output_type": "stream",
     "text": [
      "+-------+-----------------------+------+--------+---------------------------------+------------------------------------------------------------------------------------------------------------------------+----+--------+---------+-----------+--------------+-------------+------------------------------------------------------------------------------------------------------------------------------------------------------------------------------------+------------+-----------------------------------+\n",
      "|version|timestamp              |userId|userName|operation                        |operationParameters                                                                                                     |job |notebook|clusterId|readVersion|isolationLevel|isBlindAppend|operationMetrics                                                                                                                                                                    |userMetadata|engineInfo                         |\n",
      "+-------+-----------------------+------+--------+---------------------------------+------------------------------------------------------------------------------------------------------------------------+----+--------+---------+-----------+--------------+-------------+------------------------------------------------------------------------------------------------------------------------------------------------------------------------------------+------------+-----------------------------------+\n",
      "|2      |2024-08-28 16:47:08.534|null  |null    |DELETE                           |{predicate -> [\"((spark_catalog.taxidb.greentaxis.vendorid = 1) AND (spark_catalog.taxidb.greentaxis.ratecodeid = 6))\"]}|null|null    |null     |1          |Serializable  |false        |{numRemovedFiles -> 2, numCopiedRows -> 92531, numAddedChangeFiles -> 0, executionTimeMs -> 1604, numDeletedRows -> 2, scanTimeMs -> 433, numAddedFiles -> 2, rewriteTimeMs -> 1171}|null        |Apache-Spark/3.2.1 Delta-Lake/2.0.0|\n",
      "|1      |2024-08-28 14:08:52.189|null  |null    |CREATE OR REPLACE TABLE AS SELECT|{isManaged -> true, description -> null, partitionBy -> [], properties -> {}}                                           |null|null    |null     |0          |Serializable  |false        |{numFiles -> 10, numOutputRows -> 450627, numOutputBytes -> 9229678}                                                                                                                |null        |Apache-Spark/3.2.1 Delta-Lake/2.0.0|\n",
      "|0      |2024-08-28 14:07:33.917|null  |null    |CREATE TABLE                     |{isManaged -> true, description -> null, partitionBy -> [], properties -> {}}                                           |null|null    |null     |null       |Serializable  |true         |{}                                                                                                                                                                                  |null        |Apache-Spark/3.2.1 Delta-Lake/2.0.0|\n",
      "+-------+-----------------------+------+--------+---------------------------------+------------------------------------------------------------------------------------------------------------------------+----+--------+---------+-----------+--------------+-------------+------------------------------------------------------------------------------------------------------------------------------------------------------------------------------------+------------+-----------------------------------+\n",
      "\n",
      "+---------------------+---------+---------------+\n",
      "|col_name             |data_type|comment        |\n",
      "+---------------------+---------+---------------+\n",
      "|VendorId             |int      |Ride Vendor    |\n",
      "|lpep_pickup_datetime |string   |               |\n",
      "|lpep_dropoff_datetime|string   |               |\n",
      "|store_and_fwd_flag   |string   |               |\n",
      "|RatecodeID           |int      |Ref to RateCard|\n",
      "|PULocationID         |int      |               |\n",
      "|DOLocationID         |int      |               |\n",
      "|passenger_count      |int      |               |\n",
      "|trip_distance        |double   |               |\n",
      "|fare_amount          |double   |               |\n",
      "|extra                |double   |               |\n",
      "|mta_tax              |double   |               |\n",
      "|tip_amount           |double   |               |\n",
      "|tolls_amount         |double   |               |\n",
      "|ehail_fee            |string   |               |\n",
      "|improvement_surcharge|double   |               |\n",
      "|total_amount         |double   |               |\n",
      "|payment_type         |int      |               |\n",
      "|trip_type            |int      |               |\n",
      "|congestion_surcharge |double   |               |\n",
      "|                     |         |               |\n",
      "|# Partitioning       |         |               |\n",
      "|Not partitioned      |         |               |\n",
      "+---------------------+---------+---------------+\n",
      "\n"
     ]
    }
   ],
   "source": [
    "sql(\"describe history greentaxis ; describe greentaxis\", 30)"
   ]
  },
  {
   "cell_type": "code",
   "execution_count": 21,
   "id": "45b0c4d4-548d-4462-855f-c8dbe8e5df9f",
   "metadata": {},
   "outputs": [
    {
     "name": "stdout",
     "output_type": "stream",
     "text": [
      "+-------------------------------------------------------------------------------------------------------------------------------+--------+----------+------------+---------------+\n",
      "|filename_record_is_located                                                                                                     |VendorId|RatecodeID|DOLocationID|passenger_count|\n",
      "+-------------------------------------------------------------------------------------------------------------------------------+--------+----------+------------+---------------+\n",
      "|file:/home/jovyan/work/spark-warehouse/taxidb.db/greentaxis/part-00005-b7668c11-3775-4b26-8cce-6ca59b79a44c-c000.snappy.parquet|2       |6         |193         |1              |\n",
      "|file:/home/jovyan/work/spark-warehouse/taxidb.db/greentaxis/part-00006-cb453028-6940-422f-8622-596782a99a75-c000.snappy.parquet|2       |6         |55          |1              |\n",
      "+-------------------------------------------------------------------------------------------------------------------------------+--------+----------+------------+---------------+\n",
      "\n"
     ]
    }
   ],
   "source": [
    "sql(\"\"\"\n",
    "SELECT\n",
    "    INPUT_FILE_NAME() as filename_record_is_located,\n",
    "    VendorId,\n",
    "    RatecodeID,\n",
    "    DOLocationID,\n",
    "    passenger_count\n",
    "FROM\n",
    "    taxidb.greentaxis\n",
    "WHERE\n",
    "    VendorId = 2 and RatecodeID = 6\n",
    "\"\"\")"
   ]
  },
  {
   "cell_type": "code",
   "execution_count": 22,
   "id": "3b1a6ffd-84e6-41ba-9480-ba68febe020d",
   "metadata": {},
   "outputs": [
    {
     "name": "stdout",
     "output_type": "stream",
     "text": [
      "++\n",
      "||\n",
      "++\n",
      "++\n",
      "\n"
     ]
    }
   ],
   "source": [
    "sql(\"\"\"\n",
    "UPDATE taxidb.greentaxis\n",
    "SET passenger_count = 10\n",
    "WHERE\n",
    "    VendorId = 2 and RatecodeID = 6 and DOLocationID = 193\n",
    "\"\"\")"
   ]
  },
  {
   "cell_type": "code",
   "execution_count": 25,
   "id": "0e39f153-ce1d-4087-89e0-642ef9d792d5",
   "metadata": {},
   "outputs": [
    {
     "name": "stdout",
     "output_type": "stream",
     "text": [
      "-rwxrwxrwx 1 jovyan 1000  2346 Aug 28 05:07 /home/jovyan/work/spark-warehouse/taxidb.db/greentaxis/_delta_log/00000000000000000000.json\n",
      "-rwxrwxrwx 1 jovyan 1000 15695 Aug 28 05:08 /home/jovyan/work/spark-warehouse/taxidb.db/greentaxis/_delta_log/00000000000000000001.json\n",
      "-rwxrwxrwx 1 jovyan 1000  4163 Aug 28 07:47 /home/jovyan/work/spark-warehouse/taxidb.db/greentaxis/_delta_log/00000000000000000002.json\n",
      "-rwxrwxrwx 1 jovyan 1000  2332 Aug 28 08:26 /home/jovyan/work/spark-warehouse/taxidb.db/greentaxis/_delta_log/00000000000000000003.json\n",
      "{\"remove\":{\"path\":\"part-00005-b7668c11-3775-4b26-8cce-6ca59b79a44c-c000.snappy.parquet\",\"deletionTimestamp\":1724833589468,\"dataChange\":true,\"extendedFileMetadata\":true,\"partitionValues\":{},\"size\":1075685}}\n",
      "{\"add\":{\"path\":\"part-00000-b43f38af-57c8-415c-ada4-c17fb8195df6-c000.snappy.parquet\",\"partitionValues\":{},\"size\":1076081,\"modificationTime\":1724833588815,\"dataChange\":true,\"stats\":\"{\\\"numRecords\\\":46029,\\\"minValues\\\":{\\\"VendorId\\\":1,\\\"lpep_pickup_datetime\\\":\\\"2019-12-19 04:42:16\\\",\\\"lpep_dropoff_datetime\\\":\\\"2019-12-19 04:55:25\\\",\\\"store_and_fwd_flag\\\":\\\"N\\\",\\\"RatecodeID\\\":1,\\\"PULocationID\\\":1,\\\"DOLocationID\\\":1,\\\"passenger_count\\\":0,\\\"trip_distance\\\":0.0,\\\"fare_amount\\\":-125.0,\\\"extra\\\":-3.25,\\\"mta_tax\\\":-0.5,\\\"tip_amount\\\":0.0,\\\"tolls_amount\\\":0.0,\\\"improvement_surcharge\\\":-0.3,\\\"total_amount\\\":-125.0,\\\"payment_type\\\":1,\\\"trip_type\\\":1,\\\"congestion_surcharge\\\":0.0},\\\"maxValues\\\":{\\\"VendorId\\\":2,\\\"lpep_pickup_datetime\\\":\\\"2019-12-23 18:51:12\\\",\\\"lpep_dropoff_datetime\\\":\\\"2019-12-24 14:00:47\\\",\\\"store_and_fwd_flag\\\":\\\"Y\\\",\\\"RatecodeID\\\":6,\\\"PULocationID\\\":265,\\\"DOLocationID\\\":265,\\\"passenger_count\\\":10,\\\"trip_distance\\\":333.3,\\\"fare_amount\\\":350.0,\\\"extra\\\":4.5,\\\"mta_tax\\\":0.5,\\\"tip_amount\\\":111.0,\\\"tolls_amount\\\":30.0,\\\"improvement_surcharge\\\":0.3,\\\"total_amount\\\":350.3,\\\"payment_type\\\":4,\\\"trip_type\\\":2,\\\"congestion_surcharge\\\":2.75},\\\"nullCount\\\":{\\\"VendorId\\\":0,\\\"lpep_pickup_datetime\\\":0,\\\"lpep_dropoff_datetime\\\":0,\\\"store_and_fwd_flag\\\":0,\\\"RatecodeID\\\":0,\\\"PULocationID\\\":0,\\\"DOLocationID\\\":0,\\\"passenger_count\\\":0,\\\"trip_distance\\\":0,\\\"fare_amount\\\":0,\\\"extra\\\":0,\\\"mta_tax\\\":0,\\\"tip_amount\\\":0,\\\"tolls_amount\\\":0,\\\"ehail_fee\\\":46029,\\\"improvement_surcharge\\\":0,\\\"total_amount\\\":0,\\\"payment_type\\\":0,\\\"trip_type\\\":0,\\\"congestion_surcharge\\\":0}}\"}}\n",
      "{\"commitInfo\":{\"timestamp\":1724833589473,\"operation\":\"UPDATE\",\"operationParameters\":{\"predicate\":\"(((VendorId#2456 = 2) AND (RatecodeID#2460 = 6)) AND (DOLocationID#2462 = 193))\"},\"readVersion\":2,\"isolationLevel\":\"Serializable\",\"isBlindAppend\":false,\"operationMetrics\":{\"numRemovedFiles\":\"1\",\"numCopiedRows\":\"46028\",\"numAddedChangeFiles\":\"0\",\"executionTimeMs\":\"1596\",\"scanTimeMs\":\"511\",\"numAddedFiles\":\"1\",\"numUpdatedRows\":\"1\",\"rewriteTimeMs\":\"1084\"},\"engineInfo\":\"Apache-Spark/3.2.1 Delta-Lake/2.0.0\",\"txnId\":\"2baa0c04-d545-4760-a76c-bd9d5d795545\"}}\n",
      "{\n",
      "    \"add\": {\n",
      "        \"path\": \"part-00000-b43f38af-57c8-415c-ada4-c17fb8195df6-c000.snappy.parquet\",\n",
      "        \"partitionValues\": {},\n",
      "        \"size\": 1076081,\n",
      "        \"modificationTime\": 1724833588815,\n",
      "        \"dataChange\": true,\n",
      "        \"stats\": \"{\\\"numRecords\\\":46029,\\\"minValues\\\":{\\\"VendorId\\\":1,\\\"lpep_pickup_datetime\\\":\\\"2019-12-19 04:42:16\\\",\\\"lpep_dropoff_datetime\\\":\\\"2019-12-19 04:55:25\\\",\\\"store_and_fwd_flag\\\":\\\"N\\\",\\\"RatecodeID\\\":1,\\\"PULocationID\\\":1,\\\"DOLocationID\\\":1,\\\"passenger_count\\\":0,\\\"trip_distance\\\":0.0,\\\"fare_amount\\\":-125.0,\\\"extra\\\":-3.25,\\\"mta_tax\\\":-0.5,\\\"tip_amount\\\":0.0,\\\"tolls_amount\\\":0.0,\\\"improvement_surcharge\\\":-0.3,\\\"total_amount\\\":-125.0,\\\"payment_type\\\":1,\\\"trip_type\\\":1,\\\"congestion_surcharge\\\":0.0},\\\"maxValues\\\":{\\\"VendorId\\\":2,\\\"lpep_pickup_datetime\\\":\\\"2019-12-23 18:51:12\\\",\\\"lpep_dropoff_datetime\\\":\\\"2019-12-24 14:00:47\\\",\\\"store_and_fwd_flag\\\":\\\"Y\\\",\\\"RatecodeID\\\":6,\\\"PULocationID\\\":265,\\\"DOLocationID\\\":265,\\\"passenger_count\\\":10,\\\"trip_distance\\\":333.3,\\\"fare_amount\\\":350.0,\\\"extra\\\":4.5,\\\"mta_tax\\\":0.5,\\\"tip_amount\\\":111.0,\\\"tolls_amount\\\":30.0,\\\"improvement_surcharge\\\":0.3,\\\"total_amount\\\":350.3,\\\"payment_type\\\":4,\\\"trip_type\\\":2,\\\"congestion_surcharge\\\":2.75},\\\"nullCount\\\":{\\\"VendorId\\\":0,\\\"lpep_pickup_datetime\\\":0,\\\"lpep_dropoff_datetime\\\":0,\\\"store_and_fwd_flag\\\":0,\\\"RatecodeID\\\":0,\\\"PULocationID\\\":0,\\\"DOLocationID\\\":0,\\\"passenger_count\\\":0,\\\"trip_distance\\\":0,\\\"fare_amount\\\":0,\\\"extra\\\":0,\\\"mta_tax\\\":0,\\\"tip_amount\\\":0,\\\"tolls_amount\\\":0,\\\"ehail_fee\\\":46029,\\\"improvement_surcharge\\\":0,\\\"total_amount\\\":0,\\\"payment_type\\\":0,\\\"trip_type\\\":0,\\\"congestion_surcharge\\\":0}}\"\n",
      "    }\n",
      "}\n"
     ]
    }
   ],
   "source": [
    "ls(\"/home/jovyan/work/spark-warehouse/taxidb.db/greentaxis/_delta_log/*.json\")\n",
    "cat(\"/home/jovyan/work/spark-warehouse/taxidb.db/greentaxis/_delta_log/00000000000000000003.json\")\n",
    "grep_sed_json(\"add\", 1, \"/home/jovyan/work/spark-warehouse/taxidb.db/greentaxis/_delta_log/00000000000000000003.json\")"
   ]
  },
  {
   "cell_type": "code",
   "execution_count": 23,
   "id": "d29a7020-5e85-4e22-8a67-a4d66909bdde",
   "metadata": {},
   "outputs": [
    {
     "name": "stdout",
     "output_type": "stream",
     "text": [
      "+--------+\n",
      "|count(1)|\n",
      "+--------+\n",
      "|450627  |\n",
      "+--------+\n",
      "\n",
      "+----------------------------+----------------------------------------------------------------+---------------+\n",
      "|col_name                    |data_type                                                       |comment        |\n",
      "+----------------------------+----------------------------------------------------------------+---------------+\n",
      "|VendorId                    |int                                                             |Ride Vendor    |\n",
      "|lpep_pickup_datetime        |string                                                          |               |\n",
      "|lpep_dropoff_datetime       |string                                                          |               |\n",
      "|store_and_fwd_flag          |string                                                          |               |\n",
      "|RatecodeID                  |int                                                             |Ref to RateCard|\n",
      "|PULocationID                |int                                                             |               |\n",
      "|DOLocationID                |int                                                             |               |\n",
      "|passenger_count             |int                                                             |               |\n",
      "|trip_distance               |double                                                          |               |\n",
      "|fare_amount                 |double                                                          |               |\n",
      "|extra                       |double                                                          |               |\n",
      "|mta_tax                     |double                                                          |               |\n",
      "|tip_amount                  |double                                                          |               |\n",
      "|tolls_amount                |double                                                          |               |\n",
      "|ehail_fee                   |string                                                          |               |\n",
      "|improvement_surcharge       |double                                                          |               |\n",
      "|total_amount                |double                                                          |               |\n",
      "|payment_type                |int                                                             |               |\n",
      "|trip_type                   |int                                                             |               |\n",
      "|congestion_surcharge        |double                                                          |               |\n",
      "|                            |                                                                |               |\n",
      "|# Partitioning              |                                                                |               |\n",
      "|Not partitioned             |                                                                |               |\n",
      "|                            |                                                                |               |\n",
      "|# Detailed Table Information|                                                                |               |\n",
      "|Name                        |taxidb.greentaxis                                               |               |\n",
      "|Location                    |file:/home/jovyan/work/spark-warehouse/taxidb.db/greentaxis     |               |\n",
      "|Provider                    |delta                                                           |               |\n",
      "|Owner                       |root                                                            |               |\n",
      "|Table Properties            |[Type=MANAGED,delta.minReaderVersion=1,delta.minWriterVersion=2]|               |\n",
      "+----------------------------+----------------------------------------------------------------+---------------+\n",
      "\n",
      "+-------+-----------------------+------+--------+---------------------------------+-----------------------------------------------------------------------------+----+--------+---------+-----------+--------------+-------------+--------------------------------------------------------------------+------------+-----------------------------------+\n",
      "|version|timestamp              |userId|userName|operation                        |operationParameters                                                          |job |notebook|clusterId|readVersion|isolationLevel|isBlindAppend|operationMetrics                                                    |userMetadata|engineInfo                         |\n",
      "+-------+-----------------------+------+--------+---------------------------------+-----------------------------------------------------------------------------+----+--------+---------+-----------+--------------+-------------+--------------------------------------------------------------------+------------+-----------------------------------+\n",
      "|1      |2024-08-28 14:08:52.189|null  |null    |CREATE OR REPLACE TABLE AS SELECT|{isManaged -> true, description -> null, partitionBy -> [], properties -> {}}|null|null    |null     |0          |Serializable  |false        |{numFiles -> 10, numOutputRows -> 450627, numOutputBytes -> 9229678}|null        |Apache-Spark/3.2.1 Delta-Lake/2.0.0|\n",
      "|0      |2024-08-28 14:07:33.917|null  |null    |CREATE TABLE                     |{isManaged -> true, description -> null, partitionBy -> [], properties -> {}}|null|null    |null     |null       |Serializable  |true         |{}                                                                  |null        |Apache-Spark/3.2.1 Delta-Lake/2.0.0|\n",
      "+-------+-----------------------+------+--------+---------------------------------+-----------------------------------------------------------------------------+----+--------+---------+-----------+--------------+-------------+--------------------------------------------------------------------+------------+-----------------------------------+\n",
      "\n"
     ]
    }
   ],
   "source": [
    "sql(\"select count(1) from taxidb.greentaxis ; describe extended greentaxis ; describe history greentaxis\", 50)"
   ]
  },
  {
   "cell_type": "code",
   "execution_count": 25,
   "id": "13d1ea2b-65c4-47c0-84bf-d524e1105daa",
   "metadata": {},
   "outputs": [
    {
     "name": "stdout",
     "output_type": "stream",
     "text": [
      "-rwxrwxrwx 1 jovyan 1000  2346 Aug 28 05:07 /home/jovyan/work/spark-warehouse/taxidb.db/greentaxis/_delta_log/00000000000000000000.json\n",
      "-rwxrwxrwx 1 jovyan 1000 15695 Aug 28 05:08 /home/jovyan/work/spark-warehouse/taxidb.db/greentaxis/_delta_log/00000000000000000001.json\n"
     ]
    }
   ],
   "source": [
    "ls(\"/home/jovyan/work/spark-warehouse/taxidb.db/greentaxis/_delta_log/*.json\")"
   ]
  },
  {
   "cell_type": "markdown",
   "id": "e6660ba9-76cc-4f7d-8d8f-c28e34b7cbb9",
   "metadata": {},
   "source": [
    "### Performing the DELETE Operation"
   ]
  },
  {
   "cell_type": "code",
   "execution_count": 28,
   "id": "accc6582-0d65-48a1-b2b9-3bd822fb62b2",
   "metadata": {},
   "outputs": [
    {
     "name": "stdout",
     "output_type": "stream",
     "text": [
      "+-------+--------+---------+-----------+\n",
      "|RideId |VendorId|CabNumber|TotalAmount|\n",
      "+-------+--------+---------+-----------+\n",
      "|9999995|1       |TAC304   |20.34      |\n",
      "|9999995|1       |TAC304   |20.34      |\n",
      "|9999995|2       |TAC304   |20.34      |\n",
      "|9999995|2       |TAC304   |20.34      |\n",
      "+-------+--------+---------+-----------+\n",
      "\n"
     ]
    }
   ],
   "source": [
    "sql(\"\"\"SELECT\n",
    "RideId,\n",
    "VendorId,\n",
    "CabNumber,\n",
    "TotalAmount\n",
    "FROM\n",
    "taxidb.YellowTaxis\n",
    "WHERE\n",
    "RideId = 9999995\"\"\", 50)"
   ]
  },
  {
   "cell_type": "code",
   "execution_count": 34,
   "id": "5b9aa181-dad2-48e0-a6d0-c050010f28d3",
   "metadata": {},
   "outputs": [
    {
     "name": "stdout",
     "output_type": "stream",
     "text": [
      "+---------------------+---------+---------------+\n",
      "|col_name             |data_type|comment        |\n",
      "+---------------------+---------+---------------+\n",
      "|VendorId             |int      |Ride Vendor    |\n",
      "|lpep_pickup_datetime |string   |               |\n",
      "|lpep_dropoff_datetime|string   |               |\n",
      "|store_and_fwd_flag   |string   |               |\n",
      "|RatecodeID           |int      |Ref to RateCard|\n",
      "|PULocationID         |int      |               |\n",
      "|DOLocationID         |int      |               |\n",
      "|passenger_count      |int      |               |\n",
      "|trip_distance        |double   |               |\n",
      "|fare_amount          |double   |               |\n",
      "|extra                |double   |               |\n",
      "|mta_tax              |double   |               |\n",
      "|tip_amount           |double   |               |\n",
      "|tolls_amount         |double   |               |\n",
      "|ehail_fee            |string   |               |\n",
      "|improvement_surcharge|double   |               |\n",
      "|total_amount         |double   |               |\n",
      "|payment_type         |int      |               |\n",
      "|trip_type            |int      |               |\n",
      "|congestion_surcharge |double   |               |\n",
      "+---------------------+---------+---------------+\n",
      "only showing top 20 rows\n",
      "\n",
      "+--------+----------+--------+\n",
      "|VendorId|RatecodeID|count(1)|\n",
      "+--------+----------+--------+\n",
      "|2       |5         |7090    |\n",
      "|1       |4         |26      |\n",
      "|2       |4         |238     |\n",
      "|1       |2         |100     |\n",
      "|2       |1         |291603  |\n",
      "|1       |1         |58159   |\n",
      "|1       |5         |1614    |\n",
      "|2       |3         |174     |\n",
      "|2       |2         |853     |\n",
      "|2       |6         |2       |\n",
      "|1       |3         |41      |\n",
      "|1       |6         |2       |\n",
      "|null    |null      |90725   |\n",
      "+--------+----------+--------+\n",
      "\n"
     ]
    }
   ],
   "source": [
    "sql(\"describe greentaxis\")\n",
    "sql(\"select VendorId, RatecodeID, count(1) from greentaxis group by VendorId, RatecodeID\")"
   ]
  },
  {
   "cell_type": "code",
   "execution_count": 37,
   "id": "4b9988a2-d3e6-4ec3-be85-2945af5e6d9a",
   "metadata": {},
   "outputs": [
    {
     "name": "stdout",
     "output_type": "stream",
     "text": [
      "+--------+--------------------+---------------------+------------------+----------+------------+------------+---------------+-------------+-----------+-----+-------+----------+------------+---------+---------------------+------------+------------+---------+--------------------+\n",
      "|VendorId|lpep_pickup_datetime|lpep_dropoff_datetime|store_and_fwd_flag|RatecodeID|PULocationID|DOLocationID|passenger_count|trip_distance|fare_amount|extra|mta_tax|tip_amount|tolls_amount|ehail_fee|improvement_surcharge|total_amount|payment_type|trip_type|congestion_surcharge|\n",
      "+--------+--------------------+---------------------+------------------+----------+------------+------------+---------------+-------------+-----------+-----+-------+----------+------------+---------+---------------------+------------+------------+---------+--------------------+\n",
      "|1       |2019-12-12 14:01:31 |2019-12-12 14:14:25  |N                 |6         |243         |244         |1              |1.4          |3.5        |0.0  |0.5    |0.0       |0.0         |null     |0.3                  |4.3         |2           |1        |0.0                 |\n",
      "|1       |2019-12-31 12:48:57 |2019-12-31 12:49:03  |N                 |6         |31          |31          |1              |2.4          |2.5        |0.0  |0.5    |0.0       |0.0         |null     |0.3                  |3.3         |2           |1        |0.0                 |\n",
      "+--------+--------------------+---------------------+------------------+----------+------------+------------+---------------+-------------+-----------+-----+-------+----------+------------+---------+---------------------+------------+------------+---------+--------------------+\n",
      "\n",
      "+-------+-----------------------+------+--------+---------------------------------+-----------------------------------------------------------------------------+----+--------+---------+-----------+--------------+-------------+--------------------------------------------------------------------+------------+-----------------------------------+\n",
      "|version|timestamp              |userId|userName|operation                        |operationParameters                                                          |job |notebook|clusterId|readVersion|isolationLevel|isBlindAppend|operationMetrics                                                    |userMetadata|engineInfo                         |\n",
      "+-------+-----------------------+------+--------+---------------------------------+-----------------------------------------------------------------------------+----+--------+---------+-----------+--------------+-------------+--------------------------------------------------------------------+------------+-----------------------------------+\n",
      "|1      |2024-08-28 14:08:52.189|null  |null    |CREATE OR REPLACE TABLE AS SELECT|{isManaged -> true, description -> null, partitionBy -> [], properties -> {}}|null|null    |null     |0          |Serializable  |false        |{numFiles -> 10, numOutputRows -> 450627, numOutputBytes -> 9229678}|null        |Apache-Spark/3.2.1 Delta-Lake/2.0.0|\n",
      "|0      |2024-08-28 14:07:33.917|null  |null    |CREATE TABLE                     |{isManaged -> true, description -> null, partitionBy -> [], properties -> {}}|null|null    |null     |null       |Serializable  |true         |{}                                                                  |null        |Apache-Spark/3.2.1 Delta-Lake/2.0.0|\n",
      "+-------+-----------------------+------+--------+---------------------------------+-----------------------------------------------------------------------------+----+--------+---------+-----------+--------------+-------------+--------------------------------------------------------------------+------------+-----------------------------------+\n",
      "\n"
     ]
    }
   ],
   "source": [
    "sql(\"select * from greentaxis where vendorid = 1 and ratecodeid = 6 ; describe history greentaxis\")"
   ]
  },
  {
   "cell_type": "code",
   "execution_count": 38,
   "id": "9ee00dd3-5b0e-44de-a57e-8b105f026b92",
   "metadata": {},
   "outputs": [
    {
     "name": "stdout",
     "output_type": "stream",
     "text": [
      "++\n",
      "||\n",
      "++\n",
      "++\n",
      "\n",
      "+-------+-----------------------+------+--------+---------------------------------+------------------------------------------------------------------------------------------------------------------------+----+--------+---------+-----------+--------------+-------------+------------------------------------------------------------------------------------------------------------------------------------------------------------------------------------+------------+-----------------------------------+\n",
      "|version|timestamp              |userId|userName|operation                        |operationParameters                                                                                                     |job |notebook|clusterId|readVersion|isolationLevel|isBlindAppend|operationMetrics                                                                                                                                                                    |userMetadata|engineInfo                         |\n",
      "+-------+-----------------------+------+--------+---------------------------------+------------------------------------------------------------------------------------------------------------------------+----+--------+---------+-----------+--------------+-------------+------------------------------------------------------------------------------------------------------------------------------------------------------------------------------------+------------+-----------------------------------+\n",
      "|2      |2024-08-28 16:47:08.534|null  |null    |DELETE                           |{predicate -> [\"((spark_catalog.taxidb.greentaxis.vendorid = 1) AND (spark_catalog.taxidb.greentaxis.ratecodeid = 6))\"]}|null|null    |null     |1          |Serializable  |false        |{numRemovedFiles -> 2, numCopiedRows -> 92531, numAddedChangeFiles -> 0, executionTimeMs -> 1604, numDeletedRows -> 2, scanTimeMs -> 433, numAddedFiles -> 2, rewriteTimeMs -> 1171}|null        |Apache-Spark/3.2.1 Delta-Lake/2.0.0|\n",
      "|1      |2024-08-28 14:08:52.189|null  |null    |CREATE OR REPLACE TABLE AS SELECT|{isManaged -> true, description -> null, partitionBy -> [], properties -> {}}                                           |null|null    |null     |0          |Serializable  |false        |{numFiles -> 10, numOutputRows -> 450627, numOutputBytes -> 9229678}                                                                                                                |null        |Apache-Spark/3.2.1 Delta-Lake/2.0.0|\n",
      "|0      |2024-08-28 14:07:33.917|null  |null    |CREATE TABLE                     |{isManaged -> true, description -> null, partitionBy -> [], properties -> {}}                                           |null|null    |null     |null       |Serializable  |true         |{}                                                                                                                                                                                  |null        |Apache-Spark/3.2.1 Delta-Lake/2.0.0|\n",
      "+-------+-----------------------+------+--------+---------------------------------+------------------------------------------------------------------------------------------------------------------------+----+--------+---------+-----------+--------------+-------------+------------------------------------------------------------------------------------------------------------------------------------------------------------------------------------+------------+-----------------------------------+\n",
      "\n"
     ]
    }
   ],
   "source": [
    "sql(\"delete from greentaxis where vendorid = 1 and ratecodeid = 6 ; describe history greentaxis\")"
   ]
  },
  {
   "cell_type": "code",
   "execution_count": 43,
   "id": "a1368b90-54a6-435c-b7f3-3ff287cbef01",
   "metadata": {},
   "outputs": [
    {
     "name": "stdout",
     "output_type": "stream",
     "text": [
      "-rwxrwxrwx 1 jovyan 1000 1013050 Aug 28 07:47 ./spark-warehouse/taxidb.db/greentaxis/part-00000-5ea81464-7c10-4158-8a76-48e0df3b1723-c000.snappy.parquet\n",
      "-rwxrwxrwx 1 jovyan 1000  930701 Aug 28 05:08 ./spark-warehouse/taxidb.db/greentaxis/part-00000-f7d57c66-f63d-4b6f-b173-431f4b70c855-c000.snappy.parquet\n",
      "-rwxrwxrwx 1 jovyan 1000 1074475 Aug 28 05:08 ./spark-warehouse/taxidb.db/greentaxis/part-00001-0fd55311-d8bc-486d-9b83-8ece15716a3a-c000.snappy.parquet\n",
      "-rwxrwxrwx 1 jovyan 1000  917751 Aug 28 07:47 ./spark-warehouse/taxidb.db/greentaxis/part-00001-457f8738-0fe5-47c6-88fa-d4eb8d67a36a-c000.snappy.parquet\n",
      "-rwxrwxrwx 1 jovyan 1000 1013002 Aug 28 05:08 ./spark-warehouse/taxidb.db/greentaxis/part-00002-98ee1bf8-630d-48c1-accc-737ae1f617fc-c000.snappy.parquet\n",
      "-rwxrwxrwx 1 jovyan 1000 1068779 Aug 28 05:08 ./spark-warehouse/taxidb.db/greentaxis/part-00003-921bdcd3-8744-42b2-93de-d4cb31a5f600-c000.snappy.parquet\n",
      "-rwxrwxrwx 1 jovyan 1000  934450 Aug 28 05:08 ./spark-warehouse/taxidb.db/greentaxis/part-00004-088762bd-e793-453e-b1ef-25f41872eb6a-c000.snappy.parquet\n",
      "-rwxrwxrwx 1 jovyan 1000 1075685 Aug 28 05:08 ./spark-warehouse/taxidb.db/greentaxis/part-00005-b7668c11-3775-4b26-8cce-6ca59b79a44c-c000.snappy.parquet\n",
      "-rwxrwxrwx 1 jovyan 1000 1006626 Aug 28 05:08 ./spark-warehouse/taxidb.db/greentaxis/part-00006-cb453028-6940-422f-8622-596782a99a75-c000.snappy.parquet\n",
      "-rwxrwxrwx 1 jovyan 1000  917764 Aug 28 05:08 ./spark-warehouse/taxidb.db/greentaxis/part-00007-619c7fd9-f812-4882-a16c-360c22f70798-c000.snappy.parquet\n",
      "-rwxrwxrwx 1 jovyan 1000  692789 Aug 28 05:08 ./spark-warehouse/taxidb.db/greentaxis/part-00008-de3c1718-07fb-4f37-b231-384536f8e31f-c000.snappy.parquet\n",
      "-rwxrwxrwx 1 jovyan 1000  515407 Aug 28 05:08 ./spark-warehouse/taxidb.db/greentaxis/part-00009-9b248690-bd5d-44dd-8807-862873f9dcd0-c000.snappy.parquet\n"
     ]
    }
   ],
   "source": [
    "# 마지막으로 업데이트 된 2개 파일이 신규로 생성된 파일 블록\n",
    "ls(\"./spark-warehouse/taxidb.db/greentaxis/*.parquet\")"
   ]
  },
  {
   "cell_type": "code",
   "execution_count": 46,
   "id": "eaf0c282-4ed0-4824-b51a-a98822a95e7d",
   "metadata": {},
   "outputs": [
    {
     "name": "stdout",
     "output_type": "stream",
     "text": [
      "-rwxrwxrwx 1 jovyan 1000  2346 Aug 28 05:07 ./spark-warehouse/taxidb.db/greentaxis/_delta_log/00000000000000000000.json\n",
      "-rwxrwxrwx 1 jovyan 1000 15695 Aug 28 05:08 ./spark-warehouse/taxidb.db/greentaxis/_delta_log/00000000000000000001.json\n",
      "-rwxrwxrwx 1 jovyan 1000  4163 Aug 28 07:47 ./spark-warehouse/taxidb.db/greentaxis/_delta_log/00000000000000000002.json\n"
     ]
    }
   ],
   "source": [
    "ls(\"./spark-warehouse/taxidb.db/greentaxis/_delta_log/*.json\")"
   ]
  },
  {
   "cell_type": "code",
   "execution_count": 50,
   "id": "b11f25d1-61fb-493f-8483-86cbc934169f",
   "metadata": {},
   "outputs": [
    {
     "name": "stdout",
     "output_type": "stream",
     "text": [
      "{\"remove\":{\"path\":\"part-00002-98ee1bf8-630d-48c1-accc-737ae1f617fc-c000.snappy.parquet\",\"deletionTimestamp\":1724831229056,\"dataChange\":true,\"extendedFileMetadata\":true,\"partitionValues\":{},\"size\":1013002}}\n",
      "{\"remove\":{\"path\":\"part-00007-619c7fd9-f812-4882-a16c-360c22f70798-c000.snappy.parquet\",\"deletionTimestamp\":1724831229056,\"dataChange\":true,\"extendedFileMetadata\":true,\"partitionValues\":{},\"size\":917764}}\n",
      "{\"add\":{\"path\":\"part-00000-5ea81464-7c10-4158-8a76-48e0df3b1723-c000.snappy.parquet\",\"partitionValues\":{},\"size\":1013050,\"modificationTime\":1724831228405,\"dataChange\":true,\"stats\":\"{\\\"numRecords\\\":46035,\\\"minValues\\\":{\\\"VendorId\\\":1,\\\"lpep_pickup_datetime\\\":\\\"2008-12-31 22:34:56\\\",\\\"lpep_dropoff_datetime\\\":\\\"2008-12-31 22:42:10\\\",\\\"store_and_fwd_flag\\\":\\\"N\\\",\\\"RatecodeID\\\":1,\\\"PULocationID\\\":1,\\\"DOLocationID\\\":1,\\\"passenger_count\\\":0,\\\"trip_distance\\\":-10.75,\\\"fare_amount\\\":-60.0,\\\"extra\\\":-1.0,\\\"mta_tax\\\":-0.5,\\\"tip_amount\\\":-90.5,\\\"tolls_amount\\\":0.0,\\\"improvement_surcharge\\\":-0.3,\\\"total_amount\\\":-98.8,\\\"payment_type\\\":1,\\\"trip_type\\\":1,\\\"congestion_surcharge\\\":-2.75},\\\"maxValues\\\":{\\\"VendorId\\\":2,\\\"lpep_pickup_datetime\\\":\\\"2035-09-02 17:17:47\\\",\\\"lpep_dropoff_datetime\\\":\\\"2035-09-02 19:01:37\\\",\\\"store_and_fwd_flag\\\":\\\"Y\\\",\\\"RatecodeID\\\":5,\\\"PULocationID\\\":265,\\\"DOLocationID\\\":265,\\\"passenger_count\\\":9,\\\"trip_distance\\\":69.86,\\\"fare_amount\\\":487.5,\\\"extra\\\":4.5,\\\"mta_tax\\\":0.5,\\\"tip_amount\\\":90.5,\\\"tolls_amount\\\":24.74,\\\"improvement_surcharge\\\":0.3,\\\"total_amount\\\":488.8,\\\"payment_type\\\":5,\\\"trip_type\\\":2,\\\"congestion_surcharge\\\":2.75},\\\"nullCount\\\":{\\\"VendorId\\\":0,\\\"lpep_pickup_datetime\\\":0,\\\"lpep_dropoff_datetime\\\":0,\\\"store_and_fwd_flag\\\":0,\\\"RatecodeID\\\":0,\\\"PULocationID\\\":0,\\\"DOLocationID\\\":0,\\\"passenger_count\\\":0,\\\"trip_distance\\\":0,\\\"fare_amount\\\":0,\\\"extra\\\":0,\\\"mta_tax\\\":0,\\\"tip_amount\\\":0,\\\"tolls_amount\\\":0,\\\"ehail_fee\\\":46035,\\\"improvement_surcharge\\\":0,\\\"total_amount\\\":0,\\\"payment_type\\\":0,\\\"trip_type\\\":0,\\\"congestion_surcharge\\\":0}}\"}}\n",
      "{\"add\":{\"path\":\"part-00001-457f8738-0fe5-47c6-88fa-d4eb8d67a36a-c000.snappy.parquet\",\"partitionValues\":{},\"size\":917751,\"modificationTime\":1724831228405,\"dataChange\":true,\"stats\":\"{\\\"numRecords\\\":46496,\\\"minValues\\\":{\\\"VendorId\\\":1,\\\"lpep_pickup_datetime\\\":\\\"2019-12-01 00:01:00\\\",\\\"lpep_dropoff_datetime\\\":\\\"2019-12-01 00:27:00\\\",\\\"store_and_fwd_flag\\\":\\\"N\\\",\\\"RatecodeID\\\":1,\\\"PULocationID\\\":3,\\\"DOLocationID\\\":1,\\\"passenger_count\\\":0,\\\"trip_distance\\\":-28.35,\\\"fare_amount\\\":-52.0,\\\"extra\\\":-4.5,\\\"mta_tax\\\":-0.5,\\\"tip_amount\\\":0.0,\\\"tolls_amount\\\":0.0,\\\"improvement_surcharge\\\":-0.3,\\\"total_amount\\\":-57.3,\\\"payment_type\\\":1,\\\"trip_type\\\":1,\\\"congestion_surcharge\\\":0.0},\\\"maxValues\\\":{\\\"VendorId\\\":2,\\\"lpep_pickup_datetime\\\":\\\"2020-01-01 11:58:00\\\",\\\"lpep_dropoff_datetime\\\":\\\"2020-01-01 23:19:22\\\",\\\"store_and_fwd_flag\\\":\\\"Y\\\",\\\"RatecodeID\\\":5,\\\"PULocationID\\\":265,\\\"DOLocationID\\\":265,\\\"passenger_count\\\":7,\\\"trip_distance\\\":53.58,\\\"fare_amount\\\":500.0,\\\"extra\\\":8.25,\\\"mta_tax\\\":3.55,\\\"tip_amount\\\":80.0,\\\"tolls_amount\\\":25.0,\\\"improvement_surcharge\\\":0.3,\\\"total_amount\\\":500.3,\\\"payment_type\\\":5,\\\"trip_type\\\":2,\\\"congestion_surcharge\\\":2.75},\\\"nullCount\\\":{\\\"VendorId\\\":8926,\\\"lpep_pickup_datetime\\\":0,\\\"lpep_dropoff_datetime\\\":0,\\\"store_and_fwd_flag\\\":8926,\\\"RatecodeID\\\":8926,\\\"PULocationID\\\":0,\\\"DOLocationID\\\":0,\\\"passenger_count\\\":8926,\\\"trip_distance\\\":0,\\\"fare_amount\\\":0,\\\"extra\\\":0,\\\"mta_tax\\\":0,\\\"tip_amount\\\":0,\\\"tolls_amount\\\":0,\\\"ehail_fee\\\":46496,\\\"improvement_surcharge\\\":2,\\\"total_amount\\\":0,\\\"payment_type\\\":8926,\\\"trip_type\\\":8928,\\\"congestion_surcharge\\\":8928}}\"}}\n",
      "{\"commitInfo\":{\"timestamp\":1724831229076,\"operation\":\"DELETE\",\"operationParameters\":{\"predicate\":\"[\\\"((spark_catalog.taxidb.greentaxis.vendorid = 1) AND (spark_catalog.taxidb.greentaxis.ratecodeid = 6))\\\"]\"},\"readVersion\":1,\"isolationLevel\":\"Serializable\",\"isBlindAppend\":false,\"operationMetrics\":{\"numRemovedFiles\":\"2\",\"numCopiedRows\":\"92531\",\"numAddedChangeFiles\":\"0\",\"executionTimeMs\":\"1604\",\"numDeletedRows\":\"2\",\"scanTimeMs\":\"433\",\"numAddedFiles\":\"2\",\"rewriteTimeMs\":\"1171\"},\"engineInfo\":\"Apache-Spark/3.2.1 Delta-Lake/2.0.0\",\"txnId\":\"51b15516-7c3d-4981-8dd0-dd4b145e5778\"}}\n"
     ]
    }
   ],
   "source": [
    "# 2회의 add 와 remove action 이 발생함을 알 수 있다\n",
    "cat(\"./spark-warehouse/taxidb.db/greentaxis/_delta_log/00000000000000000002.json\")"
   ]
  }
 ],
 "metadata": {
  "kernelspec": {
   "display_name": "Python 3 (ipykernel)",
   "language": "python",
   "name": "python3"
  },
  "language_info": {
   "codemirror_mode": {
    "name": "ipython",
    "version": 3
   },
   "file_extension": ".py",
   "mimetype": "text/x-python",
   "name": "python",
   "nbconvert_exporter": "python",
   "pygments_lexer": "ipython3",
   "version": "3.9.12"
  }
 },
 "nbformat": 4,
 "nbformat_minor": 5
}
