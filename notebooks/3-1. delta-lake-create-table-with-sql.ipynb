{
 "cells": [
  {
   "cell_type": "markdown",
   "id": "27f760e2-e744-442f-803f-bf8dd22cccd4",
   "metadata": {},
   "source": [
    "# Creating a Delta Table with SQL DDL"
   ]
  },
  {
   "cell_type": "code",
   "execution_count": 1,
   "id": "5197dcc3-f7a6-4c5b-8268-564203f7010f",
   "metadata": {
    "tags": []
   },
   "outputs": [],
   "source": [
    "from pyspark.sql import *\n",
    "from pyspark.sql.functions import *\n",
    "from pyspark.sql.types import *\n",
    "from IPython.display import display, display_pretty, clear_output, JSON\n",
    "\n",
    "from delta import *\n",
    "\n",
    "# 공통 데이터 위치\n",
    "home_jovyan = \"/home/jovyan\"\n",
    "work_data = f\"{home_jovyan}/work/data\"\n",
    "work_dir=!pwd\n",
    "work_dir = work_dir[0]\n",
    "warehouse_dir = f\"{work_dir}/spark-warehouse\"\n",
    "\n",
    "# Create spark session with hive enabled\n",
    "builder = (\n",
    "    SparkSession\n",
    "    .builder\n",
    "    .appName(\"pyspark-notebook\")\n",
    "    .config(\"spark.sql.session.timeZone\", \"Asia/Seoul\")\n",
    "    .config(\"spark.sql.extensions\", \"io.delta.sql.DeltaSparkSessionExtension\")\n",
    "    .config(\"spark.sql.catalog.spark_catalog\", \"org.apache.spark.sql.delta.catalog.DeltaCatalog\")\n",
    "    .config(\"spark.sql.catalogImplementation\", \"hive\")\n",
    "    .config(\"spark.sql.warehouse.dir\", warehouse_dir)\n",
    "    .enableHiveSupport()\n",
    ")"
   ]
  },
  {
   "cell_type": "code",
   "execution_count": 2,
   "id": "1da9a761-26bb-4226-9920-5c6bed2f3c83",
   "metadata": {},
   "outputs": [],
   "source": [
    "# 델타 레이크 생성시에 반드시 `configure_spark_with_delta_pip` 구성을 통해 실행되어야 정상적인 델타 의존성이 로딩됩니다\n",
    "spark = configure_spark_with_delta_pip(builder).getOrCreate()"
   ]
  },
  {
   "cell_type": "code",
   "execution_count": 3,
   "id": "a7f28bd6-7cf0-468c-9a15-aa176bfc8525",
   "metadata": {},
   "outputs": [
    {
     "data": {
      "text/html": [
       "\n",
       "            <div>\n",
       "                <p><b>SparkSession - hive</b></p>\n",
       "                \n",
       "        <div>\n",
       "            <p><b>SparkContext</b></p>\n",
       "\n",
       "            <p><a href=\"http://172.30.99.141:4040\">Spark UI</a></p>\n",
       "\n",
       "            <dl>\n",
       "              <dt>Version</dt>\n",
       "                <dd><code>v3.2.1</code></dd>\n",
       "              <dt>Master</dt>\n",
       "                <dd><code>local[*]</code></dd>\n",
       "              <dt>AppName</dt>\n",
       "                <dd><code>pyspark-notebook</code></dd>\n",
       "            </dl>\n",
       "        </div>\n",
       "        \n",
       "            </div>\n",
       "        "
      ],
      "text/plain": [
       "<pyspark.sql.session.SparkSession at 0x7fce2803de20>"
      ]
     },
     "execution_count": 3,
     "metadata": {},
     "output_type": "execute_result"
    }
   ],
   "source": [
    "# 노트북에서 테이블 형태로 데이터 프레임 출력을 위한 설정을 합니다\n",
    "spark.conf.set(\"spark.sql.repl.eagerEval.enabled\", True) # display enabled\n",
    "spark.conf.set(\"spark.sql.repl.eagerEval.truncate\", 100) # display output columns size\n",
    "\n",
    "# 로컬 환경 최적화\n",
    "spark.conf.set(\"spark.sql.shuffle.partitions\", 5) # the number of partitions to use when shuffling data for joins or aggregations.\n",
    "spark.conf.set(\"spark.sql.streaming.forceDeleteTempCheckpointLocation\", \"true\")\n",
    "spark"
   ]
  },
  {
   "cell_type": "code",
   "execution_count": 49,
   "id": "52df9cfa-9e74-4a0d-a6e2-3cfeb3968e3f",
   "metadata": {},
   "outputs": [],
   "source": [
    "def sql(queries):\n",
    "    for query in queries.split(\";\"):\n",
    "        spark.sql(query).show(truncate=False)\n",
    "\n",
    "def ls(command):\n",
    "    !ls -al {command}\n",
    "\n",
    "def cat(filename):\n",
    "    !cat {filename}\n",
    "\n",
    "def grep(keyword, filename):\n",
    "    !grep -i {keyword} {filename}\n",
    "\n",
    "def grep_and_json(keyword, filename):\n",
    "    !grep {keyword} {filename} | python -m json.tool"
   ]
  },
  {
   "cell_type": "code",
   "execution_count": 52,
   "id": "75327d70-ae6b-4b7c-a9e7-8fc62f093ded",
   "metadata": {},
   "outputs": [
    {
     "name": "stdout",
     "output_type": "stream",
     "text": [
      "+---------+\n",
      "|namespace|\n",
      "+---------+\n",
      "|default  |\n",
      "|taxidb   |\n",
      "+---------+\n",
      "\n",
      "+---------+-----------+-----------+\n",
      "|namespace|tableName  |isTemporary|\n",
      "+---------+-----------+-----------+\n",
      "|taxidb   |greentaxis |false      |\n",
      "|taxidb   |ratecard   |false      |\n",
      "|taxidb   |yellowtaxis|false      |\n",
      "+---------+-----------+-----------+\n",
      "\n"
     ]
    }
   ],
   "source": [
    "sql(\"show databases ; show tables\")"
   ]
  },
  {
   "cell_type": "code",
   "execution_count": 20,
   "id": "4de2d8f9-2c07-4860-bf27-38afddbe7bd1",
   "metadata": {},
   "outputs": [],
   "source": [
    "creating_delta_table_with_sql_ddl = f\"\"\"\n",
    "CREATE TABLE IF NOT EXISTS delta.`{work_data}/rateCard.delta` (\n",
    "    rateCodeId INT,\n",
    "    rateCodeDesc STRING\n",
    ") USING DELTA\n",
    "\"\"\""
   ]
  },
  {
   "cell_type": "code",
   "execution_count": 21,
   "id": "51dd7063-4ff9-4700-98aa-da4d3d28fad3",
   "metadata": {},
   "outputs": [
    {
     "name": "stdout",
     "output_type": "stream",
     "text": [
      "total 4\n",
      "drwxrwxrwx 1 jovyan 1000 512 Aug 14 10:18 .\n",
      "drwxrwxrwx 1 jovyan 1000 512 Aug 14 11:38 ..\n",
      "drwxrwxrwx 1 jovyan 1000 512 Aug 14 10:18 _delta_log\n",
      "-rwxrwxrwx 1 jovyan 1000 858 Aug 14 10:18 part-00000-6c22f7b9-a139-40a7-b5dd-086d9064e657-c000.snappy.parquet\n",
      "-rwxrwxrwx 1 jovyan 1000  16 Aug 14 10:18 .part-00000-6c22f7b9-a139-40a7-b5dd-086d9064e657-c000.snappy.parquet.crc\n",
      "\n",
      "CREATE TABLE IF NOT EXISTS delta.`/home/jovyan/work/data/rateCard.delta` (\n",
      "    rateCodeId INT,\n",
      "    rateCodeDesc STRING\n",
      ") USING DELTA\n",
      "\n"
     ]
    }
   ],
   "source": [
    "!ls -al {work_data}/rateCard.delta\n",
    "print(creating_delta_table_with_sql_ddl)"
   ]
  },
  {
   "cell_type": "code",
   "execution_count": 22,
   "id": "1e80a2f6-0445-424e-9ed1-1edb9cc2ebde",
   "metadata": {},
   "outputs": [
    {
     "data": {
      "text/html": [
       "<table border='1'>\n",
       "<tr><th></th></tr>\n",
       "</table>\n"
      ],
      "text/plain": [
       "++\n",
       "||\n",
       "++\n",
       "++"
      ]
     },
     "execution_count": 22,
     "metadata": {},
     "output_type": "execute_result"
    }
   ],
   "source": [
    "# 아래의 명령을 수행하면 metastore_db/tmp 경로의 파일이 업데이트 됩니다\n",
    "spark.sql(creating_delta_table_with_sql_ddl)"
   ]
  },
  {
   "cell_type": "code",
   "execution_count": 26,
   "id": "8ee574af-03bb-4a97-870d-cec9a8961612",
   "metadata": {},
   "outputs": [
    {
     "name": "stdout",
     "output_type": "stream",
     "text": [
      "\n",
      "CREATE DATABASE IF NOT EXISTS taxidb\n",
      "\n",
      "\n",
      "CREATE TABLE IF NOT EXISTS taxidb.rateCard (\n",
      "    rateCodeId INT,\n",
      "    rateCodeDesc STRING\n",
      ") USING DELTA\n",
      "LOCATION '/home/jovyan/work/data/rateCard.delta'\n",
      "\n"
     ]
    }
   ],
   "source": [
    "creating_database = f\"\"\"\n",
    "CREATE DATABASE IF NOT EXISTS taxidb\n",
    "\"\"\"\n",
    "print(creating_database)\n",
    "\n",
    "# 아래의 명령 수행시에 경로는 반드시 singlequote 입니다\n",
    "creating_delta_table_with_name = f\"\"\"\n",
    "CREATE TABLE IF NOT EXISTS taxidb.rateCard (\n",
    "    rateCodeId INT,\n",
    "    rateCodeDesc STRING\n",
    ") USING DELTA\n",
    "LOCATION '{work_data}/rateCard.delta'\n",
    "\"\"\"\n",
    "print(creating_delta_table_with_name)"
   ]
  },
  {
   "cell_type": "code",
   "execution_count": 27,
   "id": "74b1f055-b2fe-458b-85eb-5fd8b1c8fe6d",
   "metadata": {},
   "outputs": [
    {
     "data": {
      "text/html": [
       "<table border='1'>\n",
       "<tr><th></th></tr>\n",
       "</table>\n"
      ],
      "text/plain": [
       "++\n",
       "||\n",
       "++\n",
       "++"
      ]
     },
     "execution_count": 27,
     "metadata": {},
     "output_type": "execute_result"
    }
   ],
   "source": [
    "sql(creating_database)\n",
    "sql(creating_delta_table_with_name)"
   ]
  },
  {
   "cell_type": "code",
   "execution_count": 32,
   "id": "264cb1e2-6042-48aa-992b-09201c617d9c",
   "metadata": {},
   "outputs": [
    {
     "name": "stdout",
     "output_type": "stream",
     "text": [
      "++\n",
      "||\n",
      "++\n",
      "++\n",
      "\n",
      "+---------+-----------+-----------+\n",
      "|namespace|tableName  |isTemporary|\n",
      "+---------+-----------+-----------+\n",
      "|taxidb   |greentaxis |false      |\n",
      "|taxidb   |ratecard   |false      |\n",
      "|taxidb   |yellowtaxis|false      |\n",
      "+---------+-----------+-----------+\n",
      "\n"
     ]
    }
   ],
   "source": [
    "sql(\"use taxidb; show tables\")"
   ]
  },
  {
   "cell_type": "code",
   "execution_count": 36,
   "id": "307c34bd-ed1f-452c-88a4-4f042068e669",
   "metadata": {},
   "outputs": [
    {
     "name": "stdout",
     "output_type": "stream",
     "text": [
      "total 8\n",
      "drwxrwxrwx 1 jovyan 1000 512 Aug 14 10:18 .\n",
      "drwxrwxrwx 1 jovyan 1000 512 Aug 14 10:18 ..\n",
      "-rwxrwxrwx 1 jovyan 1000 788 Aug 14 10:16 00000000000000000000.json\n",
      "-rwxrwxrwx 1 jovyan 1000  16 Aug 14 10:16 .00000000000000000000.json.crc\n",
      "-rwxrwxrwx 1 jovyan 1000 822 Aug 14 10:18 00000000000000000001.json\n",
      "-rwxrwxrwx 1 jovyan 1000  16 Aug 14 10:18 .00000000000000000001.json.crc\n"
     ]
    }
   ],
   "source": [
    "ls(\"./data/rateCard.delta/_delta_log\")"
   ]
  },
  {
   "cell_type": "code",
   "execution_count": 39,
   "id": "33250a4b-66f0-4930-9827-58d263478c2a",
   "metadata": {},
   "outputs": [
    {
     "name": "stdout",
     "output_type": "stream",
     "text": [
      "{\"protocol\":{\"minReaderVersion\":1,\"minWriterVersion\":2}}\n",
      "{\"metaData\":{\"id\":\"a40a4266-af73-41ab-8d73-d7e7ab96e31f\",\"format\":{\"provider\":\"parquet\",\"options\":{}},\"schemaString\":\"{\\\"type\\\":\\\"struct\\\",\\\"fields\\\":[{\\\"name\\\":\\\"rateCodeId\\\",\\\"type\\\":\\\"integer\\\",\\\"nullable\\\":true,\\\"metadata\\\":{}},{\\\"name\\\":\\\"rateCodeDesc\\\",\\\"type\\\":\\\"string\\\",\\\"nullable\\\":true,\\\"metadata\\\":{}}]}\",\"partitionColumns\":[],\"configuration\":{},\"createdTime\":1723630609862}}\n",
      "{\"commitInfo\":{\"timestamp\":1723630609999,\"operation\":\"CREATE TABLE\",\"operationParameters\":{\"isManaged\":\"false\",\"description\":null,\"partitionBy\":\"[]\",\"properties\":\"{}\"},\"isolationLevel\":\"Serializable\",\"isBlindAppend\":true,\"operationMetrics\":{},\"engineInfo\":\"Apache-Spark/3.2.1 Delta-Lake/2.0.0\",\"txnId\":\"ee694a5e-eaf8-4b10-ab57-4b15562518f6\"}}\n"
     ]
    }
   ],
   "source": [
    "# This metadata action is always written to the first transaction log entry created for our new table\n",
    "cat(\"./data/rateCard.delta/_delta_log/00000000000000000000.json\")"
   ]
  },
  {
   "cell_type": "code",
   "execution_count": 41,
   "id": "bdd4b570-2273-4471-a6e5-179844c26008",
   "metadata": {},
   "outputs": [
    {
     "name": "stdout",
     "output_type": "stream",
     "text": [
      "{\"metaData\":{\"id\":\"a40a4266-af73-41ab-8d73-d7e7ab96e31f\",\"format\":{\"provider\":\"parquet\",\"options\":{}},\"schemaString\":\"{\\\"type\\\":\\\"struct\\\",\\\"fields\\\":[{\\\"name\\\":\\\"rateCodeId\\\",\\\"type\\\":\\\"integer\\\",\\\"nullable\\\":true,\\\"metadata\\\":{}},{\\\"name\\\":\\\"rateCodeDesc\\\",\\\"type\\\":\\\"string\\\",\\\"nullable\\\":true,\\\"metadata\\\":{}}]}\",\"partitionColumns\":[],\"configuration\":{},\"createdTime\":1723630609862}}\n"
     ]
    }
   ],
   "source": [
    "grep(\"metadata\", \"./data/rateCard.delta/_delta_log/00000000000000000000.json\")"
   ]
  },
  {
   "cell_type": "code",
   "execution_count": 50,
   "id": "8f94d31d-ef6b-46f2-bd49-15d513fa508b",
   "metadata": {},
   "outputs": [
    {
     "name": "stdout",
     "output_type": "stream",
     "text": [
      "{\n",
      "    \"metaData\": {\n",
      "        \"id\": \"a40a4266-af73-41ab-8d73-d7e7ab96e31f\",\n",
      "        \"format\": {\n",
      "            \"provider\": \"parquet\",\n",
      "            \"options\": {}\n",
      "        },\n",
      "        \"schemaString\": \"{\\\"type\\\":\\\"struct\\\",\\\"fields\\\":[{\\\"name\\\":\\\"rateCodeId\\\",\\\"type\\\":\\\"integer\\\",\\\"nullable\\\":true,\\\"metadata\\\":{}},{\\\"name\\\":\\\"rateCodeDesc\\\",\\\"type\\\":\\\"string\\\",\\\"nullable\\\":true,\\\"metadata\\\":{}}]}\",\n",
      "        \"partitionColumns\": [],\n",
      "        \"configuration\": {},\n",
      "        \"createdTime\": 1723630609862\n",
      "    }\n",
      "}\n"
     ]
    }
   ],
   "source": [
    "# Delta Lake has written the schema of the table to the transaction log entry, together with some auditing and partitioning information\n",
    "grep_and_json(\"metadata\", \"./data/rateCard.delta/_delta_log/00000000000000000000.json\")"
   ]
  },
  {
   "cell_type": "code",
   "execution_count": 10,
   "id": "ecc00fd1-696f-401d-89d5-c98d0e04cfc7",
   "metadata": {},
   "outputs": [
    {
     "name": "stdout",
     "output_type": "stream",
     "text": [
      "+----------------------------+-------------------------------------------------------------------------------+-------+\n",
      "|col_name                    |data_type                                                                      |comment|\n",
      "+----------------------------+-------------------------------------------------------------------------------+-------+\n",
      "|rateCodeId                  |int                                                                            |       |\n",
      "|rateCodeDesc                |string                                                                         |       |\n",
      "|                            |                                                                               |       |\n",
      "|# Partitioning              |                                                                               |       |\n",
      "|Not partitioned             |                                                                               |       |\n",
      "|                            |                                                                               |       |\n",
      "|# Detailed Table Information|                                                                               |       |\n",
      "|Name                        |taxidb.ratecard                                                                |       |\n",
      "|Location                    |file:/home/jovyan/work/data/rateCard.delta                                     |       |\n",
      "|Provider                    |delta                                                                          |       |\n",
      "|Owner                       |root                                                                           |       |\n",
      "|Table Properties            |[Type=EXTERNAL,delta.minReaderVersion=1,delta.minWriterVersion=2,external=true]|       |\n",
      "+----------------------------+-------------------------------------------------------------------------------+-------+\n",
      "\n",
      "+----------+------------+\n",
      "|rateCodeId|rateCodeDesc|\n",
      "+----------+------------+\n",
      "+----------+------------+\n",
      "\n"
     ]
    }
   ],
   "source": [
    "# When you want to find the Delta Lake-specific attributes, you can also use the DESCRIBE TABLE EXTENDED command,\n",
    "# which provides more detailed metadata infor‐mation, including the following generic attributes:\n",
    "\n",
    "spark.sql(\"describe extended ratecard\").show(truncate=False)\n",
    "spark.sql(\"select * from ratecard\").show(truncate=False)"
   ]
  },
  {
   "cell_type": "code",
   "execution_count": 12,
   "id": "7dbf07ff-ef01-424b-90a8-2ef25e1c737e",
   "metadata": {},
   "outputs": [
    {
     "name": "stdout",
     "output_type": "stream",
     "text": [
      "root\n",
      " |-- RateCodeID: integer (nullable = true)\n",
      " |-- RateCodeDesc: string (nullable = true)\n",
      "\n",
      "+----------+---------------------+\n",
      "|RateCodeID|RateCodeDesc         |\n",
      "+----------+---------------------+\n",
      "|1         |Standard Rate        |\n",
      "|2         |JFK                  |\n",
      "|3         |Newark               |\n",
      "|4         |Nassau or Westchester|\n",
      "|5         |Negotiated fare      |\n",
      "|6         |Group ride           |\n",
      "+----------+---------------------+\n",
      "\n"
     ]
    }
   ],
   "source": [
    "csvRateCard = spark.read.format(\"csv\").option(\"inferSchema\", True).option(\"header\", True).load(f\"{work_dir}/data/rateCard.csv\")\n",
    "csvRateCard.printSchema()\n",
    "csvRateCard.show(truncate=False)"
   ]
  },
  {
   "cell_type": "code",
   "execution_count": 13,
   "id": "dffe494c-0d1d-49a3-8f5a-ae97b43d3d77",
   "metadata": {},
   "outputs": [],
   "source": [
    "csvRateCard.write.format(\"delta\").mode(\"overwrite\").saveAsTable(\"taxidb.rateCard\")"
   ]
  },
  {
   "cell_type": "code",
   "execution_count": 14,
   "id": "4bb32667-aaa9-4027-8fef-b5efded5d4ef",
   "metadata": {},
   "outputs": [
    {
     "name": "stdout",
     "output_type": "stream",
     "text": [
      "00000000000000000000.json  00000000000000000001.json\n",
      "{\"add\":{\"path\":\"part-00000-879dbb89-ee5a-47d4-ab0d-0e6445663607-c000.snappy.parquet\",\"partitionValues\":{},\"size\":858,\"modificationTime\":1723625669220,\"dataChange\":true,\"stats\":\"{\\\"numRecords\\\":6,\\\"minValues\\\":{\\\"rateCodeId\\\":1,\\\"rateCodeDesc\\\":\\\"Group ride\\\"},\\\"maxValues\\\":{\\\"rateCodeId\\\":6,\\\"rateCodeDesc\\\":\\\"Standard Rate\\\"},\\\"nullCount\\\":{\\\"rateCodeId\\\":0,\\\"rateCodeDesc\\\":0}}\"}}\n",
      "{\"commitInfo\":{\"timestamp\":1723625668130,\"operation\":\"CREATE OR REPLACE TABLE AS SELECT\",\"operationParameters\":{\"isManaged\":\"false\",\"description\":null,\"partitionBy\":\"[]\",\"properties\":\"{}\"},\"readVersion\":0,\"isolationLevel\":\"Serializable\",\"isBlindAppend\":false,\"operationMetrics\":{\"numFiles\":\"1\",\"numOutputRows\":\"6\",\"numOutputBytes\":\"858\"},\"engineInfo\":\"Apache-Spark/3.2.1 Delta-Lake/2.0.0\",\"txnId\":\"5e49e955-4dca-4948-89a1-32cf38bb834f\"}}\n"
     ]
    }
   ],
   "source": [
    "!ls {work_dir}/data/rateCard.delta/_delta_log\n",
    "!cat {work_dir}/data/rateCard.delta/_delta_log/00000000000000000001.json"
   ]
  },
  {
   "cell_type": "code",
   "execution_count": 30,
   "id": "267dfa7c-5ed6-44ce-bd9a-d6b559d5fce0",
   "metadata": {},
   "outputs": [
    {
     "data": {
      "text/html": [
       "<table border='1'>\n",
       "<tr><th></th></tr>\n",
       "</table>\n"
      ],
      "text/plain": [
       "++\n",
       "||\n",
       "++\n",
       "++"
      ]
     },
     "execution_count": 30,
     "metadata": {},
     "output_type": "execute_result"
    }
   ],
   "source": [
    "# 테이블 드랍의 경우 모든 메타 정보와 데이터 파일은 유지되며, 데이터베이스에 테이블 정보만 삭제됨\n",
    "spark.sql(\"DROP TABLE IF EXISTS taxidb.rateCard\")"
   ]
  },
  {
   "cell_type": "code",
   "execution_count": 31,
   "id": "09ab5fba-7d23-464c-8600-b592af5edb50",
   "metadata": {},
   "outputs": [
    {
     "name": "stdout",
     "output_type": "stream",
     "text": [
      "00000000000000000000.json  00000000000000000001.json\n",
      "{\"add\":{\"path\":\"part-00000-879dbb89-ee5a-47d4-ab0d-0e6445663607-c000.snappy.parquet\",\"partitionValues\":{},\"size\":858,\"modificationTime\":1723625669220,\"dataChange\":true,\"stats\":\"{\\\"numRecords\\\":6,\\\"minValues\\\":{\\\"rateCodeId\\\":1,\\\"rateCodeDesc\\\":\\\"Group ride\\\"},\\\"maxValues\\\":{\\\"rateCodeId\\\":6,\\\"rateCodeDesc\\\":\\\"Standard Rate\\\"},\\\"nullCount\\\":{\\\"rateCodeId\\\":0,\\\"rateCodeDesc\\\":0}}\"}}\n",
      "{\"commitInfo\":{\"timestamp\":1723625668130,\"operation\":\"CREATE OR REPLACE TABLE AS SELECT\",\"operationParameters\":{\"isManaged\":\"false\",\"description\":null,\"partitionBy\":\"[]\",\"properties\":\"{}\"},\"readVersion\":0,\"isolationLevel\":\"Serializable\",\"isBlindAppend\":false,\"operationMetrics\":{\"numFiles\":\"1\",\"numOutputRows\":\"6\",\"numOutputBytes\":\"858\"},\"engineInfo\":\"Apache-Spark/3.2.1 Delta-Lake/2.0.0\",\"txnId\":\"5e49e955-4dca-4948-89a1-32cf38bb834f\"}}\n"
     ]
    }
   ],
   "source": [
    "!ls {work_dir}/data/rateCard.delta/_delta_log\n",
    "!cat {work_dir}/data/rateCard.delta/_delta_log/00000000000000000001.json"
   ]
  },
  {
   "cell_type": "code",
   "execution_count": 51,
   "id": "4768ee42-619a-4990-b49c-0aafd1774d64",
   "metadata": {},
   "outputs": [
    {
     "name": "stdout",
     "output_type": "stream",
     "text": [
      "++\n",
      "||\n",
      "++\n",
      "++\n",
      "\n",
      "+---------+-----------+-----------+\n",
      "|namespace|tableName  |isTemporary|\n",
      "+---------+-----------+-----------+\n",
      "|taxidb   |greentaxis |false      |\n",
      "|taxidb   |ratecard   |false      |\n",
      "|taxidb   |yellowtaxis|false      |\n",
      "+---------+-----------+-----------+\n",
      "\n"
     ]
    }
   ],
   "source": [
    "sql(\"use taxidb ; show tables\")"
   ]
  },
  {
   "cell_type": "code",
   "execution_count": null,
   "id": "dd9e116a-80f6-48ea-8566-de4619cda289",
   "metadata": {},
   "outputs": [],
   "source": [
    "# Generated Columns from spark 3.4.0\n",
    "spark.sql(f\"\"\"\n",
    "CREATE TABLE taxidb.YellowTaxis (\n",
    "    RideId INT COMMENT 'This is our primary Key column',\n",
    "    VendorId INT,\n",
    "    PickupTime TIMESTAMP,\n",
    "    PickupYear INT GENERATED ALWAYS AS(YEAR (PickupTime)),\n",
    "    PickupMonth INT GENERATED ALWAYS AS(MONTH (PickupTime)),\n",
    "    PickupDay INT GENERATED ALWAYS AS(DAY (PickupTime)),\n",
    "    DropTime TIMESTAMP,\n",
    "    CabNumber STRING COMMENT 'Official Yellow Cab Number'\n",
    ") USING DELTA\n",
    "LOCATION '{work_dir}/data/YellowTaxis.delta'\n",
    "COMMENT 'Table to store Yellow Taxi data'\n",
    "\"\"\")"
   ]
  },
  {
   "cell_type": "code",
   "execution_count": null,
   "id": "e051ce3d-bc93-4b96-b197-98790d522856",
   "metadata": {},
   "outputs": [],
   "source": [
    "spark.sql(f\"\"\"\n",
    "INSERT INTO taxidb.YellowTaxis (RideId, VendorId, PickupTime, DropTime, CabNumber)\n",
    "VALUES (5, 101, '2021-7-1T8:43:28UTC+3', '2021-7-1T8:43:28UTC+3', '51-986')\n",
    "\"\"\")\n",
    "# The expression you use in GENERATED ALWAYS AS can be any Spark SQL function that always returns the same result\n",
    "# when given the same argument values, with a few exceptions we will touch on soon\n",
    "spark.sql(f\"\"\"\n",
    "SELECT PickupTime, PickupYear, PickupMonth, PickupDay FROM taxidb.YellowTaxis\n",
    "\"\"\").show(truncate=False)"
   ]
  },
  {
   "cell_type": "code",
   "execution_count": null,
   "id": "4763feb7-e50a-42fd-80bc-b84dcaeeb121",
   "metadata": {},
   "outputs": [],
   "source": [
    "# Non deterministic function\n",
    "# uuid() 와 같은 generated column 은 non deterministic expression 으로 사용할 수 없다.\n",
    "# 아래와 같은 expression 의 경우에도 마찬가지\n",
    "# - User-defined functions\n",
    "# - Aggregate functions\n",
    "# - Window functions\n",
    "# - Functions returning multiple rows\n",
    "\n",
    "spark.sql(f\"\"\"\n",
    "CREATE OR REPLACE TABLE default.dummy\n",
    "    ID STRING GENERATED ALWAYS AS (UUID()),\n",
    "    Name STRING\n",
    ") USING DELTA\n",
    "\"\"\")"
   ]
  },
  {
   "cell_type": "markdown",
   "id": "796a9351-dae4-4b1e-a83f-ce3e2d4776f9",
   "metadata": {},
   "source": []
  }
 ],
 "metadata": {
  "kernelspec": {
   "display_name": "Python 3 (ipykernel)",
   "language": "python",
   "name": "python3"
  },
  "language_info": {
   "codemirror_mode": {
    "name": "ipython",
    "version": 3
   },
   "file_extension": ".py",
   "mimetype": "text/x-python",
   "name": "python",
   "nbconvert_exporter": "python",
   "pygments_lexer": "ipython3",
   "version": "3.9.12"
  }
 },
 "nbformat": 4,
 "nbformat_minor": 5
}
