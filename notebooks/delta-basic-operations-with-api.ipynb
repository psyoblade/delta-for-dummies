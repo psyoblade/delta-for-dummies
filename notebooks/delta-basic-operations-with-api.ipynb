{
 "cells": [
  {
   "cell_type": "markdown",
   "id": "d657b2f3-464b-46c8-96af-76521af7c5ab",
   "metadata": {},
   "source": [
    "### Creating a Delta Table with the DeltaTableBuilder API"
   ]
  },
  {
   "cell_type": "code",
   "execution_count": 1,
   "id": "de619a5e-2b8b-4294-81b0-8ca435db8657",
   "metadata": {},
   "outputs": [],
   "source": [
    "from pyspark.sql import *\n",
    "from pyspark.sql.functions import *\n",
    "from pyspark.sql.types import *\n",
    "from IPython.display import display, display_pretty, clear_output, JSON\n",
    "\n",
    "from delta import *\n",
    "\n",
    "# 공통 데이터 위치\n",
    "home_jovyan = \"/home/jovyan\"\n",
    "work_data = f\"{home_jovyan}/work/data\"\n",
    "work_dir=!pwd\n",
    "work_dir = work_dir[0]\n",
    "warehouse_dir = f\"{work_dir}/spark-warehouse\"\n",
    "\n",
    "# Create spark session with hive enabled\n",
    "builder = (\n",
    "    SparkSession\n",
    "    .builder\n",
    "    .appName(\"pyspark-notebook\")\n",
    "    .config(\"spark.sql.session.timeZone\", \"Asia/Seoul\")\n",
    "    .config(\"spark.sql.extensions\", \"io.delta.sql.DeltaSparkSessionExtension\")\n",
    "    .config(\"spark.sql.catalog.spark_catalog\", \"org.apache.spark.sql.delta.catalog.DeltaCatalog\")\n",
    "    .config(\"spark.sql.catalogImplementation\", \"hive\")\n",
    "    .config(\"spark.sql.warehouse.dir\", warehouse_dir)\n",
    "    .enableHiveSupport()\n",
    ")"
   ]
  },
  {
   "cell_type": "code",
   "execution_count": 2,
   "id": "d5046ad9-8423-49f0-93d6-b650da098fa1",
   "metadata": {},
   "outputs": [],
   "source": [
    "# 델타 레이크 생성시에 반드시 `configure_spark_with_delta_pip` 구성을 통해 실행되어야 정상적인 델타 의존성이 로딩됩니다\n",
    "spark = configure_spark_with_delta_pip(builder).getOrCreate()"
   ]
  },
  {
   "cell_type": "code",
   "execution_count": 3,
   "id": "7a25c297-9f0c-4b52-8560-c598f181cfe9",
   "metadata": {},
   "outputs": [
    {
     "data": {
      "text/html": [
       "\n",
       "            <div>\n",
       "                <p><b>SparkSession - hive</b></p>\n",
       "                \n",
       "        <div>\n",
       "            <p><b>SparkContext</b></p>\n",
       "\n",
       "            <p><a href=\"http://172.20.221.123:4040\">Spark UI</a></p>\n",
       "\n",
       "            <dl>\n",
       "              <dt>Version</dt>\n",
       "                <dd><code>v3.2.1</code></dd>\n",
       "              <dt>Master</dt>\n",
       "                <dd><code>local[*]</code></dd>\n",
       "              <dt>AppName</dt>\n",
       "                <dd><code>pyspark-notebook</code></dd>\n",
       "            </dl>\n",
       "        </div>\n",
       "        \n",
       "            </div>\n",
       "        "
      ],
      "text/plain": [
       "<pyspark.sql.session.SparkSession at 0x7f3fb19f0f10>"
      ]
     },
     "execution_count": 3,
     "metadata": {},
     "output_type": "execute_result"
    }
   ],
   "source": [
    "\n",
    "# 노트북에서 테이블 형태로 데이터 프레임 출력을 위한 설정을 합니다\n",
    "spark.conf.set(\"spark.sql.repl.eagerEval.enabled\", True) # display enabled\n",
    "spark.conf.set(\"spark.sql.repl.eagerEval.truncate\", 100) # display output columns size\n",
    "\n",
    "# 로컬 환경 최적화\n",
    "spark.conf.set(\"spark.sql.shuffle.partitions\", 5) # the number of partitions to use when shuffling data for joins or aggregations.\n",
    "spark.conf.set(\"spark.sql.streaming.forceDeleteTempCheckpointLocation\", \"true\")\n",
    "spark"
   ]
  },
  {
   "cell_type": "code",
   "execution_count": 10,
   "id": "afaef3d6-2685-4af5-9671-cf9b5b120f51",
   "metadata": {},
   "outputs": [
    {
     "data": {
      "text/html": [
       "<table border='1'>\n",
       "<tr><th></th></tr>\n",
       "</table>\n"
      ],
      "text/plain": [
       "++\n",
       "||\n",
       "++\n",
       "++"
      ]
     },
     "execution_count": 10,
     "metadata": {},
     "output_type": "execute_result"
    }
   ],
   "source": [
    "# DeltaTable API 수준에서 Drop 하는 API 제공되지 않음\n",
    "spark.sql(\"\"\"\n",
    "DROP TABLE IF EXISTS taxidb.greenTaxis\n",
    "\"\"\")"
   ]
  },
  {
   "cell_type": "code",
   "execution_count": 11,
   "id": "c8c1f347-cd05-48f1-bccc-2324e8af5294",
   "metadata": {},
   "outputs": [
    {
     "data": {
      "text/plain": [
       "<delta.tables.DeltaTable at 0x7f3fa1d5a880>"
      ]
     },
     "execution_count": 11,
     "metadata": {},
     "output_type": "execute_result"
    }
   ],
   "source": [
    "deltaTable = (\n",
    "    DeltaTable.createIfNotExists(spark)\n",
    "    .tableName(\"taxidb.greenTaxis\")\n",
    "    .addColumn(\"VendorId\", \"INT\", comment = \"Ride Vendor\")\n",
    "    .addColumn(\"lpep_pickup_datetime\", \"STRING\")\n",
    "    .addColumn(\"lpep_dropoff_datetime\", \"STRING\")\n",
    "    .addColumn(\"store_and_fwd_flag\", \"STRING\")\n",
    "    .addColumn(\"RatecodeID\", \"INT\", comment = \"Ref to RateCard\")\n",
    "    .addColumn(\"PULocationID\", \"INT\")\n",
    "    .addColumn(\"DOLocationID\", \"INT\")\n",
    "    .addColumn(\"passenger_count\", \"INT\")\n",
    "    .addColumn(\"trip_distance\", \"DOUBLE\")\n",
    "    .addColumn(\"fare_amount\", \"DOUBLE\")\n",
    "    .addColumn(\"extra\", \"DOUBLE\")\n",
    "    .addColumn(\"mta_tax\", \"DOUBLE\")\n",
    "    .addColumn(\"tip_amount\", \"DOUBLE\")\n",
    "    .addColumn(\"tolls_amount\", \"DOUBLE\")\n",
    "    .addColumn(\"ehail_fee\", \"STRING\")\n",
    "    .addColumn(\"improvement_surcharge\", \"DOUBLE\")\n",
    "    .addColumn(\"total_amount\", \"DOUBLE\")\n",
    "    .addColumn(\"payment_type\", \"INT\")\n",
    "    .addColumn(\"trip_type\", \"INT\")\n",
    "    .addColumn(\"congestion_surcharge\", \"DOUBLE\")\n",
    ")\n",
    "deltaTable.execute()"
   ]
  },
  {
   "cell_type": "code",
   "execution_count": 12,
   "id": "bbfe0f19-3149-439b-acdb-577eb259ff7c",
   "metadata": {},
   "outputs": [
    {
     "name": "stdout",
     "output_type": "stream",
     "text": [
      "/home/jovyan/work\n",
      "00000000000000000000.json\n"
     ]
    }
   ],
   "source": [
    "print(work_dir)\n",
    "!ls {work_dir}/spark-warehouse/taxidb.db/greentaxis/_delta_log"
   ]
  },
  {
   "cell_type": "code",
   "execution_count": 13,
   "id": "03535a83-39e2-477d-ab31-0f6111d6bd29",
   "metadata": {},
   "outputs": [
    {
     "name": "stdout",
     "output_type": "stream",
     "text": [
      "root\n",
      " |-- VendorID: integer (nullable = true)\n",
      " |-- lpep_pickup_datetime: string (nullable = true)\n",
      " |-- lpep_dropoff_datetime: string (nullable = true)\n",
      " |-- store_and_fwd_flag: string (nullable = true)\n",
      " |-- RatecodeID: integer (nullable = true)\n",
      " |-- PULocationID: integer (nullable = true)\n",
      " |-- DOLocationID: integer (nullable = true)\n",
      " |-- passenger_count: integer (nullable = true)\n",
      " |-- trip_distance: double (nullable = true)\n",
      " |-- fare_amount: double (nullable = true)\n",
      " |-- extra: double (nullable = true)\n",
      " |-- mta_tax: double (nullable = true)\n",
      " |-- tip_amount: double (nullable = true)\n",
      " |-- tolls_amount: double (nullable = true)\n",
      " |-- ehail_fee: string (nullable = true)\n",
      " |-- improvement_surcharge: double (nullable = true)\n",
      " |-- total_amount: double (nullable = true)\n",
      " |-- payment_type: integer (nullable = true)\n",
      " |-- trip_type: integer (nullable = true)\n",
      " |-- congestion_surcharge: double (nullable = true)\n",
      "\n",
      "+--------+--------------------+---------------------+------------------+----------+------------+------------+---------------+-------------+-----------+-----+-------+----------+------------+---------+---------------------+------------+------------+---------+--------------------+\n",
      "|VendorID|lpep_pickup_datetime|lpep_dropoff_datetime|store_and_fwd_flag|RatecodeID|PULocationID|DOLocationID|passenger_count|trip_distance|fare_amount|extra|mta_tax|tip_amount|tolls_amount|ehail_fee|improvement_surcharge|total_amount|payment_type|trip_type|congestion_surcharge|\n",
      "+--------+--------------------+---------------------+------------------+----------+------------+------------+---------------+-------------+-----------+-----+-------+----------+------------+---------+---------------------+------------+------------+---------+--------------------+\n",
      "|1       |2019-12-01 00:09:45 |2019-12-01 00:10:59  |N                 |1         |145         |145         |1              |0.0          |3.0        |0.5  |0.5    |0.0       |0.0         |null     |0.3                  |4.3         |2           |1        |0.0                 |\n",
      "|2       |2019-12-01 00:26:05 |2019-12-01 00:31:30  |N                 |1         |24          |41          |1              |0.67         |5.5        |0.5  |0.5    |2.04      |0.0         |null     |0.3                  |8.84        |1           |1        |0.0                 |\n",
      "|2       |2019-12-01 00:56:36 |2019-12-01 00:59:38  |N                 |1         |74          |41          |1              |0.61         |4.5        |0.5  |0.5    |0.0       |0.0         |null     |0.3                  |5.8         |2           |1        |0.0                 |\n",
      "|2       |2019-12-01 00:26:20 |2019-12-01 00:40:19  |N                 |1         |255         |157         |1              |3.9          |14.0       |0.5  |0.5    |0.0       |0.0         |null     |0.3                  |15.3        |2           |1        |0.0                 |\n",
      "|2       |2019-12-01 00:56:36 |2019-12-01 00:59:56  |N                 |1         |80          |255         |1              |0.5          |4.5        |0.5  |0.5    |0.0       |0.0         |null     |0.3                  |5.8         |2           |1        |0.0                 |\n",
      "|1       |2019-12-01 00:14:28 |2019-12-01 00:19:39  |N                 |1         |21          |123         |1              |1.1          |6.0        |0.5  |0.5    |0.0       |0.0         |null     |0.3                  |7.3         |2           |1        |0.0                 |\n",
      "|1       |2019-12-01 00:45:54 |2019-12-01 00:52:46  |N                 |1         |181         |228         |1              |1.5          |7.5        |0.5  |0.5    |0.0       |0.0         |null     |0.3                  |8.8         |2           |1        |0.0                 |\n",
      "|2       |2019-12-01 00:25:35 |2019-12-01 01:04:08  |N                 |1         |7           |53          |1              |7.42         |30.0       |0.5  |0.5    |0.0       |0.0         |null     |0.3                  |31.3        |2           |1        |0.0                 |\n",
      "|1       |2019-12-01 00:43:12 |2019-12-01 00:56:44  |N                 |1         |75          |223         |1              |5.3          |16.5       |0.5  |0.5    |0.0       |6.12        |null     |0.3                  |23.92       |2           |1        |0.0                 |\n",
      "|2       |2019-12-01 00:56:08 |2019-12-01 01:05:11  |N                 |1         |112         |232         |1              |2.64         |10.0       |0.5  |0.5    |2.81      |0.0         |null     |0.3                  |16.86       |1           |1        |2.75                |\n",
      "+--------+--------------------+---------------------+------------------+----------+------------+------------+---------------+-------------+-----------+-----+-------+----------+------------+---------+---------------------+------------+------------+---------+--------------------+\n",
      "only showing top 10 rows\n",
      "\n"
     ]
    }
   ],
   "source": [
    "csvGreenTaxi = spark.read.format(\"csv\").option(\"inferSchema\", True).option(\"header\", True).load(f\"{work_dir}/data/greenTaxis.csv\")\n",
    "csvGreenTaxi.printSchema()\n",
    "csvGreenTaxi.show(10, truncate=False)"
   ]
  },
  {
   "cell_type": "code",
   "execution_count": 14,
   "id": "daa5f410-c2ec-4226-ab4c-b20b076895ca",
   "metadata": {},
   "outputs": [],
   "source": [
    "csvGreenTaxi.write.format(\"delta\").mode(\"overwrite\").saveAsTable(\"taxidb.greenTaxis\")"
   ]
  },
  {
   "cell_type": "code",
   "execution_count": 15,
   "id": "ba4c2dbb-7722-448d-b63e-5e037013ea59",
   "metadata": {
    "collapsed": true,
    "jupyter": {
     "outputs_hidden": true
    },
    "tags": []
   },
   "outputs": [
    {
     "name": "stdout",
     "output_type": "stream",
     "text": [
      "00000000000000000000.json  00000000000000000001.json\n",
      "{\"add\":{\"path\":\"part-00000-565658ad-e550-4167-b9c9-5a360ee8049c-c000.snappy.parquet\",\"partitionValues\":{},\"size\":930701,\"modificationTime\":1723631962161,\"dataChange\":true,\"stats\":\"{\\\"numRecords\\\":46087,\\\"minValues\\\":{\\\"VendorId\\\":1,\\\"lpep_pickup_datetime\\\":\\\"2009-01-01 00:10:36\\\",\\\"lpep_dropoff_datetime\\\":\\\"2009-01-01 00:20:29\\\",\\\"store_and_fwd_flag\\\":\\\"N\\\",\\\"RatecodeID\\\":1,\\\"PULocationID\\\":2,\\\"DOLocationID\\\":1,\\\"passenger_count\\\":0,\\\"trip_distance\\\":0.0,\\\"fare_amount\\\":-52.0,\\\"extra\\\":-1.0,\\\"mta_tax\\\":-0.5,\\\"tip_amount\\\":-0.76,\\\"tolls_amount\\\":0.0,\\\"improvement_surcharge\\\":-0.3,\\\"total_amount\\\":-52.8,\\\"payment_type\\\":1,\\\"trip_type\\\":1,\\\"congestion_surcharge\\\":0.0},\\\"maxValues\\\":{\\\"VendorId\\\":2,\\\"lpep_pickup_datetime\\\":\\\"2019-12-05 17:46:27\\\",\\\"lpep_dropoff_datetime\\\":\\\"2019-12-06 06:12:54\\\",\\\"store_and_fwd_flag\\\":\\\"Y\\\",\\\"RatecodeID\\\":5,\\\"PULocationID\\\":265,\\\"DOLocationID\\\":265,\\\"passenger_count\\\":8,\\\"trip_distance\\\":74.6,\\\"fare_amount\\\":375.0,\\\"extra\\\":4.5,\\\"mta_tax\\\":0.5,\\\"tip_amount\\\":42.91,\\\"tolls_amount\\\":48.0,\\\"improvement_surcharge\\\":0.3,\\\"total_amount\\\":376.3,\\\"payment_type\\\":4,\\\"trip_type\\\":2,\\\"congestion_surcharge\\\":2.75},\\\"nullCount\\\":{\\\"VendorId\\\":0,\\\"lpep_pickup_datetime\\\":0,\\\"lpep_dropoff_datetime\\\":0,\\\"store_and_fwd_flag\\\":0,\\\"RatecodeID\\\":0,\\\"PULocationID\\\":0,\\\"DOLocationID\\\":0,\\\"passenger_count\\\":0,\\\"trip_distance\\\":0,\\\"fare_amount\\\":0,\\\"extra\\\":0,\\\"mta_tax\\\":0,\\\"tip_amount\\\":0,\\\"tolls_amount\\\":0,\\\"ehail_fee\\\":46087,\\\"improvement_surcharge\\\":0,\\\"total_amount\\\":0,\\\"payment_type\\\":0,\\\"trip_type\\\":0,\\\"congestion_surcharge\\\":0}}\"}}\n",
      "{\"add\":{\"path\":\"part-00001-a5f38afd-4a76-4346-b648-157131ce1ea4-c000.snappy.parquet\",\"partitionValues\":{},\"size\":1074475,\"modificationTime\":1723631962194,\"dataChange\":true,\"stats\":\"{\\\"numRecords\\\":45991,\\\"minValues\\\":{\\\"VendorId\\\":1,\\\"lpep_pickup_datetime\\\":\\\"2019-12-05 06:23:03\\\",\\\"lpep_dropoff_datetime\\\":\\\"2019-12-05 07:06:50\\\",\\\"store_and_fwd_flag\\\":\\\"N\\\",\\\"RatecodeID\\\":1,\\\"PULocationID\\\":2,\\\"DOLocationID\\\":1,\\\"passenger_count\\\":0,\\\"trip_distance\\\":-3.93,\\\"fare_amount\\\":-200.0,\\\"extra\\\":-1.0,\\\"mta_tax\\\":-0.5,\\\"tip_amount\\\":-0.66,\\\"tolls_amount\\\":0.0,\\\"improvement_surcharge\\\":-0.3,\\\"total_amount\\\":-200.0,\\\"payment_type\\\":1,\\\"trip_type\\\":1,\\\"congestion_surcharge\\\":-2.75},\\\"maxValues\\\":{\\\"VendorId\\\":2,\\\"lpep_pickup_datetime\\\":\\\"2019-12-08 23:56:03\\\",\\\"lpep_dropoff_datetime\\\":\\\"2019-12-09 14:56:12\\\",\\\"store_and_fwd_flag\\\":\\\"Y\\\",\\\"RatecodeID\\\":5,\\\"PULocationID\\\":265,\\\"DOLocationID\\\":265,\\\"passenger_count\\\":8,\\\"trip_distance\\\":60.04,\\\"fare_amount\\\":298.0,\\\"extra\\\":4.5,\\\"mta_tax\\\":2.75,\\\"tip_amount\\\":441.0,\\\"tolls_amount\\\":35.5,\\\"improvement_surcharge\\\":0.3,\\\"total_amount\\\":452.8,\\\"payment_type\\\":5,\\\"trip_type\\\":2,\\\"congestion_surcharge\\\":2.75},\\\"nullCount\\\":{\\\"VendorId\\\":0,\\\"lpep_pickup_datetime\\\":0,\\\"lpep_dropoff_datetime\\\":0,\\\"store_and_fwd_flag\\\":0,\\\"RatecodeID\\\":0,\\\"PULocationID\\\":0,\\\"DOLocationID\\\":0,\\\"passenger_count\\\":0,\\\"trip_distance\\\":0,\\\"fare_amount\\\":0,\\\"extra\\\":0,\\\"mta_tax\\\":0,\\\"tip_amount\\\":0,\\\"tolls_amount\\\":0,\\\"ehail_fee\\\":45991,\\\"improvement_surcharge\\\":0,\\\"total_amount\\\":0,\\\"payment_type\\\":0,\\\"trip_type\\\":0,\\\"congestion_surcharge\\\":0}}\"}}\n",
      "{\"add\":{\"path\":\"part-00002-8e5b754e-5005-4f55-85a0-857714098803-c000.snappy.parquet\",\"partitionValues\":{},\"size\":1013002,\"modificationTime\":1723631962182,\"dataChange\":true,\"stats\":\"{\\\"numRecords\\\":46036,\\\"minValues\\\":{\\\"VendorId\\\":1,\\\"lpep_pickup_datetime\\\":\\\"2008-12-31 22:34:56\\\",\\\"lpep_dropoff_datetime\\\":\\\"2008-12-31 22:42:10\\\",\\\"store_and_fwd_flag\\\":\\\"N\\\",\\\"RatecodeID\\\":1,\\\"PULocationID\\\":1,\\\"DOLocationID\\\":1,\\\"passenger_count\\\":0,\\\"trip_distance\\\":-10.75,\\\"fare_amount\\\":-60.0,\\\"extra\\\":-1.0,\\\"mta_tax\\\":-0.5,\\\"tip_amount\\\":-90.5,\\\"tolls_amount\\\":0.0,\\\"improvement_surcharge\\\":-0.3,\\\"total_amount\\\":-98.8,\\\"payment_type\\\":1,\\\"trip_type\\\":1,\\\"congestion_surcharge\\\":-2.75},\\\"maxValues\\\":{\\\"VendorId\\\":2,\\\"lpep_pickup_datetime\\\":\\\"2035-09-02 17:17:47\\\",\\\"lpep_dropoff_datetime\\\":\\\"2035-09-02 19:01:37\\\",\\\"store_and_fwd_flag\\\":\\\"Y\\\",\\\"RatecodeID\\\":6,\\\"PULocationID\\\":265,\\\"DOLocationID\\\":265,\\\"passenger_count\\\":9,\\\"trip_distance\\\":69.86,\\\"fare_amount\\\":487.5,\\\"extra\\\":4.5,\\\"mta_tax\\\":0.5,\\\"tip_amount\\\":90.5,\\\"tolls_amount\\\":24.74,\\\"improvement_surcharge\\\":0.3,\\\"total_amount\\\":488.8,\\\"payment_type\\\":5,\\\"trip_type\\\":2,\\\"congestion_surcharge\\\":2.75},\\\"nullCount\\\":{\\\"VendorId\\\":0,\\\"lpep_pickup_datetime\\\":0,\\\"lpep_dropoff_datetime\\\":0,\\\"store_and_fwd_flag\\\":0,\\\"RatecodeID\\\":0,\\\"PULocationID\\\":0,\\\"DOLocationID\\\":0,\\\"passenger_count\\\":0,\\\"trip_distance\\\":0,\\\"fare_amount\\\":0,\\\"extra\\\":0,\\\"mta_tax\\\":0,\\\"tip_amount\\\":0,\\\"tolls_amount\\\":0,\\\"ehail_fee\\\":46036,\\\"improvement_surcharge\\\":0,\\\"total_amount\\\":0,\\\"payment_type\\\":0,\\\"trip_type\\\":0,\\\"congestion_surcharge\\\":0}}\"}}\n",
      "{\"add\":{\"path\":\"part-00003-f3a64648-6287-47df-85fc-9cf9ca57dbe5-c000.snappy.parquet\",\"partitionValues\":{},\"size\":1068779,\"modificationTime\":1723631962199,\"dataChange\":true,\"stats\":\"{\\\"numRecords\\\":45986,\\\"minValues\\\":{\\\"VendorId\\\":1,\\\"lpep_pickup_datetime\\\":\\\"2019-12-12 08:11:29\\\",\\\"lpep_dropoff_datetime\\\":\\\"2019-12-12 08:13:51\\\",\\\"store_and_fwd_flag\\\":\\\"N\\\",\\\"RatecodeID\\\":1,\\\"PULocationID\\\":1,\\\"DOLocationID\\\":1,\\\"passenger_count\\\":0,\\\"trip_distance\\\":-23.88,\\\"fare_amount\\\":-52.0,\\\"extra\\\":-4.5,\\\"mta_tax\\\":-0.5,\\\"tip_amount\\\":-1.0,\\\"tolls_amount\\\":0.0,\\\"improvement_surcharge\\\":-0.3,\\\"total_amount\\\":-57.3,\\\"payment_type\\\":1,\\\"trip_type\\\":1,\\\"congestion_surcharge\\\":-2.75},\\\"maxValues\\\":{\\\"VendorId\\\":2,\\\"lpep_pickup_datetime\\\":\\\"2020-03-29 13:25:45\\\",\\\"lpep_dropoff_datetime\\\":\\\"2020-03-29 13:34:11\\\",\\\"store_and_fwd_flag\\\":\\\"Y\\\",\\\"RatecodeID\\\":5,\\\"PULocationID\\\":265,\\\"DOLocationID\\\":265,\\\"passenger_count\\\":8,\\\"trip_distance\\\":70.47,\\\"fare_amount\\\":402.5,\\\"extra\\\":4.5,\\\"mta_tax\\\":3.55,\\\"tip_amount\\\":177.73,\\\"tolls_amount\\\":29.74,\\\"improvement_surcharge\\\":0.3,\\\"total_amount\\\":402.8,\\\"payment_type\\\":4,\\\"trip_type\\\":2,\\\"congestion_surcharge\\\":2.75},\\\"nullCount\\\":{\\\"VendorId\\\":0,\\\"lpep_pickup_datetime\\\":0,\\\"lpep_dropoff_datetime\\\":0,\\\"store_and_fwd_flag\\\":0,\\\"RatecodeID\\\":0,\\\"PULocationID\\\":0,\\\"DOLocationID\\\":0,\\\"passenger_count\\\":0,\\\"trip_distance\\\":0,\\\"fare_amount\\\":0,\\\"extra\\\":0,\\\"mta_tax\\\":0,\\\"tip_amount\\\":0,\\\"tolls_amount\\\":0,\\\"ehail_fee\\\":45986,\\\"improvement_surcharge\\\":0,\\\"total_amount\\\":0,\\\"payment_type\\\":0,\\\"trip_type\\\":0,\\\"congestion_surcharge\\\":0}}\"}}\n",
      "{\"add\":{\"path\":\"part-00004-00135592-9750-46e0-8a19-0a0806ac2807-c000.snappy.parquet\",\"partitionValues\":{},\"size\":934450,\"modificationTime\":1723631962171,\"dataChange\":true,\"stats\":\"{\\\"numRecords\\\":46034,\\\"minValues\\\":{\\\"VendorId\\\":1,\\\"lpep_pickup_datetime\\\":\\\"2009-01-01 00:02:37\\\",\\\"lpep_dropoff_datetime\\\":\\\"2009-01-01 00:06:44\\\",\\\"store_and_fwd_flag\\\":\\\"N\\\",\\\"RatecodeID\\\":1,\\\"PULocationID\\\":1,\\\"DOLocationID\\\":1,\\\"passenger_count\\\":0,\\\"trip_distance\\\":-1.41,\\\"fare_amount\\\":-52.0,\\\"extra\\\":-4.5,\\\"mta_tax\\\":-0.5,\\\"tip_amount\\\":-1.14,\\\"tolls_amount\\\":0.0,\\\"improvement_surcharge\\\":-0.3,\\\"total_amount\\\":-57.3,\\\"payment_type\\\":1,\\\"trip_type\\\":1,\\\"congestion_surcharge\\\":-2.75},\\\"maxValues\\\":{\\\"VendorId\\\":2,\\\"lpep_pickup_datetime\\\":\\\"2020-04-22 20:19:55\\\",\\\"lpep_dropoff_datetime\\\":\\\"2020-04-22 20:28:12\\\",\\\"store_and_fwd_flag\\\":\\\"Y\\\",\\\"RatecodeID\\\":5,\\\"PULocationID\\\":265,\\\"DOLocationID\\\":265,\\\"passenger_count\\\":7,\\\"trip_distance\\\":59.35,\\\"fare_amount\\\":400.0,\\\"extra\\\":4.5,\\\"mta_tax\\\":0.5,\\\"tip_amount\\\":180.0,\\\"tolls_amount\\\":24.5,\\\"improvement_surcharge\\\":0.3,\\\"total_amount\\\":400.3,\\\"payment_type\\\":4,\\\"trip_type\\\":2,\\\"congestion_surcharge\\\":2.75},\\\"nullCount\\\":{\\\"VendorId\\\":0,\\\"lpep_pickup_datetime\\\":0,\\\"lpep_dropoff_datetime\\\":0,\\\"store_and_fwd_flag\\\":0,\\\"RatecodeID\\\":0,\\\"PULocationID\\\":0,\\\"DOLocationID\\\":0,\\\"passenger_count\\\":0,\\\"trip_distance\\\":0,\\\"fare_amount\\\":0,\\\"extra\\\":0,\\\"mta_tax\\\":0,\\\"tip_amount\\\":0,\\\"tolls_amount\\\":0,\\\"ehail_fee\\\":46034,\\\"improvement_surcharge\\\":0,\\\"total_amount\\\":0,\\\"payment_type\\\":0,\\\"trip_type\\\":0,\\\"congestion_surcharge\\\":0}}\"}}\n",
      "{\"add\":{\"path\":\"part-00005-12e95af2-ed39-46f1-9f61-3a3ffc04e7d0-c000.snappy.parquet\",\"partitionValues\":{},\"size\":1075685,\"modificationTime\":1723631962133,\"dataChange\":true,\"stats\":\"{\\\"numRecords\\\":46029,\\\"minValues\\\":{\\\"VendorId\\\":1,\\\"lpep_pickup_datetime\\\":\\\"2019-12-19 04:42:16\\\",\\\"lpep_dropoff_datetime\\\":\\\"2019-12-19 04:55:25\\\",\\\"store_and_fwd_flag\\\":\\\"N\\\",\\\"RatecodeID\\\":1,\\\"PULocationID\\\":1,\\\"DOLocationID\\\":1,\\\"passenger_count\\\":0,\\\"trip_distance\\\":0.0,\\\"fare_amount\\\":-125.0,\\\"extra\\\":-3.25,\\\"mta_tax\\\":-0.5,\\\"tip_amount\\\":0.0,\\\"tolls_amount\\\":0.0,\\\"improvement_surcharge\\\":-0.3,\\\"total_amount\\\":-125.0,\\\"payment_type\\\":1,\\\"trip_type\\\":1,\\\"congestion_surcharge\\\":0.0},\\\"maxValues\\\":{\\\"VendorId\\\":2,\\\"lpep_pickup_datetime\\\":\\\"2019-12-23 18:51:12\\\",\\\"lpep_dropoff_datetime\\\":\\\"2019-12-24 14:00:47\\\",\\\"store_and_fwd_flag\\\":\\\"Y\\\",\\\"RatecodeID\\\":6,\\\"PULocationID\\\":265,\\\"DOLocationID\\\":265,\\\"passenger_count\\\":8,\\\"trip_distance\\\":333.3,\\\"fare_amount\\\":350.0,\\\"extra\\\":4.5,\\\"mta_tax\\\":0.5,\\\"tip_amount\\\":111.0,\\\"tolls_amount\\\":30.0,\\\"improvement_surcharge\\\":0.3,\\\"total_amount\\\":350.3,\\\"payment_type\\\":4,\\\"trip_type\\\":2,\\\"congestion_surcharge\\\":2.75},\\\"nullCount\\\":{\\\"VendorId\\\":0,\\\"lpep_pickup_datetime\\\":0,\\\"lpep_dropoff_datetime\\\":0,\\\"store_and_fwd_flag\\\":0,\\\"RatecodeID\\\":0,\\\"PULocationID\\\":0,\\\"DOLocationID\\\":0,\\\"passenger_count\\\":0,\\\"trip_distance\\\":0,\\\"fare_amount\\\":0,\\\"extra\\\":0,\\\"mta_tax\\\":0,\\\"tip_amount\\\":0,\\\"tolls_amount\\\":0,\\\"ehail_fee\\\":46029,\\\"improvement_surcharge\\\":0,\\\"total_amount\\\":0,\\\"payment_type\\\":0,\\\"trip_type\\\":0,\\\"congestion_surcharge\\\":0}}\"}}\n",
      "{\"add\":{\"path\":\"part-00006-51f70b12-a485-4a17-8cfb-277be59980ff-c000.snappy.parquet\",\"partitionValues\":{},\"size\":1006626,\"modificationTime\":1723631962170,\"dataChange\":true,\"stats\":\"{\\\"numRecords\\\":46168,\\\"minValues\\\":{\\\"VendorId\\\":1,\\\"lpep_pickup_datetime\\\":\\\"2009-01-01 00:45:29\\\",\\\"lpep_dropoff_datetime\\\":\\\"2009-01-01 01:43:01\\\",\\\"store_and_fwd_flag\\\":\\\"N\\\",\\\"RatecodeID\\\":1,\\\"PULocationID\\\":1,\\\"DOLocationID\\\":1,\\\"passenger_count\\\":0,\\\"trip_distance\\\":0.0,\\\"fare_amount\\\":-52.0,\\\"extra\\\":-4.5,\\\"mta_tax\\\":-0.5,\\\"tip_amount\\\":-1.44,\\\"tolls_amount\\\":0.0,\\\"improvement_surcharge\\\":-0.3,\\\"total_amount\\\":-57.3,\\\"payment_type\\\":1,\\\"trip_type\\\":1,\\\"congestion_surcharge\\\":0.0},\\\"maxValues\\\":{\\\"VendorId\\\":2,\\\"lpep_pickup_datetime\\\":\\\"2019-12-28 14:16:15\\\",\\\"lpep_dropoff_datetime\\\":\\\"2019-12-29 11:25:08\\\",\\\"store_and_fwd_flag\\\":\\\"Y\\\",\\\"RatecodeID\\\":6,\\\"PULocationID\\\":265,\\\"DOLocationID\\\":265,\\\"passenger_count\\\":9,\\\"trip_distance\\\":87.14,\\\"fare_amount\\\":407.5,\\\"extra\\\":4.5,\\\"mta_tax\\\":0.5,\\\"tip_amount\\\":50.0,\\\"tolls_amount\\\":38.62,\\\"improvement_surcharge\\\":0.3,\\\"total_amount\\\":408.8,\\\"payment_type\\\":5,\\\"trip_type\\\":2,\\\"congestion_surcharge\\\":2.75},\\\"nullCount\\\":{\\\"VendorId\\\":0,\\\"lpep_pickup_datetime\\\":0,\\\"lpep_dropoff_datetime\\\":0,\\\"store_and_fwd_flag\\\":0,\\\"RatecodeID\\\":0,\\\"PULocationID\\\":0,\\\"DOLocationID\\\":0,\\\"passenger_count\\\":0,\\\"trip_distance\\\":0,\\\"fare_amount\\\":0,\\\"extra\\\":0,\\\"mta_tax\\\":0,\\\"tip_amount\\\":0,\\\"tolls_amount\\\":0,\\\"ehail_fee\\\":46168,\\\"improvement_surcharge\\\":0,\\\"total_amount\\\":0,\\\"payment_type\\\":0,\\\"trip_type\\\":0,\\\"congestion_surcharge\\\":0}}\"}}\n",
      "{\"add\":{\"path\":\"part-00007-275513e7-b411-49a4-99be-8a6974edec23-c000.snappy.parquet\",\"partitionValues\":{},\"size\":917764,\"modificationTime\":1723631962129,\"dataChange\":true,\"stats\":\"{\\\"numRecords\\\":46497,\\\"minValues\\\":{\\\"VendorId\\\":1,\\\"lpep_pickup_datetime\\\":\\\"2019-12-01 00:01:00\\\",\\\"lpep_dropoff_datetime\\\":\\\"2019-12-01 00:27:00\\\",\\\"store_and_fwd_flag\\\":\\\"N\\\",\\\"RatecodeID\\\":1,\\\"PULocationID\\\":3,\\\"DOLocationID\\\":1,\\\"passenger_count\\\":0,\\\"trip_distance\\\":-28.35,\\\"fare_amount\\\":-52.0,\\\"extra\\\":-4.5,\\\"mta_tax\\\":-0.5,\\\"tip_amount\\\":0.0,\\\"tolls_amount\\\":0.0,\\\"improvement_surcharge\\\":-0.3,\\\"total_amount\\\":-57.3,\\\"payment_type\\\":1,\\\"trip_type\\\":1,\\\"congestion_surcharge\\\":0.0},\\\"maxValues\\\":{\\\"VendorId\\\":2,\\\"lpep_pickup_datetime\\\":\\\"2020-01-01 11:58:00\\\",\\\"lpep_dropoff_datetime\\\":\\\"2020-01-01 23:19:22\\\",\\\"store_and_fwd_flag\\\":\\\"Y\\\",\\\"RatecodeID\\\":6,\\\"PULocationID\\\":265,\\\"DOLocationID\\\":265,\\\"passenger_count\\\":7,\\\"trip_distance\\\":53.58,\\\"fare_amount\\\":500.0,\\\"extra\\\":8.25,\\\"mta_tax\\\":3.55,\\\"tip_amount\\\":80.0,\\\"tolls_amount\\\":25.0,\\\"improvement_surcharge\\\":0.3,\\\"total_amount\\\":500.3,\\\"payment_type\\\":5,\\\"trip_type\\\":2,\\\"congestion_surcharge\\\":2.75},\\\"nullCount\\\":{\\\"VendorId\\\":8926,\\\"lpep_pickup_datetime\\\":0,\\\"lpep_dropoff_datetime\\\":0,\\\"store_and_fwd_flag\\\":8926,\\\"RatecodeID\\\":8926,\\\"PULocationID\\\":0,\\\"DOLocationID\\\":0,\\\"passenger_count\\\":8926,\\\"trip_distance\\\":0,\\\"fare_amount\\\":0,\\\"extra\\\":0,\\\"mta_tax\\\":0,\\\"tip_amount\\\":0,\\\"tolls_amount\\\":0,\\\"ehail_fee\\\":46497,\\\"improvement_surcharge\\\":2,\\\"total_amount\\\":0,\\\"payment_type\\\":8926,\\\"trip_type\\\":8928,\\\"congestion_surcharge\\\":8928}}\"}}\n",
      "{\"add\":{\"path\":\"part-00008-f5762dc4-3553-466c-8e53-a5cac6a661d2-c000.snappy.parquet\",\"partitionValues\":{},\"size\":692789,\"modificationTime\":1723631962111,\"dataChange\":true,\"stats\":\"{\\\"numRecords\\\":48009,\\\"minValues\\\":{\\\"lpep_pickup_datetime\\\":\\\"2019-12-04 10:00:00\\\",\\\"lpep_dropoff_datetime\\\":\\\"2019-12-04 10:06:00\\\",\\\"PULocationID\\\":3,\\\"DOLocationID\\\":2,\\\"trip_distance\\\":-4311.35,\\\"fare_amount\\\":-48.6,\\\"extra\\\":0.0,\\\"mta_tax\\\":-0.5,\\\"tip_amount\\\":0.0,\\\"tolls_amount\\\":0.0,\\\"improvement_surcharge\\\":0.0,\\\"total_amount\\\":-46.32},\\\"maxValues\\\":{\\\"lpep_pickup_datetime\\\":\\\"2019-12-18 10:59:00\\\",\\\"lpep_dropoff_datetime\\\":\\\"2019-12-18 11:56:00\\\",\\\"PULocationID\\\":265,\\\"DOLocationID\\\":265,\\\"trip_distance\\\":77843.76,\\\"fare_amount\\\":101.64,\\\"extra\\\":8.25,\\\"mta_tax\\\":0.5,\\\"tip_amount\\\":12.07,\\\"tolls_amount\\\":40.42,\\\"improvement_surcharge\\\":0.3,\\\"total_amount\\\":123.25},\\\"nullCount\\\":{\\\"VendorId\\\":48009,\\\"lpep_pickup_datetime\\\":0,\\\"lpep_dropoff_datetime\\\":0,\\\"store_and_fwd_flag\\\":48009,\\\"RatecodeID\\\":48009,\\\"PULocationID\\\":0,\\\"DOLocationID\\\":0,\\\"passenger_count\\\":48009,\\\"trip_distance\\\":0,\\\"fare_amount\\\":0,\\\"extra\\\":0,\\\"mta_tax\\\":0,\\\"tip_amount\\\":0,\\\"tolls_amount\\\":0,\\\"ehail_fee\\\":48009,\\\"improvement_surcharge\\\":0,\\\"total_amount\\\":0,\\\"payment_type\\\":48009,\\\"trip_type\\\":48009,\\\"congestion_surcharge\\\":48009}}\"}}\n",
      "{\"add\":{\"path\":\"part-00009-3f529d6b-36ff-43cd-a9be-f490fc926295-c000.snappy.parquet\",\"partitionValues\":{},\"size\":515407,\"modificationTime\":1723631962111,\"dataChange\":true,\"stats\":\"{\\\"numRecords\\\":33790,\\\"minValues\\\":{\\\"lpep_pickup_datetime\\\":\\\"2019-12-18 10:00:00\\\",\\\"lpep_dropoff_datetime\\\":\\\"2019-12-18 10:07:00\\\",\\\"PULocationID\\\":3,\\\"DOLocationID\\\":2,\\\"trip_distance\\\":-9436.33,\\\"fare_amount\\\":-27.3,\\\"extra\\\":0.0,\\\"mta_tax\\\":0.0,\\\"tip_amount\\\":0.0,\\\"tolls_amount\\\":0.0,\\\"improvement_surcharge\\\":-0.3,\\\"total_amount\\\":-27.6},\\\"maxValues\\\":{\\\"lpep_pickup_datetime\\\":\\\"2019-12-31 23:59:00\\\",\\\"lpep_dropoff_datetime\\\":\\\"2020-01-01 00:31:00\\\",\\\"PULocationID\\\":265,\\\"DOLocationID\\\":265,\\\"trip_distance\\\":43.09,\\\"fare_amount\\\":103.2,\\\"extra\\\":8.25,\\\"mta_tax\\\":0.5,\\\"tip_amount\\\":8.83,\\\"tolls_amount\\\":24.48,\\\"improvement_surcharge\\\":0.3,\\\"total_amount\\\":120.5},\\\"nullCount\\\":{\\\"VendorId\\\":33790,\\\"lpep_pickup_datetime\\\":0,\\\"lpep_dropoff_datetime\\\":0,\\\"store_and_fwd_flag\\\":33790,\\\"RatecodeID\\\":33790,\\\"PULocationID\\\":0,\\\"DOLocationID\\\":0,\\\"passenger_count\\\":33790,\\\"trip_distance\\\":0,\\\"fare_amount\\\":0,\\\"extra\\\":0,\\\"mta_tax\\\":0,\\\"tip_amount\\\":0,\\\"tolls_amount\\\":0,\\\"ehail_fee\\\":33790,\\\"improvement_surcharge\\\":0,\\\"total_amount\\\":0,\\\"payment_type\\\":33790,\\\"trip_type\\\":33790,\\\"congestion_surcharge\\\":33790}}\"}}\n",
      "{\"commitInfo\":{\"timestamp\":1723631961158,\"operation\":\"CREATE OR REPLACE TABLE AS SELECT\",\"operationParameters\":{\"isManaged\":\"true\",\"description\":null,\"partitionBy\":\"[]\",\"properties\":\"{}\"},\"readVersion\":0,\"isolationLevel\":\"Serializable\",\"isBlindAppend\":false,\"operationMetrics\":{\"numFiles\":\"10\",\"numOutputRows\":\"450627\",\"numOutputBytes\":\"9229678\"},\"engineInfo\":\"Apache-Spark/3.2.1 Delta-Lake/2.0.0\",\"txnId\":\"d6867f9f-491e-42ea-958f-10e47e566c77\"}}\n"
     ]
    }
   ],
   "source": [
    "!ls {work_dir}/spark-warehouse/taxidb.db/greentaxis/_delta_log\n",
    "!cat {work_dir}/spark-warehouse/taxidb.db/greentaxis/_delta_log/00000000000000000001.json"
   ]
  },
  {
   "cell_type": "code",
   "execution_count": 30,
   "id": "12581b53-a165-455f-815d-75717c4a19c4",
   "metadata": {},
   "outputs": [
    {
     "data": {
      "text/html": [
       "<table border='1'>\n",
       "<tr><th></th></tr>\n",
       "</table>\n"
      ],
      "text/plain": [
       "++\n",
       "||\n",
       "++\n",
       "++"
      ]
     },
     "execution_count": 30,
     "metadata": {},
     "output_type": "execute_result"
    }
   ],
   "source": [
    "# 테이블 드랍의 경우 모든 메타 정보와 데이터 파일은 유지되며, 데이터베이스에 테이블 정보만 삭제됨\n",
    "spark.sql(\"DROP TABLE IF EXISTS taxidb.rateCard\")"
   ]
  },
  {
   "cell_type": "code",
   "execution_count": 31,
   "id": "d6e4e985-e320-483a-88fc-4ba7c21de3de",
   "metadata": {},
   "outputs": [
    {
     "name": "stdout",
     "output_type": "stream",
     "text": [
      "00000000000000000000.json  00000000000000000001.json\n",
      "{\"add\":{\"path\":\"part-00000-879dbb89-ee5a-47d4-ab0d-0e6445663607-c000.snappy.parquet\",\"partitionValues\":{},\"size\":858,\"modificationTime\":1723625669220,\"dataChange\":true,\"stats\":\"{\\\"numRecords\\\":6,\\\"minValues\\\":{\\\"rateCodeId\\\":1,\\\"rateCodeDesc\\\":\\\"Group ride\\\"},\\\"maxValues\\\":{\\\"rateCodeId\\\":6,\\\"rateCodeDesc\\\":\\\"Standard Rate\\\"},\\\"nullCount\\\":{\\\"rateCodeId\\\":0,\\\"rateCodeDesc\\\":0}}\"}}\n",
      "{\"commitInfo\":{\"timestamp\":1723625668130,\"operation\":\"CREATE OR REPLACE TABLE AS SELECT\",\"operationParameters\":{\"isManaged\":\"false\",\"description\":null,\"partitionBy\":\"[]\",\"properties\":\"{}\"},\"readVersion\":0,\"isolationLevel\":\"Serializable\",\"isBlindAppend\":false,\"operationMetrics\":{\"numFiles\":\"1\",\"numOutputRows\":\"6\",\"numOutputBytes\":\"858\"},\"engineInfo\":\"Apache-Spark/3.2.1 Delta-Lake/2.0.0\",\"txnId\":\"5e49e955-4dca-4948-89a1-32cf38bb834f\"}}\n"
     ]
    }
   ],
   "source": [
    "!ls {work_dir}/data/rateCard.delta/_delta_log\n",
    "!cat {work_dir}/data/rateCard.delta/_delta_log/00000000000000000001.json"
   ]
  },
  {
   "cell_type": "code",
   "execution_count": 16,
   "id": "a42922ae-d6e3-42ac-a2db-c9429d88004b",
   "metadata": {},
   "outputs": [
    {
     "data": {
      "text/html": [
       "<table border='1'>\n",
       "<tr><th>namespace</th><th>tableName</th><th>isTemporary</th></tr>\n",
       "<tr><td>taxidb</td><td>greentaxis</td><td>false</td></tr>\n",
       "<tr><td>taxidb</td><td>ratecard</td><td>false</td></tr>\n",
       "</table>\n"
      ],
      "text/plain": [
       "+---------+----------+-----------+\n",
       "|namespace| tableName|isTemporary|\n",
       "+---------+----------+-----------+\n",
       "|   taxidb|greentaxis|      false|\n",
       "|   taxidb|  ratecard|      false|\n",
       "+---------+----------+-----------+"
      ]
     },
     "execution_count": 16,
     "metadata": {},
     "output_type": "execute_result"
    }
   ],
   "source": [
    "spark.sql(\"use taxidb\")\n",
    "spark.sql(\"show tables\")"
   ]
  },
  {
   "cell_type": "code",
   "execution_count": 18,
   "id": "2e7d6d10-4aff-4a43-974b-4aa04e3b3323",
   "metadata": {},
   "outputs": [
    {
     "name": "stdout",
     "output_type": "stream",
     "text": [
      "+--------+--------------------+---------------------+------------------+----------+------------+------------+---------------+-------------+-----------+-----+-------+----------+------------+---------+---------------------+------------+------------+---------+--------------------+\n",
      "|VendorId|lpep_pickup_datetime|lpep_dropoff_datetime|store_and_fwd_flag|RatecodeID|PULocationID|DOLocationID|passenger_count|trip_distance|fare_amount|extra|mta_tax|tip_amount|tolls_amount|ehail_fee|improvement_surcharge|total_amount|payment_type|trip_type|congestion_surcharge|\n",
      "+--------+--------------------+---------------------+------------------+----------+------------+------------+---------------+-------------+-----------+-----+-------+----------+------------+---------+---------------------+------------+------------+---------+--------------------+\n",
      "|2       |2019-12-19 17:12:23 |2019-12-19 17:19:32  |N                 |1         |181         |25          |1              |1.28         |7.0        |1.0  |0.5    |0.0       |0.0         |null     |0.3                  |8.8         |2           |1        |0.0                 |\n",
      "|2       |2019-12-19 17:49:24 |2019-12-19 17:53:10  |N                 |1         |196         |82          |1              |0.38         |4.0        |1.0  |0.5    |0.0       |0.0         |null     |0.3                  |5.8         |2           |1        |0.0                 |\n",
      "|2       |2019-12-19 17:04:35 |2019-12-19 17:21:09  |N                 |1         |66          |25          |2              |2.54         |13.0       |1.0  |0.5    |2.96      |0.0         |null     |0.3                  |17.76       |1           |1        |0.0                 |\n",
      "|2       |2019-12-19 17:37:17 |2019-12-19 18:02:00  |N                 |1         |33          |107         |2              |5.67         |22.0       |1.0  |0.5    |5.31      |0.0         |null     |0.3                  |31.86       |1           |1        |2.75                |\n",
      "|1       |2019-12-19 17:42:16 |2019-12-19 18:11:45  |N                 |1         |82          |95          |2              |2.8          |18.5       |1.0  |0.5    |0.0       |0.0         |null     |0.3                  |20.3        |1           |1        |0.0                 |\n",
      "+--------+--------------------+---------------------+------------------+----------+------------+------------+---------------+-------------+-----------+-----+-------+----------+------------+---------+---------------------+------------+------------+---------+--------------------+\n",
      "only showing top 5 rows\n",
      "\n"
     ]
    }
   ],
   "source": [
    "spark.sql(\"\"\"\n",
    "select * from taxidb.greentaxis\n",
    "\"\"\").show(5, truncate=False)"
   ]
  },
  {
   "cell_type": "code",
   "execution_count": 19,
   "id": "c460dda8-7ec0-462d-8d9e-7a4875d5eaeb",
   "metadata": {},
   "outputs": [
    {
     "data": {
      "text/html": [
       "<table border='1'>\n",
       "<tr><th>count(1)</th></tr>\n",
       "<tr><td>450627</td></tr>\n",
       "</table>\n"
      ],
      "text/plain": [
       "+--------+\n",
       "|count(1)|\n",
       "+--------+\n",
       "|  450627|\n",
       "+--------+"
      ]
     },
     "execution_count": 19,
     "metadata": {},
     "output_type": "execute_result"
    }
   ],
   "source": [
    "spark.sql(\"select count(1) from taxidb.greentaxis\")"
   ]
  },
  {
   "cell_type": "code",
   "execution_count": 23,
   "id": "1e42c515-eff7-4cfb-a24a-5a1c9b582c43",
   "metadata": {},
   "outputs": [
    {
     "data": {
      "text/html": [
       "<table border='1'>\n",
       "<tr><th>VendorID</th><th>AverageFare</th></tr>\n",
       "<tr><td>null</td><td>28.830541636814186</td></tr>\n",
       "<tr><td>1</td><td>13.217967034800125</td></tr>\n",
       "<tr><td>2</td><td>12.054380250700097</td></tr>\n",
       "</table>\n"
      ],
      "text/plain": [
       "+--------+------------------+\n",
       "|VendorID|       AverageFare|\n",
       "+--------+------------------+\n",
       "|    null|28.830541636814186|\n",
       "|       1|13.217967034800125|\n",
       "|       2|12.054380250700097|\n",
       "+--------+------------------+"
      ]
     },
     "execution_count": 23,
     "metadata": {},
     "output_type": "execute_result"
    }
   ],
   "source": [
    "spark.sql(\"\"\"\n",
    "SELECT VendorID, AVG(fare_amount) AS AverageFare\n",
    "FROM taxidb.greentaxis\n",
    "GROUP BY VendorID\n",
    "HAVING AVG(fare_amount) > 10\n",
    "ORDER BY 2 DESC\n",
    "LIMIT 5\n",
    "\"\"\")"
   ]
  },
  {
   "cell_type": "code",
   "execution_count": 24,
   "id": "0a9939a9-d726-4a9a-9191-f3a744b3bd35",
   "metadata": {},
   "outputs": [
    {
     "name": "stdout",
     "output_type": "stream",
     "text": [
      "Number of records: 450,627\n"
     ]
    }
   ],
   "source": [
    "# Reading a Table with PySpark\n",
    "df = spark.read.format(\"delta\").table(\"taxidb.greentaxis\")\n",
    "print(f\"Number of records: {df.count():,}\")"
   ]
  },
  {
   "cell_type": "code",
   "execution_count": 25,
   "id": "cb0e6f53-dbd6-47d2-914e-10453a1d184c",
   "metadata": {},
   "outputs": [
    {
     "data": {
      "text/plain": [
       "[Row(VendorID=None, AverageFare=28.830541636814186),\n",
       " Row(VendorID=1, AverageFare=13.217967034800125),\n",
       " Row(VendorID=2, AverageFare=12.054380250700097)]"
      ]
     },
     "execution_count": 25,
     "metadata": {},
     "output_type": "execute_result"
    }
   ],
   "source": [
    "res = (\n",
    "    df.groupBy(\"VendorID\")\n",
    "    .agg(avg(\"fare_amount\").alias(\"AverageFare\"))\n",
    "    .filter(col(\"AverageFare\") > 10)\n",
    "    .sort(col(\"AverageFare\").desc())\n",
    ")\n",
    "res.take(5)"
   ]
  },
  {
   "cell_type": "code",
   "execution_count": 27,
   "id": "31c5b804-c413-4b51-bef7-3b817ad7d47f",
   "metadata": {},
   "outputs": [
    {
     "data": {
      "text/html": [
       "<table border='1'>\n",
       "<tr><th></th></tr>\n",
       "</table>\n"
      ],
      "text/plain": [
       "++\n",
       "||\n",
       "++\n",
       "++"
      ]
     },
     "execution_count": 27,
     "metadata": {},
     "output_type": "execute_result"
    }
   ],
   "source": [
    "spark.sql(f\"\"\"\n",
    "CREATE TABLE taxidb.YellowTaxis (\n",
    "    RideId INT,\n",
    "    VendorId INT,\n",
    "    PickupTime TIMESTAMP,\n",
    "    DropTime TIMESTAMP,\n",
    "    PickupLocationId INT,\n",
    "    DropLocationId INT,\n",
    "    CabNumber STRING,\n",
    "    DriverLicenseNumber STRING,\n",
    "    PassengerCount INT,\n",
    "    TripDistance DOUBLE,\n",
    "    RatecodeId INT,\n",
    "    PaymentType INT,\n",
    "    TotalAmount DOUBLE,\n",
    "    FareAmount DOUBLE,\n",
    "    Extra DOUBLE,\n",
    "    MtaTax DOUBLE,\n",
    "    TipAmount DOUBLE,\n",
    "    TollsAmount DOUBLE,\n",
    "    ImprovementSurcharge DOUBLE\n",
    ") USING DELTA\n",
    "LOCATION \"{work_dir}/data/yellowTaxis.delta\"\n",
    "\"\"\")"
   ]
  },
  {
   "cell_type": "code",
   "execution_count": 28,
   "id": "39a6aa88-9fc1-487c-82c8-85dfc7283f20",
   "metadata": {},
   "outputs": [
    {
     "data": {
      "text/html": [
       "<table border='1'>\n",
       "<tr><th>count</th></tr>\n",
       "<tr><td>1</td></tr>\n",
       "</table>\n"
      ],
      "text/plain": [
       "+-----+\n",
       "|count|\n",
       "+-----+\n",
       "|    1|\n",
       "+-----+"
      ]
     },
     "execution_count": 28,
     "metadata": {},
     "output_type": "execute_result"
    }
   ],
   "source": [
    "spark.sql(\"\"\"\n",
    "INSERT INTO taxidb.yellowtaxis (RideId, VendorId, PickupTime, DropTime, PickupLocationId,\n",
    "    DropLocationId, CabNumber, DriverLicenseNumber, PassengerCount, TripDistance,\n",
    "    RatecodeId, PaymentType, TotalAmount, FareAmount, Extra, \n",
    "    MtaTax, TipAmount, TollsAmount, ImprovementSurcharge)\n",
    "VALUES (9999995, 1, '2019-11-01T00:00:00.000Z', '2019-11-01T00:02:23.573Z', 65, \n",
    "    71, 'TAC304', '453987', 2, 4.5, \n",
    "    1, 1, 20.34, 15.0, 0.5, \n",
    "    0.4, 2.0, 2.0, 1.1)\n",
    "\"\"\")\n",
    "spark.sql(\"SELECT count(RideId) AS count FROM taxidb.YellowTaxis WHERE RideId = 9999995\")"
   ]
  },
  {
   "cell_type": "markdown",
   "id": "32d41ed3-06f7-443b-8bd9-a040c2e0cad2",
   "metadata": {},
   "source": [
    "### Using the OverWrite Mode When Writing to a Delta Table"
   ]
  },
  {
   "cell_type": "code",
   "execution_count": null,
   "id": "93d5ab07-2417-48fc-b913-8056f3c725a1",
   "metadata": {},
   "outputs": [],
   "source": [
    "# Appending a DataFrame to a Table @ https://drive.google.com/file/d/1--SfboYb-KyEug4U89m2pnjq0MyUWbvJ/view?usp=sharing\n",
    "yellowTaxi = spark.read.format(\"delta\").table(\"taxidb.YellowTaxis\")\n",
    "yellowTaxiSchema = yellowTaxi.schema\n",
    "print(yellowTaxiSchema)\n",
    "\n",
    "df_for_append = (\n",
    "    spark.read\n",
    "    .option(\"header\", True)\n",
    "    .parquet(\"/mnt/datalake/book/data files/YellowTaxis_append.csv\")\n"
   ]
  },
  {
   "cell_type": "code",
   "execution_count": 29,
   "id": "5b9ed57a-4319-4920-bb7d-5a934872d710",
   "metadata": {},
   "outputs": [
    {
     "name": "stdout",
     "output_type": "stream",
     "text": [
      "root\n",
      " |-- VendorID: long (nullable = true)\n",
      " |-- tpep_pickup_datetime: timestamp (nullable = true)\n",
      " |-- tpep_dropoff_datetime: timestamp (nullable = true)\n",
      " |-- passenger_count: double (nullable = true)\n",
      " |-- trip_distance: double (nullable = true)\n",
      " |-- RatecodeID: double (nullable = true)\n",
      " |-- store_and_fwd_flag: string (nullable = true)\n",
      " |-- PULocationID: long (nullable = true)\n",
      " |-- DOLocationID: long (nullable = true)\n",
      " |-- payment_type: long (nullable = true)\n",
      " |-- fare_amount: double (nullable = true)\n",
      " |-- extra: double (nullable = true)\n",
      " |-- mta_tax: double (nullable = true)\n",
      " |-- tip_amount: double (nullable = true)\n",
      " |-- tolls_amount: double (nullable = true)\n",
      " |-- improvement_surcharge: double (nullable = true)\n",
      " |-- total_amount: double (nullable = true)\n",
      " |-- congestion_surcharge: double (nullable = true)\n",
      " |-- airport_fee: double (nullable = true)\n",
      "\n"
     ]
    }
   ],
   "source": [
    "df = spark.read.parquet(f\"{work_dir}/data/yellowTaxis.parquet\")\n",
    "df.printSchema()"
   ]
  },
  {
   "cell_type": "code",
   "execution_count": 30,
   "id": "71357f77-5af5-4f3f-91b1-9bb88387fe95",
   "metadata": {},
   "outputs": [
    {
     "name": "stdout",
     "output_type": "stream",
     "text": [
      "+--------+--------------------+---------------------+---------------+-------------+----------+------------------+------------+------------+------------+-----------+-----+-------+----------+------------+---------------------+------------+--------------------+-----------+\n",
      "|VendorID|tpep_pickup_datetime|tpep_dropoff_datetime|passenger_count|trip_distance|RatecodeID|store_and_fwd_flag|PULocationID|DOLocationID|payment_type|fare_amount|extra|mta_tax|tip_amount|tolls_amount|improvement_surcharge|total_amount|congestion_surcharge|airport_fee|\n",
      "+--------+--------------------+---------------------+---------------+-------------+----------+------------------+------------+------------+------------+-----------+-----+-------+----------+------------+---------------------+------------+--------------------+-----------+\n",
      "|1       |2021-01-01 09:30:10 |2021-01-01 09:36:12  |1.0            |2.1          |1.0       |N                 |142         |43          |2           |8.0        |3.0  |0.5    |0.0       |0.0         |0.3                  |11.8        |2.5                 |null       |\n",
      "|1       |2021-01-01 09:51:20 |2021-01-01 09:52:19  |1.0            |0.2          |1.0       |N                 |238         |151         |2           |3.0        |0.5  |0.5    |0.0       |0.0         |0.3                  |4.3         |0.0                 |null       |\n",
      "|1       |2021-01-01 09:43:30 |2021-01-01 10:11:06  |1.0            |14.7         |1.0       |N                 |132         |165         |1           |42.0       |0.5  |0.5    |8.65      |0.0         |0.3                  |51.95       |0.0                 |null       |\n",
      "+--------+--------------------+---------------------+---------------+-------------+----------+------------------+------------+------------+------------+-----------+-----+-------+----------+------------+---------------------+------------+--------------------+-----------+\n",
      "only showing top 3 rows\n",
      "\n"
     ]
    }
   ],
   "source": [
    "df.show(3, truncate=False)"
   ]
  },
  {
   "cell_type": "code",
   "execution_count": 37,
   "id": "6acad0eb-e9ff-48c9-a72d-ba528181eafb",
   "metadata": {},
   "outputs": [],
   "source": [
    "filtered = df.where(expr(\"VendorID = 1 and PULocationID = 142 and DOLocationID = 43\"))"
   ]
  },
  {
   "cell_type": "code",
   "execution_count": 40,
   "id": "c6268436-03b5-45d9-a8b1-0eeaf3fa015a",
   "metadata": {},
   "outputs": [
    {
     "name": "stdout",
     "output_type": "stream",
     "text": [
      "+--------+--------------------+---------------------+---------------+-------------+----------+------------------+------------+------------+------------+-----------+-----+-------+----------+------------+---------------------+------------+--------------------+-----------+\n",
      "|VendorID|tpep_pickup_datetime|tpep_dropoff_datetime|passenger_count|trip_distance|RatecodeID|store_and_fwd_flag|PULocationID|DOLocationID|payment_type|fare_amount|extra|mta_tax|tip_amount|tolls_amount|improvement_surcharge|total_amount|congestion_surcharge|airport_fee|\n",
      "+--------+--------------------+---------------------+---------------+-------------+----------+------------------+------------+------------+------------+-----------+-----+-------+----------+------------+---------------------+------------+--------------------+-----------+\n",
      "|1       |2021-01-01 09:30:10 |2021-01-01 09:36:12  |1.0            |2.1          |1.0       |N                 |142         |43          |2           |8.0        |3.0  |0.5    |0.0       |0.0         |0.3                  |11.8        |2.5                 |null       |\n",
      "+--------+--------------------+---------------------+---------------+-------------+----------+------------------+------------+------------+------------+-----------+-----+-------+----------+------------+---------------------+------------+--------------------+-----------+\n",
      "only showing top 1 row\n",
      "\n"
     ]
    },
    {
     "data": {
      "text/html": [
       "<table border='1'>\n",
       "<tr><th>payment_type</th><th>count</th></tr>\n",
       "<tr><td>4</td><td>3</td></tr>\n",
       "<tr><td>0</td><td>19</td></tr>\n",
       "<tr><td>3</td><td>8</td></tr>\n",
       "<tr><td>2</td><td>143</td></tr>\n",
       "<tr><td>1</td><td>604</td></tr>\n",
       "</table>\n"
      ],
      "text/plain": [
       "+------------+-----+\n",
       "|payment_type|count|\n",
       "+------------+-----+\n",
       "|           4|    3|\n",
       "|           0|   19|\n",
       "|           3|    8|\n",
       "|           2|  143|\n",
       "|           1|  604|\n",
       "+------------+-----+"
      ]
     },
     "execution_count": 40,
     "metadata": {},
     "output_type": "execute_result"
    }
   ],
   "source": [
    "filtered.show(1, truncate=False)\n",
    "filtered.groupBy(\"payment_type\").count()"
   ]
  },
  {
   "cell_type": "code",
   "execution_count": 41,
   "id": "4545f6d8-a2de-439c-b29d-2de0a0608241",
   "metadata": {},
   "outputs": [
    {
     "name": "stdout",
     "output_type": "stream",
     "text": [
      "+--------+--------------------+---------------------+---------------+-------------+----------+------------------+------------+------------+------------+-----------+-----+-------+----------+------------+---------------------+------------+--------------------+-----------+\n",
      "|VendorID|tpep_pickup_datetime|tpep_dropoff_datetime|passenger_count|trip_distance|RatecodeID|store_and_fwd_flag|PULocationID|DOLocationID|payment_type|fare_amount|extra|mta_tax|tip_amount|tolls_amount|improvement_surcharge|total_amount|congestion_surcharge|airport_fee|\n",
      "+--------+--------------------+---------------------+---------------+-------------+----------+------------------+------------+------------+------------+-----------+-----+-------+----------+------------+---------------------+------------+--------------------+-----------+\n",
      "|       1| 2021-01-11 01:25:02|  2021-01-11 01:26:18|            1.0|          0.4|       1.0|                 N|         142|          43|           3|        3.5|  3.5|    0.5|       0.0|         0.0|                  0.3|         7.8|                 2.5|       null|\n",
      "|       1| 2021-01-18 18:59:07|  2021-01-18 19:10:04|            1.0|          2.2|       1.0|                 N|         142|          43|           3|       10.5|  2.5|    0.5|       0.0|         0.0|                  0.3|        13.8|                 2.5|       null|\n",
      "|       1| 2021-01-27 23:21:12|  2021-01-27 23:24:39|            1.0|          0.6|       1.0|                 N|         142|          43|           3|        4.5|  2.5|    0.5|       0.0|         0.0|                  0.3|         7.8|                 2.5|       null|\n",
      "|       1| 2021-01-28 02:07:53|  2021-01-28 02:13:59|            1.0|          1.9|       1.0|                 N|         142|          43|           3|        7.5|  3.5|    0.5|       0.0|         0.0|                  0.3|        11.8|                 2.5|       null|\n",
      "|       1| 2021-01-28 21:40:08|  2021-01-28 21:48:42|            0.0|          2.1|       1.0|                 N|         142|          43|           3|        8.5|  2.5|    0.5|       0.0|         0.0|                  0.3|        11.8|                 2.5|       null|\n",
      "|       1| 2021-01-29 21:56:04|  2021-01-29 21:59:19|            1.0|          1.0|       1.0|                 N|         142|          43|           3|        5.0|  2.5|    0.5|       0.0|         0.0|                  0.3|         8.3|                 2.5|       null|\n",
      "|       1| 2022-01-01 10:45:01|  2022-01-01 10:50:55|            2.0|          0.8|       1.0|                 N|         142|          43|           3|        6.0|  3.0|    0.5|       0.0|         0.0|                  0.3|         9.8|                 2.5|        0.0|\n",
      "|       1| 2022-01-11 03:04:00|  2022-01-11 03:04:41|            1.0|          0.2|       2.0|                 N|         142|          43|           3|       52.0|  7.0|    0.5|       0.0|         0.0|                  0.3|        59.8|                 2.5|        0.0|\n",
      "+--------+--------------------+---------------------+---------------+-------------+----------+------------------+------------+------------+------------+-----------+-----+-------+----------+------------+---------------------+------------+--------------------+-----------+\n",
      "\n"
     ]
    }
   ],
   "source": [
    "filtered.where(expr(\"payment_type = 3\")).show()"
   ]
  },
  {
   "cell_type": "code",
   "execution_count": 42,
   "id": "61276b40-5cef-4532-9ff7-5ca1f5b6de0c",
   "metadata": {},
   "outputs": [
    {
     "name": "stdout",
     "output_type": "stream",
     "text": [
      "root\n",
      " |-- VendorID: long (nullable = true)\n",
      " |-- tpep_pickup_datetime: timestamp (nullable = true)\n",
      " |-- tpep_dropoff_datetime: timestamp (nullable = true)\n",
      " |-- passenger_count: double (nullable = true)\n",
      " |-- trip_distance: double (nullable = true)\n",
      " |-- RatecodeID: double (nullable = true)\n",
      " |-- store_and_fwd_flag: string (nullable = true)\n",
      " |-- PULocationID: long (nullable = true)\n",
      " |-- DOLocationID: long (nullable = true)\n",
      " |-- payment_type: integer (nullable = false)\n",
      " |-- fare_amount: double (nullable = true)\n",
      " |-- extra: double (nullable = true)\n",
      " |-- mta_tax: double (nullable = true)\n",
      " |-- tip_amount: double (nullable = true)\n",
      " |-- tolls_amount: double (nullable = true)\n",
      " |-- improvement_surcharge: double (nullable = true)\n",
      " |-- total_amount: double (nullable = true)\n",
      " |-- congestion_surcharge: double (nullable = true)\n",
      " |-- airport_fee: double (nullable = true)\n",
      "\n"
     ]
    }
   ],
   "source": [
    "withColumn = filtered.where(expr(\"payment_type = 3\")).withColumn(\"payment_type\", lit(30))\n",
    "withColumn.printSchema()"
   ]
  },
  {
   "cell_type": "code",
   "execution_count": 43,
   "id": "bd038094-a9b8-4870-b443-e9caa32ee97b",
   "metadata": {},
   "outputs": [
    {
     "name": "stdout",
     "output_type": "stream",
     "text": [
      "+--------+--------------------+---------------------+---------------+-------------+----------+------------------+------------+------------+------------+-----------+-----+-------+----------+------------+---------------------+------------+--------------------+-----------+\n",
      "|VendorID|tpep_pickup_datetime|tpep_dropoff_datetime|passenger_count|trip_distance|RatecodeID|store_and_fwd_flag|PULocationID|DOLocationID|payment_type|fare_amount|extra|mta_tax|tip_amount|tolls_amount|improvement_surcharge|total_amount|congestion_surcharge|airport_fee|\n",
      "+--------+--------------------+---------------------+---------------+-------------+----------+------------------+------------+------------+------------+-----------+-----+-------+----------+------------+---------------------+------------+--------------------+-----------+\n",
      "|       1| 2021-01-11 01:25:02|  2021-01-11 01:26:18|            1.0|          0.4|       1.0|                 N|         142|          43|          30|        3.5|  3.5|    0.5|       0.0|         0.0|                  0.3|         7.8|                 2.5|       null|\n",
      "|       1| 2021-01-18 18:59:07|  2021-01-18 19:10:04|            1.0|          2.2|       1.0|                 N|         142|          43|          30|       10.5|  2.5|    0.5|       0.0|         0.0|                  0.3|        13.8|                 2.5|       null|\n",
      "|       1| 2021-01-27 23:21:12|  2021-01-27 23:24:39|            1.0|          0.6|       1.0|                 N|         142|          43|          30|        4.5|  2.5|    0.5|       0.0|         0.0|                  0.3|         7.8|                 2.5|       null|\n",
      "|       1| 2021-01-28 02:07:53|  2021-01-28 02:13:59|            1.0|          1.9|       1.0|                 N|         142|          43|          30|        7.5|  3.5|    0.5|       0.0|         0.0|                  0.3|        11.8|                 2.5|       null|\n",
      "|       1| 2021-01-28 21:40:08|  2021-01-28 21:48:42|            0.0|          2.1|       1.0|                 N|         142|          43|          30|        8.5|  2.5|    0.5|       0.0|         0.0|                  0.3|        11.8|                 2.5|       null|\n",
      "|       1| 2021-01-29 21:56:04|  2021-01-29 21:59:19|            1.0|          1.0|       1.0|                 N|         142|          43|          30|        5.0|  2.5|    0.5|       0.0|         0.0|                  0.3|         8.3|                 2.5|       null|\n",
      "|       1| 2022-01-01 10:45:01|  2022-01-01 10:50:55|            2.0|          0.8|       1.0|                 N|         142|          43|          30|        6.0|  3.0|    0.5|       0.0|         0.0|                  0.3|         9.8|                 2.5|        0.0|\n",
      "|       1| 2022-01-11 03:04:00|  2022-01-11 03:04:41|            1.0|          0.2|       2.0|                 N|         142|          43|          30|       52.0|  7.0|    0.5|       0.0|         0.0|                  0.3|        59.8|                 2.5|        0.0|\n",
      "+--------+--------------------+---------------------+---------------+-------------+----------+------------------+------------+------------+------------+-----------+-----+-------+----------+------------+---------------------+------------+--------------------+-----------+\n",
      "\n"
     ]
    }
   ],
   "source": [
    "withColumn.show()"
   ]
  },
  {
   "cell_type": "code",
   "execution_count": null,
   "id": "f09b40e4-b929-4d40-9262-8df5e946f350",
   "metadata": {},
   "outputs": [],
   "source": [
    "# Inserting Data with the SQL COPY INTO Command\n",
    "spark.sql(\"\"\"\n",
    "COPY INTO taxidb.yellowtaxis\n",
    "FROM (\n",
    "    SELECT RideId::Int\n",
    "    , VendorId::Int\n",
    "    , PickupTime::Timestamp\n",
    "    , DropTime::Timestamp\n",
    "    , PickupLocationId::Int\n",
    "    , DropLocationId::Int\n",
    "    , CabNumber::String\n",
    "    , DriverLicenseNumber::String\n",
    "    , PassengerCount::Int\n",
    "    , TripDistance::Double\n",
    "    , RateCodeId::Int\n",
    "    , PaymentType::Int\n",
    "    , TotalAmount::Double\n",
    "    , FareAmount::Double\n",
    "    , Extra::Double\n",
    "    , MtaTax::Double\n",
    "    , TipAmount::Double\n",
    "    , TollsAmount::Double\n",
    "    , ImprovementSurcharge::Double\n",
    ") FROM '/mnt/datalake/book/DataFiles/YellowTaxisLargeAppend.csv'\n",
    "FILEFORMAT = CSV\n",
    "FORMAT_OPTIONS (\"header\" = \"true\")\n",
    "\"\"\")\n",
    "\n",
    "spark.sql(\"SELECT COUNT(*) FROM taxidb.YellowTaxis\")"
   ]
  },
  {
   "cell_type": "markdown",
   "id": "db86d60e-f179-4634-ab66-e1a1eb28961b",
   "metadata": {},
   "source": [
    "### Partitions\n",
    "> These use cases lend themselves well to partitioning. Partitioning your data to align\n",
    "with your query patterns can dramatically speed up query performance, especially\n",
    "when combined with other performance optimizations, such as Z-ordering.7 A Delta\n",
    "table partition is composed of a folder with a subset of data rows that share the same\n",
    "value for one or more column(s)."
   ]
  },
  {
   "cell_type": "code",
   "execution_count": null,
   "id": "3efdde85-2161-4721-b30d-cb4f8059af07",
   "metadata": {},
   "outputs": [],
   "source": [
    "# 파티션 구성된 델타 테이블을 사전에 생성해 두고\n",
    "spark.sql(f\"\"\"\n",
    "CREATE TABLE taxidb.YellowTaxisPartitioned\n",
    "    RideId INT,\n",
    "    VendorId INT,\n",
    "    PickupTime TIMESTAMP,\n",
    "    DropTime TIMESTAMP,\n",
    "    PickupLocationId INT,\n",
    "    DropLocationId INT,\n",
    "    CabNumber STRING,\n",
    "    DriverLicenseNumber STRING,\n",
    "    PassengerCount INT,\n",
    "    TripDistance DOUBLE,\n",
    "    RatecodeId INT,\n",
    "    PaymentType INT,\n",
    "    TotalAmount DOUBLE,\n",
    "    FareAmount DOUBLE,\n",
    "    Extra DOUBLE,\n",
    "    MtaTax DOUBLE,\n",
    "    TipAmount DOUBLE,\n",
    "    TollsAmount DOUBLE,\n",
    "    ImprovementSurcharge DOUBLE\n",
    ") USING DELTA\n",
    "PARTITIONED BY(VendorId)\n",
    "LOCATION \"/mnt/datalake/book/chapter03/YellowTaxisDeltaPartitioned\"\n",
    "\"\"\")"
   ]
  },
  {
   "cell_type": "code",
   "execution_count": null,
   "id": "229176a8-cfae-4cbf-9a4a-e99ee98bbd72",
   "metadata": {},
   "outputs": [],
   "source": [
    "# 기존에 생성되어 있는 관리 테이블을 읽어서\n",
    "df = spark.read.format(\"delta\").table(\"taxidb.YellowTaxis\")\n",
    "# 델타 테이블에 덮어쓰기를 한다\n",
    "df.write.format(\"delta\").mode(\"overwrite\").save(\"/mnt/datalake/book/chapter03/YellowTaxisDeltaPartitioned\")"
   ]
  },
  {
   "cell_type": "code",
   "execution_count": null,
   "id": "50e9ffd7-0c08-4dac-91c4-d53af24266a2",
   "metadata": {},
   "outputs": [],
   "source": [
    "spark.sql(\"SELECT DISTINCT(VendorId) FROM taxidb.YellowTaxisPartitioned\")"
   ]
  },
  {
   "cell_type": "code",
   "execution_count": null,
   "id": "edc10bcf-0790-45b5-9e4a-3866ce7b3ea2",
   "metadata": {},
   "outputs": [],
   "source": [
    "# Partitioning by multiple columns -- Partition by VendorId AND rateCodeId\n",
    "spark.sql(f\"\"\"\n",
    "CREATE TABLE taxidb.YellowTaxisPartitioned\n",
    "    RideId INT,\n",
    "    VendorId INT,\n",
    "    PickupTime TIMESTAMP,\n",
    "    DropTime TIMESTAMP,\n",
    "    PickupLocationId INT,\n",
    "    DropLocationId INT,\n",
    "    CabNumber STRING,\n",
    "    DriverLicenseNumber STRING,\n",
    "    PassengerCount INT,\n",
    "    TripDistance DOUBLE,\n",
    "    RatecodeId INT,\n",
    "    PaymentType INT,\n",
    "    TotalAmount DOUBLE,\n",
    "    FareAmount DOUBLE,\n",
    "    Extra DOUBLE,\n",
    "    MtaTax DOUBLE,\n",
    "    TipAmount DOUBLE,\n",
    "    TollsAmount DOUBLE,\n",
    "    ImprovementSurcharge DOUBLE\n",
    ") USING DELTA\n",
    "PARTITIONED BY(VendorId, RatecodeId)\n",
    "LOCATION \"/mnt/datalake/book/chapter03/YellowTaxisDeltaPartitioned\"\n",
    "\"\"\")"
   ]
  },
  {
   "cell_type": "code",
   "execution_count": null,
   "id": "59e89b85-46ca-4891-8f89-8aa4d61164ae",
   "metadata": {},
   "outputs": [],
   "source": [
    "spark.sql(\"SELECT COUNT(*) > 0 AS `Partition exists` FROM taxidb.YellowTaxisPartitioned WHERE VendorId = 2 AND RateCodeId = 99\")"
   ]
  },
  {
   "cell_type": "markdown",
   "id": "ab3eb239-5eb9-4bc2-ad51-cd55cea951dd",
   "metadata": {},
   "source": [
    "### Selectively updating Delta partitions with replaceWhere"
   ]
  },
  {
   "cell_type": "code",
   "execution_count": null,
   "id": "f4175d44-b23f-440a-9f0b-4d112c600011",
   "metadata": {},
   "outputs": [],
   "source": [
    "spark.sql(\"SELECT RideId, VendorId, PaymentType FROM taxidb.yellowtaxispartitioned WHERE VendorID = 1 AND RatecodeId = 99 LIMIT 5\")"
   ]
  },
  {
   "cell_type": "code",
   "execution_count": null,
   "id": "f001b5d6-775c-43d2-9baf-6fbc35dbd4fa",
   "metadata": {},
   "outputs": [],
   "source": [
    "# Let’s assume that we have a business reason that states that all PaymentTypes for\n",
    "# VendorId = 1 and RatecodeId = 9 should be 3. We can use the following PySpark\n",
    "# expression with replaceWhere to achieve that result\n",
    "\n",
    "# 임의의 조건에 해당하는 데이터 집합을 사전에 생성해 두고 (PaymentType 컬럼은 기 존재하는 컬럼)\n",
    "from pyspark.sql.functions import *\n",
    "businessCondition = (\n",
    "    spark.read.format(\"delta\")\n",
    "    .load(\"/mnt/datalake/book/chapter03/YellowTaxisDeltaPartitioned\")\n",
    "    .where((col(\"VendorId\") == 1) & (col(\"RatecodeId\") == 99))\n",
    "    .withColumn(\"PaymentType\", lit(3))\n",
    ")\n",
    "\n",
    "# 해당 데이터프레임 기준으로 존재하는 컬럼에 교체하는 연산을 수행\n",
    "replaceWhere = (\n",
    "    businessCondition.write.format(\"delta\")\n",
    "    .option(\"replaceWhere\", \"VendorId = 1 AND RateCodeId = 99\")\n",
    "    .mode(\"overwrite\")\n",
    ")\n",
    "replaceWhere.save(\"/mnt/datalake/book/chapter03/YellowTaxisDeltaPartitioned\")"
   ]
  },
  {
   "cell_type": "code",
   "execution_count": null,
   "id": "c2f89929-381b-4af0-8744-e2406e887a8c",
   "metadata": {},
   "outputs": [],
   "source": [
    "spark.sql(\"\"\"\n",
    "SELECT DISTINCT(PaymentType)\n",
    "FROM taxidb.yellowtaxispartitioned\n",
    "WHERE VendorID = 1 AND RatecodeId = 99\n",
    "\"\"\")"
   ]
  },
  {
   "cell_type": "markdown",
   "id": "0ffb9e48-6954-4b50-a2aa-d124594d73ea",
   "metadata": {},
   "source": [
    "### User-Defined Metadata\n",
    "> Let’s look at the SparkSession configuration first. Assume that we have an INSERT\n",
    "operation, to which we want to assign a GDPR tag for auditing purposes."
   ]
  },
  {
   "cell_type": "code",
   "execution_count": null,
   "id": "1fc35957-30be-4a7e-8e23-0e16c1eeff5d",
   "metadata": {},
   "outputs": [],
   "source": [
    "# Using SparkSession to Set Custom Metadata\n",
    "spark.sql(f\"\"\"\n",
    "SET spark.databricks.delta.commitInfo.userMetadata=my-custom-metadata= { \"GDPR\": \"INSERT Request 1x965383\" }\n",
    "\"\"\")\n",
    "\n",
    "# The GDPR tag will automatically be applied to the commit info in the transaction log.\n",
    "spark.sql(f\"\"\"\n",
    "INSERT INTO taxidb.yellowtaxisPartitioned (RideId, VendorId, PickupTime, DropTime,\n",
    "    PickupLocationId, DropLocationId, CabNumber,\n",
    "    DriverLicenseNumber, PassengerCount, TripDistance,\n",
    "    RatecodeId, PaymentType, TotalAmount,\n",
    "    FareAmount, Extra, MtaTax, TipAmount,\n",
    "    TollsAmount, ImprovementSurcharge)\n",
    "VALUES(10000000, 3, '2019-11-01T00:00:00.000Z',\n",
    "    '2019-11-01T00:02:23.573Z', 65, 71, 'TAC304',\n",
    "    '453987', 2, 4.5, 1, 1, 20.34, 15.0, 0.5,\n",
    "    0.4, 2.0, 2.0, 1.1)\n",
    "\"\"\")"
   ]
  },
  {
   "cell_type": "code",
   "execution_count": null,
   "id": "10e260aa-f073-491e-8d1d-54aaa0f7764c",
   "metadata": {},
   "outputs": [],
   "source": [
    "# Using the DataFrameWriter to Set Custom Metadata\n",
    "customMetadata = df.write.mode(\"append\").format(\"delta\").option(\"userMetadata\", '{\"PII\": \"Confidential XYZ\"}')\n",
    "customMetadata.save(\"/mnt/datalake/book/chapter03/YellowTaxisDeltaPartitioned\")"
   ]
  },
  {
   "cell_type": "markdown",
   "id": "96346b53-951b-47ef-bcff-ab28807c8695",
   "metadata": {},
   "source": [
    "### Conclusion\n",
    "> 기본적인 연산 수행 시에, 다양한 방식(SQL DDL/DML, DataFrameWriter API, DeltaTable Builder API 등)으로 수행이 가능하며\n",
    "테이블 생성 시에도 경로를 직접 명시하여 비관리 테이블로 사용할 수도 있고, 테이블 수준으로 관리 테이블로 활용이 가능하다\n",
    "파티셔닝을 통해 관리 효율성 및 성능 향상을 기대할 수 있으며, replaceWhere 같은 구문을 통해서 특정 파티션 혹은 조건의 데이터를 효과적으로 업데이트 할 수 있다\n",
    "또한 이용자 정의 메타데이터를 활용하여 특정 태그를 가진 statements 혹은 operations 목록을 확인할 수 있고, 또한 감사 혹은 규제를 목적으로 활용할 수도 있다 "
   ]
  },
  {
   "cell_type": "code",
   "execution_count": null,
   "id": "ebfc98ed-804e-4aa5-9145-260d31c9fa9b",
   "metadata": {},
   "outputs": [],
   "source": []
  }
 ],
 "metadata": {
  "kernelspec": {
   "display_name": "Python 3 (ipykernel)",
   "language": "python",
   "name": "python3"
  },
  "language_info": {
   "codemirror_mode": {
    "name": "ipython",
    "version": 3
   },
   "file_extension": ".py",
   "mimetype": "text/x-python",
   "name": "python",
   "nbconvert_exporter": "python",
   "pygments_lexer": "ipython3",
   "version": "3.9.12"
  }
 },
 "nbformat": 4,
 "nbformat_minor": 5
}
