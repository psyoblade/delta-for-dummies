{
 "cells": [
  {
   "cell_type": "markdown",
   "id": "5c6618f3-74a5-4ca4-895d-0446a83007b5",
   "metadata": {},
   "source": [
    "### Creating a Delta Table with SQL DDL"
   ]
  },
  {
   "cell_type": "code",
   "execution_count": 1,
   "id": "de619a5e-2b8b-4294-81b0-8ca435db8657",
   "metadata": {},
   "outputs": [],
   "source": [
    "from pyspark.sql import *\n",
    "from pyspark.sql.functions import *\n",
    "from pyspark.sql.types import *\n",
    "from IPython.display import display, display_pretty, clear_output, JSON\n",
    "\n",
    "from delta import *\n",
    "\n",
    "# 공통 데이터 위치\n",
    "home_jovyan = \"/home/jovyan\"\n",
    "work_data = f\"{home_jovyan}/work/data\"\n",
    "work_dir=!pwd\n",
    "work_dir = work_dir[0]\n",
    "warehouse_dir = f\"{work_dir}/spark-warehouse\"\n",
    "\n",
    "# Create spark session with hive enabled\n",
    "builder = (\n",
    "    SparkSession\n",
    "    .builder\n",
    "    .appName(\"pyspark-notebook\")\n",
    "    .config(\"spark.sql.session.timeZone\", \"Asia/Seoul\")\n",
    "    .config(\"spark.sql.extensions\", \"io.delta.sql.DeltaSparkSessionExtension\")\n",
    "    .config(\"spark.sql.catalog.spark_catalog\", \"org.apache.spark.sql.delta.catalog.DeltaCatalog\")\n",
    "    .config(\"spark.sql.catalogImplementation\", \"hive\")\n",
    "    .config(\"spark.sql.warehouse.dir\", warehouse_dir)\n",
    "    .enableHiveSupport()\n",
    ")"
   ]
  },
  {
   "cell_type": "code",
   "execution_count": 2,
   "id": "d5046ad9-8423-49f0-93d6-b650da098fa1",
   "metadata": {},
   "outputs": [],
   "source": [
    "# 델타 레이크 생성시에 반드시 `configure_spark_with_delta_pip` 구성을 통해 실행되어야 정상적인 델타 의존성이 로딩됩니다\n",
    "spark = configure_spark_with_delta_pip(builder).getOrCreate()"
   ]
  },
  {
   "cell_type": "code",
   "execution_count": 3,
   "id": "7a25c297-9f0c-4b52-8560-c598f181cfe9",
   "metadata": {},
   "outputs": [
    {
     "data": {
      "text/html": [
       "\n",
       "            <div>\n",
       "                <p><b>SparkSession - hive</b></p>\n",
       "                \n",
       "        <div>\n",
       "            <p><b>SparkContext</b></p>\n",
       "\n",
       "            <p><a href=\"http://172.20.221.123:4040\">Spark UI</a></p>\n",
       "\n",
       "            <dl>\n",
       "              <dt>Version</dt>\n",
       "                <dd><code>v3.2.1</code></dd>\n",
       "              <dt>Master</dt>\n",
       "                <dd><code>local[*]</code></dd>\n",
       "              <dt>AppName</dt>\n",
       "                <dd><code>pyspark-notebook</code></dd>\n",
       "            </dl>\n",
       "        </div>\n",
       "        \n",
       "            </div>\n",
       "        "
      ],
      "text/plain": [
       "<pyspark.sql.session.SparkSession at 0x7f26a1b17e20>"
      ]
     },
     "execution_count": 3,
     "metadata": {},
     "output_type": "execute_result"
    }
   ],
   "source": [
    "\n",
    "# 노트북에서 테이블 형태로 데이터 프레임 출력을 위한 설정을 합니다\n",
    "spark.conf.set(\"spark.sql.repl.eagerEval.enabled\", True) # display enabled\n",
    "spark.conf.set(\"spark.sql.repl.eagerEval.truncate\", 100) # display output columns size\n",
    "\n",
    "# 로컬 환경 최적화\n",
    "spark.conf.set(\"spark.sql.shuffle.partitions\", 5) # the number of partitions to use when shuffling data for joins or aggregations.\n",
    "spark.conf.set(\"spark.sql.streaming.forceDeleteTempCheckpointLocation\", \"true\")\n",
    "spark"
   ]
  },
  {
   "cell_type": "code",
   "execution_count": 4,
   "id": "bbfe0f19-3149-439b-acdb-577eb259ff7c",
   "metadata": {},
   "outputs": [
    {
     "name": "stdout",
     "output_type": "stream",
     "text": [
      "/home/jovyan/work\n",
      "ls: cannot access '/home/jovyan/work/data/rateCard': No such file or directory\n"
     ]
    }
   ],
   "source": [
    "print(work_dir)\n",
    "!ls /home/jovyan/work/data/rateCard.delta"
   ]
  },
  {
   "cell_type": "code",
   "execution_count": 5,
   "id": "5f5d6a81-b68f-4047-9f28-2acc4a9b44cb",
   "metadata": {},
   "outputs": [
    {
     "name": "stdout",
     "output_type": "stream",
     "text": [
      "00000000000000000000.json  00000000000000000001.json\n",
      "{\"protocol\":{\"minReaderVersion\":1,\"minWriterVersion\":2}}\n",
      "{\"metaData\":{\"id\":\"06b115e0-2fac-41de-9686-6a0d4700de9e\",\"format\":{\"provider\":\"parquet\",\"options\":{}},\"schemaString\":\"{\\\"type\\\":\\\"struct\\\",\\\"fields\\\":[{\\\"name\\\":\\\"rateCodeId\\\",\\\"type\\\":\\\"integer\\\",\\\"nullable\\\":true,\\\"metadata\\\":{}},{\\\"name\\\":\\\"rateCodeDesc\\\",\\\"type\\\":\\\"string\\\",\\\"nullable\\\":true,\\\"metadata\\\":{}}]}\",\"partitionColumns\":[],\"configuration\":{},\"createdTime\":1723625005545}}\n",
      "{\"commitInfo\":{\"timestamp\":1723625005712,\"operation\":\"CREATE TABLE\",\"operationParameters\":{\"isManaged\":\"false\",\"description\":null,\"partitionBy\":\"[]\",\"properties\":\"{}\"},\"isolationLevel\":\"Serializable\",\"isBlindAppend\":true,\"operationMetrics\":{},\"engineInfo\":\"Apache-Spark/3.2.1 Delta-Lake/2.0.0\",\"txnId\":\"16721413-dd29-4e86-aa5e-510d9628a818\"}}\n"
     ]
    }
   ],
   "source": [
    "createTableWithPath=f\"\"\"\n",
    "CREATE TABLE IF NOT EXISTS delta.`{work_dir}/data/rateCard.delta` (\n",
    "    rateCodeId INT,\n",
    "    rateCodeDesc STRING\n",
    ")\n",
    "USING DELTA\n",
    "\"\"\"\n",
    "spark.sql(createTableWithPath)\n",
    "\n",
    "!ls {work_dir}/data/rateCard.delta/_delta_log\n",
    "!cat {work_dir}/data/rateCard.delta/_delta_log/00000000000000000000.json"
   ]
  },
  {
   "cell_type": "code",
   "execution_count": 6,
   "id": "c1e57f69-0903-4058-8c7d-a1151bf4e500",
   "metadata": {},
   "outputs": [
    {
     "data": {
      "text/html": [
       "<table border='1'>\n",
       "<tr><th>namespace</th></tr>\n",
       "<tr><td>default</td></tr>\n",
       "<tr><td>taxidb</td></tr>\n",
       "</table>\n"
      ],
      "text/plain": [
       "+---------+\n",
       "|namespace|\n",
       "+---------+\n",
       "|  default|\n",
       "|   taxidb|\n",
       "+---------+"
      ]
     },
     "execution_count": 6,
     "metadata": {},
     "output_type": "execute_result"
    }
   ],
   "source": [
    "spark.sql(\"show databases\")"
   ]
  },
  {
   "cell_type": "code",
   "execution_count": 7,
   "id": "7b14a3eb-21a7-4dff-93fb-7478ba8b3e94",
   "metadata": {},
   "outputs": [
    {
     "data": {
      "text/html": [
       "<table border='1'>\n",
       "<tr><th>namespace</th><th>tableName</th><th>isTemporary</th></tr>\n",
       "<tr><td>default</td><td>family</td><td>false</td></tr>\n",
       "<tr><td>default</td><td>users</td><td>false</td></tr>\n",
       "</table>\n"
      ],
      "text/plain": [
       "+---------+---------+-----------+\n",
       "|namespace|tableName|isTemporary|\n",
       "+---------+---------+-----------+\n",
       "|  default|   family|      false|\n",
       "|  default|    users|      false|\n",
       "+---------+---------+-----------+"
      ]
     },
     "execution_count": 7,
     "metadata": {},
     "output_type": "execute_result"
    }
   ],
   "source": [
    "spark.sql(\"show tables\")"
   ]
  },
  {
   "cell_type": "code",
   "execution_count": 8,
   "id": "f9731671-32f1-4cc7-8297-ea7012880bce",
   "metadata": {},
   "outputs": [
    {
     "data": {
      "text/html": [
       "<table border='1'>\n",
       "<tr><th></th></tr>\n",
       "</table>\n"
      ],
      "text/plain": [
       "++\n",
       "||\n",
       "++\n",
       "++"
      ]
     },
     "execution_count": 8,
     "metadata": {},
     "output_type": "execute_result"
    }
   ],
   "source": [
    "createDatabase=f\"\"\"\n",
    "CREATE DATABASE IF NOT EXISTS taxidb;\n",
    "\"\"\"\n",
    "spark.sql(createDatabase)\n",
    "\n",
    "createTableWithTable=f\"\"\"\n",
    "CREATE TABLE IF NOT EXISTS taxidb.rateCard (\n",
    "    rateCodeId INT,\n",
    "    rateCodeDesc STRING\n",
    ") USING DELTA\n",
    "LOCATION '{work_dir}/data/rateCard.delta'\n",
    "\"\"\"\n",
    "spark.sql(createTableWithTable)"
   ]
  },
  {
   "cell_type": "code",
   "execution_count": 9,
   "id": "bad73a85-50e5-40ab-aedd-b8c94e5bff3a",
   "metadata": {},
   "outputs": [
    {
     "data": {
      "text/html": [
       "<table border='1'>\n",
       "<tr><th>namespace</th><th>tableName</th><th>isTemporary</th></tr>\n",
       "<tr><td>taxidb</td><td>greentaxis</td><td>false</td></tr>\n",
       "<tr><td>taxidb</td><td>ratecard</td><td>false</td></tr>\n",
       "</table>\n"
      ],
      "text/plain": [
       "+---------+----------+-----------+\n",
       "|namespace| tableName|isTemporary|\n",
       "+---------+----------+-----------+\n",
       "|   taxidb|greentaxis|      false|\n",
       "|   taxidb|  ratecard|      false|\n",
       "+---------+----------+-----------+"
      ]
     },
     "execution_count": 9,
     "metadata": {},
     "output_type": "execute_result"
    }
   ],
   "source": [
    "spark.sql(\"use taxidb\")\n",
    "spark.sql(\"show tables\")"
   ]
  },
  {
   "cell_type": "code",
   "execution_count": 10,
   "id": "ecc00fd1-696f-401d-89d5-c98d0e04cfc7",
   "metadata": {},
   "outputs": [
    {
     "name": "stdout",
     "output_type": "stream",
     "text": [
      "+----------------------------+-------------------------------------------------------------------------------+-------+\n",
      "|col_name                    |data_type                                                                      |comment|\n",
      "+----------------------------+-------------------------------------------------------------------------------+-------+\n",
      "|rateCodeId                  |int                                                                            |       |\n",
      "|rateCodeDesc                |string                                                                         |       |\n",
      "|                            |                                                                               |       |\n",
      "|# Partitioning              |                                                                               |       |\n",
      "|Not partitioned             |                                                                               |       |\n",
      "|                            |                                                                               |       |\n",
      "|# Detailed Table Information|                                                                               |       |\n",
      "|Name                        |taxidb.ratecard                                                                |       |\n",
      "|Location                    |file:/home/jovyan/work/data/rateCard.delta                                     |       |\n",
      "|Provider                    |delta                                                                          |       |\n",
      "|Owner                       |root                                                                           |       |\n",
      "|Table Properties            |[Type=EXTERNAL,delta.minReaderVersion=1,delta.minWriterVersion=2,external=true]|       |\n",
      "+----------------------------+-------------------------------------------------------------------------------+-------+\n",
      "\n",
      "+----------+------------+\n",
      "|rateCodeId|rateCodeDesc|\n",
      "+----------+------------+\n",
      "+----------+------------+\n",
      "\n"
     ]
    }
   ],
   "source": [
    "spark.sql(\"describe extended ratecard\").show(truncate=False)\n",
    "spark.sql(\"select * from ratecard\").show(truncate=False)"
   ]
  },
  {
   "cell_type": "code",
   "execution_count": 12,
   "id": "03535a83-39e2-477d-ab31-0f6111d6bd29",
   "metadata": {},
   "outputs": [
    {
     "name": "stdout",
     "output_type": "stream",
     "text": [
      "root\n",
      " |-- RateCodeID: integer (nullable = true)\n",
      " |-- RateCodeDesc: string (nullable = true)\n",
      "\n",
      "+----------+---------------------+\n",
      "|RateCodeID|RateCodeDesc         |\n",
      "+----------+---------------------+\n",
      "|1         |Standard Rate        |\n",
      "|2         |JFK                  |\n",
      "|3         |Newark               |\n",
      "|4         |Nassau or Westchester|\n",
      "|5         |Negotiated fare      |\n",
      "|6         |Group ride           |\n",
      "+----------+---------------------+\n",
      "\n"
     ]
    }
   ],
   "source": [
    "csvRateCard = spark.read.format(\"csv\").option(\"inferSchema\", True).option(\"header\", True).load(f\"{work_dir}/data/rateCard.csv\")\n",
    "csvRateCard.printSchema()\n",
    "csvRateCard.show(truncate=False)"
   ]
  },
  {
   "cell_type": "code",
   "execution_count": 13,
   "id": "daa5f410-c2ec-4226-ab4c-b20b076895ca",
   "metadata": {},
   "outputs": [],
   "source": [
    "csvRateCard.write.format(\"delta\").mode(\"overwrite\").saveAsTable(\"taxidb.rateCard\")"
   ]
  },
  {
   "cell_type": "code",
   "execution_count": 14,
   "id": "ba4c2dbb-7722-448d-b63e-5e037013ea59",
   "metadata": {},
   "outputs": [
    {
     "name": "stdout",
     "output_type": "stream",
     "text": [
      "00000000000000000000.json  00000000000000000001.json\n",
      "{\"add\":{\"path\":\"part-00000-879dbb89-ee5a-47d4-ab0d-0e6445663607-c000.snappy.parquet\",\"partitionValues\":{},\"size\":858,\"modificationTime\":1723625669220,\"dataChange\":true,\"stats\":\"{\\\"numRecords\\\":6,\\\"minValues\\\":{\\\"rateCodeId\\\":1,\\\"rateCodeDesc\\\":\\\"Group ride\\\"},\\\"maxValues\\\":{\\\"rateCodeId\\\":6,\\\"rateCodeDesc\\\":\\\"Standard Rate\\\"},\\\"nullCount\\\":{\\\"rateCodeId\\\":0,\\\"rateCodeDesc\\\":0}}\"}}\n",
      "{\"commitInfo\":{\"timestamp\":1723625668130,\"operation\":\"CREATE OR REPLACE TABLE AS SELECT\",\"operationParameters\":{\"isManaged\":\"false\",\"description\":null,\"partitionBy\":\"[]\",\"properties\":\"{}\"},\"readVersion\":0,\"isolationLevel\":\"Serializable\",\"isBlindAppend\":false,\"operationMetrics\":{\"numFiles\":\"1\",\"numOutputRows\":\"6\",\"numOutputBytes\":\"858\"},\"engineInfo\":\"Apache-Spark/3.2.1 Delta-Lake/2.0.0\",\"txnId\":\"5e49e955-4dca-4948-89a1-32cf38bb834f\"}}\n"
     ]
    }
   ],
   "source": [
    "!ls {work_dir}/data/rateCard.delta/_delta_log\n",
    "!cat {work_dir}/data/rateCard.delta/_delta_log/00000000000000000001.json"
   ]
  },
  {
   "cell_type": "code",
   "execution_count": 30,
   "id": "12581b53-a165-455f-815d-75717c4a19c4",
   "metadata": {},
   "outputs": [
    {
     "data": {
      "text/html": [
       "<table border='1'>\n",
       "<tr><th></th></tr>\n",
       "</table>\n"
      ],
      "text/plain": [
       "++\n",
       "||\n",
       "++\n",
       "++"
      ]
     },
     "execution_count": 30,
     "metadata": {},
     "output_type": "execute_result"
    }
   ],
   "source": [
    "# 테이블 드랍의 경우 모든 메타 정보와 데이터 파일은 유지되며, 데이터베이스에 테이블 정보만 삭제됨\n",
    "spark.sql(\"DROP TABLE IF EXISTS taxidb.rateCard\")"
   ]
  },
  {
   "cell_type": "code",
   "execution_count": 31,
   "id": "d6e4e985-e320-483a-88fc-4ba7c21de3de",
   "metadata": {},
   "outputs": [
    {
     "name": "stdout",
     "output_type": "stream",
     "text": [
      "00000000000000000000.json  00000000000000000001.json\n",
      "{\"add\":{\"path\":\"part-00000-879dbb89-ee5a-47d4-ab0d-0e6445663607-c000.snappy.parquet\",\"partitionValues\":{},\"size\":858,\"modificationTime\":1723625669220,\"dataChange\":true,\"stats\":\"{\\\"numRecords\\\":6,\\\"minValues\\\":{\\\"rateCodeId\\\":1,\\\"rateCodeDesc\\\":\\\"Group ride\\\"},\\\"maxValues\\\":{\\\"rateCodeId\\\":6,\\\"rateCodeDesc\\\":\\\"Standard Rate\\\"},\\\"nullCount\\\":{\\\"rateCodeId\\\":0,\\\"rateCodeDesc\\\":0}}\"}}\n",
      "{\"commitInfo\":{\"timestamp\":1723625668130,\"operation\":\"CREATE OR REPLACE TABLE AS SELECT\",\"operationParameters\":{\"isManaged\":\"false\",\"description\":null,\"partitionBy\":\"[]\",\"properties\":\"{}\"},\"readVersion\":0,\"isolationLevel\":\"Serializable\",\"isBlindAppend\":false,\"operationMetrics\":{\"numFiles\":\"1\",\"numOutputRows\":\"6\",\"numOutputBytes\":\"858\"},\"engineInfo\":\"Apache-Spark/3.2.1 Delta-Lake/2.0.0\",\"txnId\":\"5e49e955-4dca-4948-89a1-32cf38bb834f\"}}\n"
     ]
    }
   ],
   "source": [
    "!ls {work_dir}/data/rateCard.delta/_delta_log\n",
    "!cat {work_dir}/data/rateCard.delta/_delta_log/00000000000000000001.json"
   ]
  },
  {
   "cell_type": "code",
   "execution_count": 32,
   "id": "a42922ae-d6e3-42ac-a2db-c9429d88004b",
   "metadata": {},
   "outputs": [
    {
     "data": {
      "text/html": [
       "<table border='1'>\n",
       "<tr><th>namespace</th><th>tableName</th><th>isTemporary</th></tr>\n",
       "</table>\n"
      ],
      "text/plain": [
       "+---------+---------+-----------+\n",
       "|namespace|tableName|isTemporary|\n",
       "+---------+---------+-----------+\n",
       "+---------+---------+-----------+"
      ]
     },
     "execution_count": 32,
     "metadata": {},
     "output_type": "execute_result"
    }
   ],
   "source": [
    "spark.sql(\"use taxidb\")\n",
    "spark.sql(\"show tables\")"
   ]
  },
  {
   "cell_type": "code",
   "execution_count": null,
   "id": "8fc0d9b2-be03-481d-ba8b-f2e0e005e3a8",
   "metadata": {},
   "outputs": [],
   "source": [
    "# Generated Columns from spark 3.4.0\n",
    "spark.sql(f\"\"\"\n",
    "CREATE TABLE taxidb.YellowTaxis (\n",
    "    RideId INT COMMENT 'This is our primary Key column',\n",
    "    VendorId INT,\n",
    "    PickupTime TIMESTAMP,\n",
    "    PickupYear INT GENERATED ALWAYS AS(YEAR (PickupTime)),\n",
    "    PickupMonth INT GENERATED ALWAYS AS(MONTH (PickupTime)),\n",
    "    PickupDay INT GENERATED ALWAYS AS(DAY (PickupTime)),\n",
    "    DropTime TIMESTAMP,\n",
    "    CabNumber STRING COMMENT 'Official Yellow Cab Number'\n",
    ") USING DELTA\n",
    "LOCATION '{work_dir}/data/YellowTaxis.delta'\n",
    "COMMENT 'Table to store Yellow Taxi data'\n",
    "\"\"\")"
   ]
  },
  {
   "cell_type": "code",
   "execution_count": null,
   "id": "c32d8837-4253-4495-a5ad-18184431d742",
   "metadata": {},
   "outputs": [],
   "source": [
    "spark.sql(f\"\"\"\n",
    "INSERT INTO taxidb.YellowTaxis (RideId, VendorId, PickupTime, DropTime, CabNumber)\n",
    "VALUES (5, 101, '2021-7-1T8:43:28UTC+3', '2021-7-1T8:43:28UTC+3', '51-986')\n",
    "\"\"\")\n",
    "# The expression you use in GENERATED ALWAYS AS can be any Spark SQL function that always returns the same result\n",
    "# when given the same argument values, with a few exceptions we will touch on soon\n",
    "spark.sql(f\"\"\"\n",
    "SELECT PickupTime, PickupYear, PickupMonth, PickupDay FROM taxidb.YellowTaxis\n",
    "\"\"\").show(truncate=False)"
   ]
  },
  {
   "cell_type": "code",
   "execution_count": null,
   "id": "fe2ed959-39ee-4ace-994c-f57ff5c4f2ff",
   "metadata": {},
   "outputs": [],
   "source": [
    "# Non deterministic function\n",
    "# uuid() 와 같은 generated column 은 non deterministic expression 으로 사용할 수 없다.\n",
    "# 아래와 같은 expression 의 경우에도 마찬가지\n",
    "# - User-defined functions\n",
    "# - Aggregate functions\n",
    "# - Window functions\n",
    "# - Functions returning multiple rows\n",
    "\n",
    "spark.sql(f\"\"\"\n",
    "CREATE OR REPLACE TABLE default.dummy\n",
    "    ID STRING GENERATED ALWAYS AS (UUID()),\n",
    "    Name STRING\n",
    ") USING DELTA\n",
    "\"\"\")"
   ]
  },
  {
   "cell_type": "code",
   "execution_count": null,
   "id": "87d75d71-d9ad-4f12-b838-adf4cb426cd4",
   "metadata": {},
   "outputs": [],
   "source": []
  }
 ],
 "metadata": {
  "kernelspec": {
   "display_name": "Python 3 (ipykernel)",
   "language": "python",
   "name": "python3"
  },
  "language_info": {
   "codemirror_mode": {
    "name": "ipython",
    "version": 3
   },
   "file_extension": ".py",
   "mimetype": "text/x-python",
   "name": "python",
   "nbconvert_exporter": "python",
   "pygments_lexer": "ipython3",
   "version": "3.9.12"
  }
 },
 "nbformat": 4,
 "nbformat_minor": 5
}
